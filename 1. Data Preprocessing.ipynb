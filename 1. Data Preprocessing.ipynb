{
 "cells": [
  {
   "cell_type": "code",
   "execution_count": null,
   "metadata": {
    "id": "-mSvWSC-L8hZ"
   },
   "outputs": [],
   "source": [
    "import findspark\n",
    "findspark.init()\n",
    "import random\n",
    "import pyspark"
   ]
  },
  {
   "cell_type": "code",
   "execution_count": null,
   "metadata": {
    "id": "9wcoAASyMK9W"
   },
   "outputs": [],
   "source": [
    "import os\n",
    "\n",
    "config = # config setting\n",
    "\n",
    "ss = pyspark.sql.SparkSession.builder.config(conf = config).getOrCreate()\n",
    "sc = ss.sparkContext"
   ]
  },
  {
   "cell_type": "markdown",
   "metadata": {
    "id": "tZyCbKO5JKyi"
   },
   "source": [
    "randomly select 20 files out of total 1000 files as our dataset"
   ]
  },
  {
   "cell_type": "code",
   "execution_count": null,
   "metadata": {
    "id": "27iHuK_jYaYw"
   },
   "outputs": [],
   "source": [
    "sample = []\n",
    "for i in random.sample(range(1000), 20):\n",
    "    start = int( str(i)+'000' )\n",
    "    file = 'mpd.slice.' + str(start) + '-' + str(start+999) + '.json'\n",
    "    sample.append(file)"
   ]
  },
  {
   "cell_type": "code",
   "execution_count": null,
   "metadata": {
    "id": "9OB_tvjRY1FB"
   },
   "outputs": [],
   "source": [
    "# sample = ['mpd.slice.332000-332999.json',\n",
    "#           'mpd.slice.557000-557999.json',\n",
    "#           'mpd.slice.199000-199999.json',\n",
    "#           'mpd.slice.998000-998999.json',\n",
    "#           'mpd.slice.770000-770999.json',\n",
    "#           'mpd.slice.880000-880999.json',\n",
    "#           'mpd.slice.431000-431999.json',\n",
    "#           'mpd.slice.132000-132999.json',\n",
    "#           'mpd.slice.198000-198999.json',\n",
    "#           'mpd.slice.501000-501999.json',\n",
    "#           'mpd.slice.139000-139999.json',\n",
    "#           'mpd.slice.377000-377999.json',\n",
    "#           'mpd.slice.884000-884999.json',\n",
    "#           'mpd.slice.191000-191999.json',\n",
    "#           'mpd.slice.875000-875999.json',\n",
    "#           'mpd.slice.650000-650999.json',\n",
    "#           'mpd.slice.391000-391999.json',\n",
    "#           'mpd.slice.618000-618999.json',\n",
    "#           'mpd.slice.906000-906999.json',\n",
    "#           'mpd.slice.851000-851999.json']"
   ]
  },
  {
   "cell_type": "markdown",
   "metadata": {
    "id": "XBz35cilItrO"
   },
   "source": [
    "## data preprocessing"
   ]
  },
  {
   "cell_type": "code",
   "execution_count": null,
   "metadata": {
    "id": "asHBsn7nZMJo"
   },
   "outputs": [],
   "source": [
    "import json\n",
    "import pandas as pd\n",
    "from pyspark.sql.types import *"
   ]
  },
  {
   "cell_type": "code",
   "execution_count": null,
   "metadata": {
    "id": "BZ6qvJ3_F-yv"
   },
   "outputs": [],
   "source": [
    "file_paths = ['/scratch/ISE495/2020_project_03/team-3/mpd.slice.332000-332999.json',\n",
    "              '/scratch/ISE495/2020_project_03/team-3/mpd.slice.557000-557999.json',\n",
    "              '/scratch/ISE495/2020_project_03/team-3/mpd.slice.199000-199999.json',\n",
    "              '/scratch/ISE495/2020_project_03/team-3/mpd.slice.998000-998999.json',\n",
    "              '/scratch/ISE495/2020_project_03/team-3/mpd.slice.770000-770999.json',\n",
    "              '/scratch/ISE495/2020_project_03/team-3/mpd.slice.880000-880999.json',\n",
    "              '/scratch/ISE495/2020_project_03/team-3/mpd.slice.431000-431999.json',\n",
    "              '/scratch/ISE495/2020_project_03/team-3/mpd.slice.132000-132999.json',\n",
    "              '/scratch/ISE495/2020_project_03/team-3/mpd.slice.198000-198999.json',\n",
    "              '/scratch/ISE495/2020_project_03/team-3/mpd.slice.501000-501999.json',\n",
    "              '/scratch/ISE495/2020_project_03/team-3/mpd.slice.139000-139999.json',\n",
    "              '/scratch/ISE495/2020_project_03/team-3/mpd.slice.377000-377999.json',\n",
    "              '/scratch/ISE495/2020_project_03/team-3/mpd.slice.884000-884999.json',\n",
    "              '/scratch/ISE495/2020_project_03/team-3/mpd.slice.191000-191999.json',\n",
    "              '/scratch/ISE495/2020_project_03/team-3/mpd.slice.875000-875999.json',\n",
    "              '/scratch/ISE495/2020_project_03/team-3/mpd.slice.650000-650999.json',\n",
    "              '/scratch/ISE495/2020_project_03/team-3/mpd.slice.391000-391999.json',\n",
    "              '/scratch/ISE495/2020_project_03/team-3/mpd.slice.618000-618999.json',\n",
    "              '/scratch/ISE495/2020_project_03/team-3/mpd.slice.906000-906999.json',\n",
    "              '/scratch/ISE495/2020_project_03/team-3/mpd.slice.851000-851999.json']"
   ]
  },
  {
   "cell_type": "code",
   "execution_count": null,
   "metadata": {
    "id": "VMICm9lAYDy6"
   },
   "outputs": [],
   "source": [
    "DF = pd.DataFrame()\n",
    "for file in file_paths:\n",
    "  data = json.load(open(file))\n",
    "  DF = pd.concat([DF,pd.DataFrame.from_dict(data['playlists'])])"
   ]
  },
  {
   "cell_type": "code",
   "execution_count": null,
   "metadata": {
    "colab": {
     "base_uri": "https://localhost:8080/"
    },
    "executionInfo": {
     "elapsed": 346,
     "status": "ok",
     "timestamp": 1606157534872,
     "user": {
      "displayName": "Hanchu Guo",
      "photoUrl": "",
      "userId": "16665456785972228142"
     },
     "user_tz": 300
    },
    "id": "wtUEjPIXIg-X",
    "outputId": "a77c9a7e-15ee-4a4e-d33f-ac1ecf3c7abe"
   },
   "outputs": [
    {
     "data": {
      "text/plain": [
       "(20000, 12)"
      ]
     },
     "execution_count": 9,
     "metadata": {
      "tags": []
     },
     "output_type": "execute_result"
    }
   ],
   "source": [
    "DF.shape"
   ]
  },
  {
   "cell_type": "code",
   "execution_count": null,
   "metadata": {
    "colab": {
     "base_uri": "https://localhost:8080/",
     "height": 467
    },
    "executionInfo": {
     "elapsed": 964,
     "status": "ok",
     "timestamp": 1606157539964,
     "user": {
      "displayName": "Hanchu Guo",
      "photoUrl": "",
      "userId": "16665456785972228142"
     },
     "user_tz": 300
    },
    "id": "lEIfo_2BYpMh",
    "outputId": "551a660b-8a5c-4997-a51f-d9e3f2073975"
   },
   "outputs": [
    {
     "data": {
      "text/html": [
       "<div>\n",
       "<style scoped>\n",
       "    .dataframe tbody tr th:only-of-type {\n",
       "        vertical-align: middle;\n",
       "    }\n",
       "\n",
       "    .dataframe tbody tr th {\n",
       "        vertical-align: top;\n",
       "    }\n",
       "\n",
       "    .dataframe thead th {\n",
       "        text-align: right;\n",
       "    }\n",
       "</style>\n",
       "<table border=\"1\" class=\"dataframe\">\n",
       "  <thead>\n",
       "    <tr style=\"text-align: right;\">\n",
       "      <th></th>\n",
       "      <th>name</th>\n",
       "      <th>collaborative</th>\n",
       "      <th>pid</th>\n",
       "      <th>modified_at</th>\n",
       "      <th>num_tracks</th>\n",
       "      <th>num_albums</th>\n",
       "      <th>num_followers</th>\n",
       "      <th>tracks</th>\n",
       "      <th>num_edits</th>\n",
       "      <th>duration_ms</th>\n",
       "      <th>num_artists</th>\n",
       "      <th>description</th>\n",
       "    </tr>\n",
       "  </thead>\n",
       "  <tbody>\n",
       "    <tr>\n",
       "      <th>0</th>\n",
       "      <td>cg</td>\n",
       "      <td>false</td>\n",
       "      <td>332000</td>\n",
       "      <td>1508284800</td>\n",
       "      <td>116</td>\n",
       "      <td>84</td>\n",
       "      <td>1</td>\n",
       "      <td>[{'pos': 0, 'artist_name': 'Dustin Lynch', 'tr...</td>\n",
       "      <td>35</td>\n",
       "      <td>25061399</td>\n",
       "      <td>44</td>\n",
       "      <td>they all whipped</td>\n",
       "    </tr>\n",
       "    <tr>\n",
       "      <th>1</th>\n",
       "      <td>🇺🇸</td>\n",
       "      <td>false</td>\n",
       "      <td>332001</td>\n",
       "      <td>1436140800</td>\n",
       "      <td>38</td>\n",
       "      <td>37</td>\n",
       "      <td>3</td>\n",
       "      <td>[{'pos': 0, 'artist_name': 'Toby Keith', 'trac...</td>\n",
       "      <td>5</td>\n",
       "      <td>8626785</td>\n",
       "      <td>27</td>\n",
       "      <td>NaN</td>\n",
       "    </tr>\n",
       "    <tr>\n",
       "      <th>2</th>\n",
       "      <td>work</td>\n",
       "      <td>false</td>\n",
       "      <td>332002</td>\n",
       "      <td>1504137600</td>\n",
       "      <td>79</td>\n",
       "      <td>41</td>\n",
       "      <td>1</td>\n",
       "      <td>[{'pos': 0, 'artist_name': 'Elizabeth Mitchell...</td>\n",
       "      <td>6</td>\n",
       "      <td>15095666</td>\n",
       "      <td>28</td>\n",
       "      <td>NaN</td>\n",
       "    </tr>\n",
       "    <tr>\n",
       "      <th>3</th>\n",
       "      <td>pick me up</td>\n",
       "      <td>false</td>\n",
       "      <td>332003</td>\n",
       "      <td>1499990400</td>\n",
       "      <td>43</td>\n",
       "      <td>15</td>\n",
       "      <td>1</td>\n",
       "      <td>[{'pos': 0, 'artist_name': 'Kings Kaleidoscope...</td>\n",
       "      <td>12</td>\n",
       "      <td>10429308</td>\n",
       "      <td>9</td>\n",
       "      <td>NaN</td>\n",
       "    </tr>\n",
       "    <tr>\n",
       "      <th>4</th>\n",
       "      <td>playlist</td>\n",
       "      <td>false</td>\n",
       "      <td>332004</td>\n",
       "      <td>1505779200</td>\n",
       "      <td>146</td>\n",
       "      <td>101</td>\n",
       "      <td>1</td>\n",
       "      <td>[{'pos': 0, 'artist_name': 'Ed Sheeran', 'trac...</td>\n",
       "      <td>12</td>\n",
       "      <td>34228482</td>\n",
       "      <td>29</td>\n",
       "      <td>NaN</td>\n",
       "    </tr>\n",
       "  </tbody>\n",
       "</table>\n",
       "</div>"
      ],
      "text/plain": [
       "         name collaborative     pid  modified_at  num_tracks  num_albums  \\\n",
       "0          cg         false  332000   1508284800         116          84   \n",
       "1          🇺🇸         false  332001   1436140800          38          37   \n",
       "2        work         false  332002   1504137600          79          41   \n",
       "3  pick me up         false  332003   1499990400          43          15   \n",
       "4   playlist          false  332004   1505779200         146         101   \n",
       "\n",
       "   num_followers                                             tracks  \\\n",
       "0              1  [{'pos': 0, 'artist_name': 'Dustin Lynch', 'tr...   \n",
       "1              3  [{'pos': 0, 'artist_name': 'Toby Keith', 'trac...   \n",
       "2              1  [{'pos': 0, 'artist_name': 'Elizabeth Mitchell...   \n",
       "3              1  [{'pos': 0, 'artist_name': 'Kings Kaleidoscope...   \n",
       "4              1  [{'pos': 0, 'artist_name': 'Ed Sheeran', 'trac...   \n",
       "\n",
       "   num_edits  duration_ms  num_artists       description  \n",
       "0         35     25061399           44  they all whipped  \n",
       "1          5      8626785           27               NaN  \n",
       "2          6     15095666           28               NaN  \n",
       "3         12     10429308            9               NaN  \n",
       "4         12     34228482           29               NaN  "
      ]
     },
     "execution_count": 10,
     "metadata": {
      "tags": []
     },
     "output_type": "execute_result"
    }
   ],
   "source": [
    "DF.head()"
   ]
  },
  {
   "cell_type": "markdown",
   "metadata": {
    "id": "siHRaYYph9o9"
   },
   "source": [
    "convert pd dataframe to spark df"
   ]
  },
  {
   "cell_type": "code",
   "execution_count": null,
   "metadata": {
    "id": "M6m-w2XDbx7D"
   },
   "outputs": [],
   "source": [
    "schema = StructType([StructField('name',StringType()),\n",
    "                     StructField('collaborative',StringType()),\n",
    "                     StructField('pid',StringType()),\n",
    "                     StructField('modified_at',IntegerType()),\n",
    "                     StructField('num_tracks',IntegerType()),\n",
    "                     StructField('num_albums',IntegerType()),\n",
    "                     StructField('num_followers',IntegerType()),\n",
    "                     StructField('tracks',ArrayType(MapType(StringType(),StringType()))),\n",
    "                     StructField('num_edits',IntegerType()),\n",
    "                     StructField('duration_ms',IntegerType()),\n",
    "                     StructField('num_artists',IntegerType()),\n",
    "                     StructField('description',StringType())])\n",
    "DF2 = ss.createDataFrame(DF,schema)"
   ]
  },
  {
   "cell_type": "code",
   "execution_count": null,
   "metadata": {
    "colab": {
     "base_uri": "https://localhost:8080/"
    },
    "executionInfo": {
     "elapsed": 7152,
     "status": "ok",
     "timestamp": 1606157582718,
     "user": {
      "displayName": "Hanchu Guo",
      "photoUrl": "",
      "userId": "16665456785972228142"
     },
     "user_tz": 300
    },
    "id": "gmsZUVyFZTIL",
    "outputId": "55af7234-2b09-4df5-bade-080fa8282f43"
   },
   "outputs": [
    {
     "name": "stdout",
     "output_type": "stream",
     "text": [
      "+----------------+-------------+------+-----------+----------+----------+-------------+--------------------+---------+-----------+-----------+----------------+\n",
      "|            name|collaborative|   pid|modified_at|num_tracks|num_albums|num_followers|              tracks|num_edits|duration_ms|num_artists|     description|\n",
      "+----------------+-------------+------+-----------+----------+----------+-------------+--------------------+---------+-----------+-----------+----------------+\n",
      "|              cg|        false|332000| 1508284800|       116|        84|            1|[[duration_ms -> ...|       35|   25061399|         44|they all whipped|\n",
      "|            🇺🇸|        false|332001| 1436140800|        38|        37|            3|[[duration_ms -> ...|        5|    8626785|         27|             NaN|\n",
      "|            work|        false|332002| 1504137600|        79|        41|            1|[[duration_ms -> ...|        6|   15095666|         28|             NaN|\n",
      "|      pick me up|        false|332003| 1499990400|        43|        15|            1|[[duration_ms -> ...|       12|   10429308|          9|             NaN|\n",
      "|       playlist |        false|332004| 1505779200|       146|       101|            1|[[duration_ms -> ...|       12|   34228482|         29|             NaN|\n",
      "|            best|        false|332005| 1451520000|        50|        18|            1|[[duration_ms -> ...|       13|   10971119|         14|             NaN|\n",
      "|       workout! |        false|332006| 1509062400|        69|        64|            1|[[duration_ms -> ...|       19|   14778676|         54|             NaN|\n",
      "|           ❤����|        false|332007| 1463788800|        43|        34|            1|[[duration_ms -> ...|       12|   10787068|         24|             NaN|\n",
      "|musica de los 80|        false|332008| 1374019200|        42|        35|            1|[[duration_ms -> ...|        9|   12164285|         27|             NaN|\n",
      "|         May '17|        false|332009| 1494892800|         7|         7|            2|[[duration_ms -> ...|        4|    2587491|          7|             NaN|\n",
      "+----------------+-------------+------+-----------+----------+----------+-------------+--------------------+---------+-----------+-----------+----------------+\n",
      "only showing top 10 rows\n",
      "\n"
     ]
    }
   ],
   "source": [
    "DF2.show(10)"
   ]
  },
  {
   "cell_type": "code",
   "execution_count": null,
   "metadata": {
    "colab": {
     "base_uri": "https://localhost:8080/"
    },
    "executionInfo": {
     "elapsed": 7669,
     "status": "ok",
     "timestamp": 1606696915950,
     "user": {
      "displayName": "Huicong Qian",
      "photoUrl": "https://lh3.googleusercontent.com/a-/AOh14Giug9tTklYnMZRUJRva1qiUyruwLzJFlAo9cIZg=s64",
      "userId": "13622378530222341484"
     },
     "user_tz": 300
    },
    "id": "irihZQz9hKJs",
    "outputId": "0ffbe922-7e6a-49f6-8ba5-122a82f7d488"
   },
   "outputs": [
    {
     "data": {
      "text/plain": [
       "[{'name': 'cg',\n",
       "  'collaborative': 'false',\n",
       "  'pid': '332000',\n",
       "  'modified_at': 1508284800,\n",
       "  'num_tracks': 116,\n",
       "  'num_albums': 84,\n",
       "  'num_followers': 1,\n",
       "  'tracks': [{'duration_ms': '194893',\n",
       "    'artist_uri': 'spotify:artist:1dID9zgn0OV0Y8ud7Mh2tS',\n",
       "    'artist_name': 'Dustin Lynch',\n",
       "    'pos': '0',\n",
       "    'album_name': 'Current Mood',\n",
       "    'track_uri': 'spotify:track:7pxhKtuTwofDIdgHx2DcVK',\n",
       "    'album_uri': 'spotify:album:23cuZhPWDfX1uKD4qwuv7t',\n",
       "    'track_name': \"Seein' Red\"},\n",
       "   {'duration_ms': '199746',\n",
       "    'artist_uri': 'spotify:artist:1n2pb9Tsfe4SwAjmUac6YT',\n",
       "    'artist_name': 'Jake Owen',\n",
       "    'pos': '1',\n",
       "    'album_name': 'American Love',\n",
       "    'track_uri': 'spotify:track:0O1x2tRm8ZpfDbcpOWZp7z',\n",
       "    'album_uri': 'spotify:album:5gsWgFeHRxRkIXGXWPiOIW',\n",
       "    'track_name': 'American Country Love Song'},\n",
       "   {'duration_ms': '202346',\n",
       "    'artist_uri': 'spotify:artist:4MoAOfV4ROWofLG3a3hhBN',\n",
       "    'artist_name': 'Jon Pardi',\n",
       "    'pos': '2',\n",
       "    'album_name': 'California Sunrise',\n",
       "    'track_uri': 'spotify:track:4ly1QBXEwYoDmje9rmEgC4',\n",
       "    'album_uri': 'spotify:album:1DTBcVfk3zXPHRmgpY6rFZ',\n",
       "    'track_name': 'Head Over Boots'},\n",
       "   {'duration_ms': '234587',\n",
       "    'artist_uri': 'spotify:artist:13YmWQJFwgZrd4bf5IjMY4',\n",
       "    'artist_name': 'Brad Paisley',\n",
       "    'pos': '3',\n",
       "    'album_name': 'Without a Fight',\n",
       "    'track_uri': 'spotify:track:7DYswEnZFL6SKaNLTxBf5b',\n",
       "    'album_uri': 'spotify:album:4OJsc7WKARIF6SreqaTyQ6',\n",
       "    'track_name': 'Without a Fight'},\n",
       "   {'duration_ms': '197640',\n",
       "    'artist_uri': 'spotify:artist:78YqeIji3mgAS2K1Maca6x',\n",
       "    'artist_name': 'Dylan Scott',\n",
       "    'pos': '4',\n",
       "    'album_name': 'Dylan Scott',\n",
       "    'track_uri': 'spotify:track:6p5GuyEqQH5pv02ouEyogQ',\n",
       "    'album_uri': 'spotify:album:3OWQ3YIAdVNQyA7CFwJrfZ',\n",
       "    'track_name': 'My Girl'},\n",
       "   {'duration_ms': '190240',\n",
       "    'artist_uri': 'spotify:artist:68abRTdO4meYReMWHvBYb0',\n",
       "    'artist_name': 'Chris Lane',\n",
       "    'pos': '5',\n",
       "    'album_name': 'Girl Problems',\n",
       "    'track_uri': 'spotify:track:17Vry8h1fUTYg8NL6pHhem',\n",
       "    'album_uri': 'spotify:album:2QSiy6dksBLC7alEkA19f7',\n",
       "    'track_name': 'Fix'},\n",
       "   {'duration_ms': '222533',\n",
       "    'artist_uri': 'spotify:artist:718COspgdWOnwOFpJHRZHS',\n",
       "    'artist_name': 'Luke Combs',\n",
       "    'pos': '6',\n",
       "    'album_name': \"This One's for You\",\n",
       "    'track_uri': 'spotify:track:6xHI9KjUjYT0FPtGO8Mxa1',\n",
       "    'album_uri': 'spotify:album:1lhNch5NkOONvFhRPh8qaj',\n",
       "    'track_name': 'Hurricane'},\n",
       "   {'duration_ms': '186253',\n",
       "    'artist_uri': 'spotify:artist:7z5WFjZAIYejWy0NI5lv4T',\n",
       "    'artist_name': 'Dan + Shay',\n",
       "    'pos': '7',\n",
       "    'album_name': 'Where It All Began',\n",
       "    'track_uri': 'spotify:track:4W38RXuQNuoTSwVsQA1OGC',\n",
       "    'album_uri': 'spotify:album:2Zkvy7eARxR3qjKNWMiwMa',\n",
       "    'track_name': \"Nothin' Like You\"},\n",
       "   {'duration_ms': '188999',\n",
       "    'artist_uri': 'spotify:artist:1By9QBFnjZAoI83BZppHlt',\n",
       "    'artist_name': 'Billy Currington',\n",
       "    'pos': '8',\n",
       "    'album_name': 'Summer Forever',\n",
       "    'track_uri': 'spotify:track:4iLPK8QnOvqm0Azbsk2GDn',\n",
       "    'album_uri': 'spotify:album:3OkqAak6KhIQExElXif7UW',\n",
       "    'track_name': \"Don't It\"},\n",
       "   {'duration_ms': '230706',\n",
       "    'artist_uri': 'spotify:artist:4aJTB79uwT4sP0Nb8QGWHc',\n",
       "    'artist_name': 'Joe Nichols',\n",
       "    'pos': '9',\n",
       "    'album_name': 'Crickets',\n",
       "    'track_uri': 'spotify:track:0uRlP6bHbSgBGklmaCMqG7',\n",
       "    'album_uri': 'spotify:album:4maav8jTujRDfFU7AGG7xo',\n",
       "    'track_name': 'Yeah'},\n",
       "   {'duration_ms': '177066',\n",
       "    'artist_uri': 'spotify:artist:1mfDfLsMxYcOOZkzBxvSVW',\n",
       "    'artist_name': 'Cole Swindell',\n",
       "    'pos': '10',\n",
       "    'album_name': 'You Should Be Here',\n",
       "    'track_uri': 'spotify:track:0WyFpxYlBCgH1gMXd26OOr',\n",
       "    'album_uri': 'spotify:album:7EZEhfO3ULNRHwX2jaiGei',\n",
       "    'track_name': 'Flatliner (feat. Dierks Bentley)'},\n",
       "   {'duration_ms': '187586',\n",
       "    'artist_uri': 'spotify:artist:1mfDfLsMxYcOOZkzBxvSVW',\n",
       "    'artist_name': 'Cole Swindell',\n",
       "    'pos': '11',\n",
       "    'album_name': 'Cole Swindell',\n",
       "    'track_uri': 'spotify:track:3y1t2sEahs8idFz2tiYNPO',\n",
       "    'album_uri': 'spotify:album:2mlPEYhK1KwDD45CCCWxaH',\n",
       "    'track_name': 'Let Me See Ya Girl'},\n",
       "   {'duration_ms': '226306',\n",
       "    'artist_uri': 'spotify:artist:1mfDfLsMxYcOOZkzBxvSVW',\n",
       "    'artist_name': 'Cole Swindell',\n",
       "    'pos': '12',\n",
       "    'album_name': 'You Should Be Here',\n",
       "    'track_uri': 'spotify:track:38gZVjeaeR3gcnCzziAxBm',\n",
       "    'album_uri': 'spotify:album:7EZEhfO3ULNRHwX2jaiGei',\n",
       "    'track_name': 'Middle of a Memory'},\n",
       "   {'duration_ms': '201533',\n",
       "    'artist_uri': 'spotify:artist:03tfKFHhDoDqF73vCI3cxn',\n",
       "    'artist_name': 'William Michael Morgan',\n",
       "    'pos': '13',\n",
       "    'album_name': 'Vinyl',\n",
       "    'track_uri': 'spotify:track:4WtkYdCG4n80h08Ep5SmDI',\n",
       "    'album_uri': 'spotify:album:0g5rhDZDPOuaLlxCq0GZ2g',\n",
       "    'track_name': 'I Met a Girl'},\n",
       "   {'duration_ms': '198120',\n",
       "    'artist_uri': 'spotify:artist:03tfKFHhDoDqF73vCI3cxn',\n",
       "    'artist_name': 'William Michael Morgan',\n",
       "    'pos': '14',\n",
       "    'album_name': 'Vinyl',\n",
       "    'track_uri': 'spotify:track:5tkZ9CicFzBWBGjs1QbhSD',\n",
       "    'album_uri': 'spotify:album:0g5rhDZDPOuaLlxCq0GZ2g',\n",
       "    'track_name': 'Vinyl'},\n",
       "   {'duration_ms': '236226',\n",
       "    'artist_uri': 'spotify:artist:0qSX3s5pJnAlSsgsCne8Cz',\n",
       "    'artist_name': 'Brett Eldredge',\n",
       "    'pos': '15',\n",
       "    'album_name': 'Illinois',\n",
       "    'track_uri': 'spotify:track:1XazlqB4YAtvouCmJPWXlM',\n",
       "    'album_uri': 'spotify:album:5Og3UBs6tCL47yee1ukYgw',\n",
       "    'track_name': 'Wanna Be That Song'},\n",
       "   {'duration_ms': '231040',\n",
       "    'artist_uri': 'spotify:artist:3FfvYsEGaIb52QPXhg4DcH',\n",
       "    'artist_name': 'Jason Aldean',\n",
       "    'pos': '16',\n",
       "    'album_name': 'Old Boots, New Dirt',\n",
       "    'track_uri': 'spotify:track:5pgx4Q33u1c1jlpE64WVGY',\n",
       "    'album_uri': 'spotify:album:2RIu1R2av2tWEu2MloUE6u',\n",
       "    'track_name': 'Tonight Looks Good on You'},\n",
       "   {'duration_ms': '203052',\n",
       "    'artist_uri': 'spotify:artist:0q2lY1ZzFckzciuoMtUvck',\n",
       "    'artist_name': 'Canaan Smith',\n",
       "    'pos': '17',\n",
       "    'album_name': 'Bronco',\n",
       "    'track_uri': 'spotify:track:2QVzUws1l5mzZ4v46tGHrC',\n",
       "    'album_uri': 'spotify:album:40hl9x5G7YelVvXQGroLa2',\n",
       "    'track_name': 'Love You Like That'},\n",
       "   {'duration_ms': '185413',\n",
       "    'artist_uri': 'spotify:artist:1dID9zgn0OV0Y8ud7Mh2tS',\n",
       "    'artist_name': 'Dustin Lynch',\n",
       "    'pos': '18',\n",
       "    'album_name': \"Where It's At\",\n",
       "    'track_uri': 'spotify:track:2MNapHbu7QASoukvVVIxyr',\n",
       "    'album_uri': 'spotify:album:4ZSQEnZOGWEW3XQOAzt477',\n",
       "    'track_name': 'Mind Reader'},\n",
       "   {'duration_ms': '180146',\n",
       "    'artist_uri': 'spotify:artist:1dID9zgn0OV0Y8ud7Mh2tS',\n",
       "    'artist_name': 'Dustin Lynch',\n",
       "    'pos': '19',\n",
       "    'album_name': 'Dustin Lynch',\n",
       "    'track_uri': 'spotify:track:4KrPeCUgCsu3NAcfdl9ylY',\n",
       "    'album_uri': 'spotify:album:3lmCslpaoa1acoJ4koOnCY',\n",
       "    'track_name': 'Wild In Your Smile'},\n",
       "   {'duration_ms': '251333',\n",
       "    'artist_uri': 'spotify:artist:5vngPClqofybhPERIqQMYd',\n",
       "    'artist_name': 'George Strait',\n",
       "    'pos': '20',\n",
       "    'album_name': 'Love Is Everything',\n",
       "    'track_uri': 'spotify:track:19PJ75UGKjpBo0muDNyxPW',\n",
       "    'album_uri': 'spotify:album:2tJoaDnwr0xWHD4OriSNtB',\n",
       "    'track_name': 'Give It All We Got Tonight'},\n",
       "   {'duration_ms': '198840',\n",
       "    'artist_uri': 'spotify:artist:6ktyNEnEukKzskQEiXgCFD',\n",
       "    'artist_name': 'Craig Morgan',\n",
       "    'pos': '21',\n",
       "    'album_name': \"The Journey (Livin' Hits)\",\n",
       "    'track_uri': 'spotify:track:5UY3Vzkc5INzJ3wBJm5FlD',\n",
       "    'album_uri': 'spotify:album:3q3vQKnkRSqCjjTAc6I5ai',\n",
       "    'track_name': \"Wake up Lovin' You\"},\n",
       "   {'duration_ms': '233480',\n",
       "    'artist_uri': 'spotify:artist:1UTPBmNbXNTittyMJrNkvw',\n",
       "    'artist_name': 'Blake Shelton',\n",
       "    'pos': '22',\n",
       "    'album_name': 'BRINGING BACK THE SUNSHINE',\n",
       "    'track_uri': 'spotify:track:0p1HtkrNYxv0iDfEKwXSTp',\n",
       "    'album_uri': 'spotify:album:0daIqjuhsQqXoeII3pBSeT',\n",
       "    'track_name': 'Sangria'},\n",
       "   {'duration_ms': '163066',\n",
       "    'artist_uri': 'spotify:artist:070kGpqtESdDsLb3gdMIyx',\n",
       "    'artist_name': 'Easton Corbin',\n",
       "    'pos': '23',\n",
       "    'album_name': 'All Over The Road',\n",
       "    'track_uri': 'spotify:track:6XD3HMATLswheYevIfKkSi',\n",
       "    'album_uri': 'spotify:album:48vOVvwuTXRNdiaW8NpAJ3',\n",
       "    'track_name': 'All Over The Road'},\n",
       "   {'duration_ms': '227986',\n",
       "    'artist_uri': 'spotify:artist:1mfDfLsMxYcOOZkzBxvSVW',\n",
       "    'artist_name': 'Cole Swindell',\n",
       "    'pos': '24',\n",
       "    'album_name': 'Cole Swindell',\n",
       "    'track_uri': 'spotify:track:5BtS8w1kkjLV1BbvB0t12u',\n",
       "    'album_uri': 'spotify:album:2mlPEYhK1KwDD45CCCWxaH',\n",
       "    'track_name': 'Hope You Get Lonely Tonight'},\n",
       "   {'duration_ms': '219973',\n",
       "    'artist_uri': 'spotify:artist:0BvkDsjIUla7X0k6CSWh1I',\n",
       "    'artist_name': 'Luke Bryan',\n",
       "    'pos': '25',\n",
       "    'album_name': 'Tailgates & Tanlines',\n",
       "    'track_uri': 'spotify:track:0cV4xwUA4ue2deqq4CZFko',\n",
       "    'album_uri': 'spotify:album:4ybWq0AegFFAvHULAe7q0K',\n",
       "    'track_name': \"I Don't Want This Night to End\"},\n",
       "   {'duration_ms': '233920',\n",
       "    'artist_uri': 'spotify:artist:0BvkDsjIUla7X0k6CSWh1I',\n",
       "    'artist_name': 'Luke Bryan',\n",
       "    'pos': '26',\n",
       "    'album_name': \"Spring Break...Checkin' Out\",\n",
       "    'track_uri': 'spotify:track:2T1KIjk0jblquN5EI8lsJK',\n",
       "    'album_uri': 'spotify:album:7h35A9nSA5ZaQ2smItJNz8',\n",
       "    'track_name': 'Night One'},\n",
       "   {'duration_ms': '180720',\n",
       "    'artist_uri': 'spotify:artist:30e8DmahrEamvLbFRPdWmk',\n",
       "    'artist_name': 'Justin Moore',\n",
       "    'pos': '27',\n",
       "    'album_name': 'Off The Beaten Path',\n",
       "    'track_uri': 'spotify:track:5ZMFVgZSYvbq3SmgRwaGMa',\n",
       "    'album_uri': 'spotify:album:7uCnHbfLZEdH1733LZ2i2F',\n",
       "    'track_name': 'Point At You'},\n",
       "   {'duration_ms': '190587',\n",
       "    'artist_uri': 'spotify:artist:6pBNfggcZZDCmb0p92OnGn',\n",
       "    'artist_name': 'Chase Rice',\n",
       "    'pos': '28',\n",
       "    'album_name': 'Ignite the Night',\n",
       "    'track_uri': 'spotify:track:1qxINnTuff87Pj1lvKbGxy',\n",
       "    'album_uri': 'spotify:album:4LTFy1RLwpzADCbAOTQqVz',\n",
       "    'track_name': 'Ready Set Roll'},\n",
       "   {'duration_ms': '236800',\n",
       "    'artist_uri': 'spotify:artist:4DZGvSv2oMkBUnPz67E6z6',\n",
       "    'artist_name': 'David Nail',\n",
       "    'pos': '29',\n",
       "    'album_name': \"I'm A Fire\",\n",
       "    'track_uri': 'spotify:track:4PJXT82AZtlDW4Q71b43oz',\n",
       "    'album_uri': 'spotify:album:53ljIT3F5IV2YP0fVdlSGo',\n",
       "    'track_name': \"Whatever She's Got\"},\n",
       "   {'duration_ms': '187400',\n",
       "    'artist_uri': 'spotify:artist:6x2LnllRG5uGarZMsD4iO8',\n",
       "    'artist_name': 'Thomas Rhett',\n",
       "    'pos': '30',\n",
       "    'album_name': 'It Goes Like This',\n",
       "    'track_uri': 'spotify:track:4O1CExxinEpKZi3861NlTK',\n",
       "    'album_uri': 'spotify:album:2ZHYOFW5giX6a4n5eqTnUB',\n",
       "    'track_name': 'Get Me Some Of That'},\n",
       "   {'duration_ms': '179293',\n",
       "    'artist_uri': 'spotify:artist:0qSX3s5pJnAlSsgsCne8Cz',\n",
       "    'artist_name': 'Brett Eldredge',\n",
       "    'pos': '31',\n",
       "    'album_name': 'Bring You Back',\n",
       "    'track_uri': 'spotify:track:3un2KQUaQ2brEpd8dK93wI',\n",
       "    'album_uri': 'spotify:album:7weU5IWFfeueNG5V68CTTT',\n",
       "    'track_name': 'Beat Of The Music'},\n",
       "   {'duration_ms': '187480',\n",
       "    'artist_uri': 'spotify:artist:30e8DmahrEamvLbFRPdWmk',\n",
       "    'artist_name': 'Justin Moore',\n",
       "    'pos': '32',\n",
       "    'album_name': \"Kinda Don't Care\",\n",
       "    'track_uri': 'spotify:track:1TGJxtVHgPHKVt6K7sPn1T',\n",
       "    'album_uri': 'spotify:album:0S5QmbBEftEpSgPd9uYgQv',\n",
       "    'track_name': 'You Look Like I Need A Drink'},\n",
       "   {'duration_ms': '214949',\n",
       "    'artist_uri': 'spotify:artist:6pBNfggcZZDCmb0p92OnGn',\n",
       "    'artist_name': 'Chase Rice',\n",
       "    'pos': '33',\n",
       "    'album_name': 'Ignite the Night',\n",
       "    'track_uri': 'spotify:track:4CgEARPGRltAQaJr1tRsoE',\n",
       "    'album_uri': 'spotify:album:4LTFy1RLwpzADCbAOTQqVz',\n",
       "    'track_name': 'Gonna Wanna Tonight'},\n",
       "   {'duration_ms': '220346',\n",
       "    'artist_uri': 'spotify:artist:070kGpqtESdDsLb3gdMIyx',\n",
       "    'artist_name': 'Easton Corbin',\n",
       "    'pos': '34',\n",
       "    'album_name': 'All Over The Road',\n",
       "    'track_uri': 'spotify:track:6z1frj1JhCZhgKzUZUNU31',\n",
       "    'album_uri': 'spotify:album:48vOVvwuTXRNdiaW8NpAJ3',\n",
       "    'track_name': 'Are You With Me'},\n",
       "   {'duration_ms': '211226',\n",
       "    'artist_uri': 'spotify:artist:68abRTdO4meYReMWHvBYb0',\n",
       "    'artist_name': 'Chris Lane',\n",
       "    'pos': '35',\n",
       "    'album_name': 'Girl Problems',\n",
       "    'track_uri': 'spotify:track:6VB64hpnpRNqukYsIX76uo',\n",
       "    'album_uri': 'spotify:album:2QSiy6dksBLC7alEkA19f7',\n",
       "    'track_name': 'For Her'},\n",
       "   {'duration_ms': '208360',\n",
       "    'artist_uri': 'spotify:artist:0u2FHSq3ln94y5Q57xazwf',\n",
       "    'artist_name': 'Keith Urban',\n",
       "    'pos': '36',\n",
       "    'album_name': 'Ripcord',\n",
       "    'track_uri': 'spotify:track:56PtcCDfdpMYt4LUULMEJx',\n",
       "    'album_uri': 'spotify:album:1r7ABqzNXQnUPAH3ZjrHMn',\n",
       "    'track_name': 'Break On Me'},\n",
       "   {'duration_ms': '226866',\n",
       "    'artist_uri': 'spotify:artist:0BvkDsjIUla7X0k6CSWh1I',\n",
       "    'artist_name': 'Luke Bryan',\n",
       "    'pos': '37',\n",
       "    'album_name': 'Crash My Party',\n",
       "    'track_uri': 'spotify:track:03fT3OHB9KyMtGMt2zwqCT',\n",
       "    'album_uri': 'spotify:album:5M8gr5RV2eR6UkztC69ogB',\n",
       "    'track_name': 'Play It Again'},\n",
       "   {'duration_ms': '213546',\n",
       "    'artist_uri': 'spotify:artist:0BvkDsjIUla7X0k6CSWh1I',\n",
       "    'artist_name': 'Luke Bryan',\n",
       "    'pos': '38',\n",
       "    'album_name': 'Tailgates & Tanlines',\n",
       "    'track_uri': 'spotify:track:3b7CDTKB0SRTmQ6ytYi5vZ',\n",
       "    'album_uri': 'spotify:album:4ybWq0AegFFAvHULAe7q0K',\n",
       "    'track_name': 'Drunk On You'},\n",
       "   {'duration_ms': '179573',\n",
       "    'artist_uri': 'spotify:artist:0BvkDsjIUla7X0k6CSWh1I',\n",
       "    'artist_name': 'Luke Bryan',\n",
       "    'pos': '39',\n",
       "    'album_name': 'Kill The Lights',\n",
       "    'track_uri': 'spotify:track:696pjkYV7x0adMqEQYnBzP',\n",
       "    'album_uri': 'spotify:album:0WtCqmpVN7rRGfDMSWSXBA',\n",
       "    'track_name': 'Kill The Lights'},\n",
       "   {'duration_ms': '212506',\n",
       "    'artist_uri': 'spotify:artist:0BvkDsjIUla7X0k6CSWh1I',\n",
       "    'artist_name': 'Luke Bryan',\n",
       "    'pos': '40',\n",
       "    'album_name': 'Crash My Party',\n",
       "    'track_uri': 'spotify:track:4onY9xh40OE5wIecwjUinG',\n",
       "    'album_uri': 'spotify:album:5uXnz1avW5OxFmroX5eSBu',\n",
       "    'track_name': 'She Get Me High'},\n",
       "   {'duration_ms': '223400',\n",
       "    'artist_uri': 'spotify:artist:0BvkDsjIUla7X0k6CSWh1I',\n",
       "    'artist_name': 'Luke Bryan',\n",
       "    'pos': '41',\n",
       "    'album_name': 'Crash My Party',\n",
       "    'track_uri': 'spotify:track:2Vs9xFrrZijPdNCRonf4eD',\n",
       "    'album_uri': 'spotify:album:5uXnz1avW5OxFmroX5eSBu',\n",
       "    'track_name': \"Good Lookin' Girl\"},\n",
       "   {'duration_ms': '234760',\n",
       "    'artist_uri': 'spotify:artist:0BvkDsjIUla7X0k6CSWh1I',\n",
       "    'artist_name': 'Luke Bryan',\n",
       "    'pos': '42',\n",
       "    'album_name': 'Crash My Party',\n",
       "    'track_uri': 'spotify:track:6GBUsjHfZuweYf5lQEz6mP',\n",
       "    'album_uri': 'spotify:album:5M8gr5RV2eR6UkztC69ogB',\n",
       "    'track_name': 'Crash My Party'},\n",
       "   {'duration_ms': '239506',\n",
       "    'artist_uri': 'spotify:artist:1UTPBmNbXNTittyMJrNkvw',\n",
       "    'artist_name': 'Blake Shelton',\n",
       "    'pos': '43',\n",
       "    'album_name': 'Based on a True Story...',\n",
       "    'track_uri': 'spotify:track:1zvQt99d5oTkEQLmSoO1yu',\n",
       "    'album_uri': 'spotify:album:6MzrSTAQdDR92tHLLAhYp0',\n",
       "    'track_name': 'Mine Would Be You'},\n",
       "   {'duration_ms': '229533',\n",
       "    'artist_uri': 'spotify:artist:1UTPBmNbXNTittyMJrNkvw',\n",
       "    'artist_name': 'Blake Shelton',\n",
       "    'pos': '44',\n",
       "    'album_name': 'Loaded: The Best Of Blake Shelton',\n",
       "    'track_uri': 'spotify:track:68Pux358EOhXmQqln37bj4',\n",
       "    'album_uri': 'spotify:album:7qyfoJ9YCVfBnePdxBFbhx',\n",
       "    'track_name': 'God Gave Me You'},\n",
       "   {'duration_ms': '210720',\n",
       "    'artist_uri': 'spotify:artist:1UTPBmNbXNTittyMJrNkvw',\n",
       "    'artist_name': 'Blake Shelton',\n",
       "    'pos': '45',\n",
       "    'album_name': 'Loaded: The Best Of Blake Shelton',\n",
       "    'track_uri': 'spotify:track:0y44Oz1T9uWDKg4SFDWRWH',\n",
       "    'album_uri': 'spotify:album:7qyfoJ9YCVfBnePdxBFbhx',\n",
       "    'track_name': 'Honey Bee'},\n",
       "   {'duration_ms': '235386',\n",
       "    'artist_uri': 'spotify:artist:6roFdX1y5BYSbp60OTJWMd',\n",
       "    'artist_name': 'Tim McGraw',\n",
       "    'pos': '46',\n",
       "    'album_name': 'Sundown Heaven Town',\n",
       "    'track_uri': 'spotify:track:3LbvNFkqDTrE1liGMmZBDL',\n",
       "    'album_uri': 'spotify:album:39ZUc3Efz2TH8RbPeDTMOB',\n",
       "    'track_name': 'Shotgun Rider'},\n",
       "   {'duration_ms': '215226',\n",
       "    'artist_uri': 'spotify:artist:6roFdX1y5BYSbp60OTJWMd',\n",
       "    'artist_name': 'Tim McGraw',\n",
       "    'pos': '47',\n",
       "    'album_name': 'Love Story',\n",
       "    'track_uri': 'spotify:track:1VuFPJ1EI9mtc6FmK3RMFL',\n",
       "    'album_uri': 'spotify:album:04n1d6ioeumQRlAj0JBID2',\n",
       "    'track_name': 'Just to See You Smile'},\n",
       "   {'duration_ms': '277400',\n",
       "    'artist_uri': 'spotify:artist:6roFdX1y5BYSbp60OTJWMd',\n",
       "    'artist_name': 'Tim McGraw',\n",
       "    'pos': '48',\n",
       "    'album_name': 'Number One Hits',\n",
       "    'track_uri': 'spotify:track:2D2tn77f5ZrADmf8h4zR3t',\n",
       "    'album_uri': 'spotify:album:1ckBGyrkltenXO6WNFkqxj',\n",
       "    'track_name': 'Felt Good On My Lips'},\n",
       "   {'duration_ms': '243520',\n",
       "    'artist_uri': 'spotify:artist:3grHWM9bx2E9vwJCdlRv9O',\n",
       "    'artist_name': 'Kenny Chesney',\n",
       "    'pos': '49',\n",
       "    'album_name': \"Hemingway's Whiskey\",\n",
       "    'track_uri': 'spotify:track:3pkzJjJXfdDjhpXx639MIH',\n",
       "    'album_uri': 'spotify:album:0EJVUQGqNRxYBBCS0OLqY7',\n",
       "    'track_name': 'Somewhere With You'},\n",
       "   {'duration_ms': '266920',\n",
       "    'artist_uri': 'spotify:artist:13YmWQJFwgZrd4bf5IjMY4',\n",
       "    'artist_name': 'Brad Paisley',\n",
       "    'pos': '50',\n",
       "    'album_name': 'Original Album Classics',\n",
       "    'track_uri': 'spotify:track:6jsvHrnb4TFp9X4Samx3jD',\n",
       "    'album_uri': 'spotify:album:5MQaOex0UOSUqbQolWKWjg',\n",
       "    'track_name': \"She's Everything\"},\n",
       "   {'duration_ms': '323040',\n",
       "    'artist_uri': 'spotify:artist:0u2FHSq3ln94y5Q57xazwf',\n",
       "    'artist_name': 'Keith Urban',\n",
       "    'pos': '51',\n",
       "    'album_name': 'Golden Road',\n",
       "    'track_uri': 'spotify:track:6oBWomqWwisfkdCeCZYD7V',\n",
       "    'album_uri': 'spotify:album:56k96UDsZd4nBpNZrY5fOF',\n",
       "    'track_name': 'Somebody Like You'},\n",
       "   {'duration_ms': '199746',\n",
       "    'artist_uri': 'spotify:artist:070kGpqtESdDsLb3gdMIyx',\n",
       "    'artist_name': 'Easton Corbin',\n",
       "    'pos': '52',\n",
       "    'album_name': 'About To Get Real',\n",
       "    'track_uri': 'spotify:track:6WCqjXvMxAN2yP4dzeoyhF',\n",
       "    'album_uri': 'spotify:album:4ac8fv4VYxKSLoSz1L8SjO',\n",
       "    'track_name': 'Baby Be My Love Song'},\n",
       "   {'duration_ms': '228186',\n",
       "    'artist_uri': 'spotify:artist:0u2FHSq3ln94y5Q57xazwf',\n",
       "    'artist_name': 'Keith Urban',\n",
       "    'pos': '53',\n",
       "    'album_name': 'Defying Gravity',\n",
       "    'track_uri': 'spotify:track:1Q8BwH9SLmp5kq8JeEh5qk',\n",
       "    'album_uri': 'spotify:album:2FiijtcVKr2b6UJgar7Cdk',\n",
       "    'track_name': 'Sweet Thing'},\n",
       "   {'duration_ms': '280853',\n",
       "    'artist_uri': 'spotify:artist:6roFdX1y5BYSbp60OTJWMd',\n",
       "    'artist_name': 'Tim McGraw',\n",
       "    'pos': '54',\n",
       "    'album_name': 'Love Story',\n",
       "    'track_uri': 'spotify:track:2ruFSNVfeUgYdbo1Nhm8PI',\n",
       "    'album_uri': 'spotify:album:04n1d6ioeumQRlAj0JBID2',\n",
       "    'track_name': 'My Best Friend'},\n",
       "   {'duration_ms': '241613',\n",
       "    'artist_uri': 'spotify:artist:0BvkDsjIUla7X0k6CSWh1I',\n",
       "    'artist_name': 'Luke Bryan',\n",
       "    'pos': '55',\n",
       "    'album_name': 'Kill The Lights',\n",
       "    'track_uri': 'spotify:track:5XFu5S1vBY7sNHlheCapOz',\n",
       "    'album_uri': 'spotify:album:0WtCqmpVN7rRGfDMSWSXBA',\n",
       "    'track_name': 'Strip It Down'},\n",
       "   {'duration_ms': '210573',\n",
       "    'artist_uri': 'spotify:artist:5Zq7R5qmi58ByYyBQTlNuk',\n",
       "    'artist_name': 'Lee Brice',\n",
       "    'pos': '56',\n",
       "    'album_name': \"I Don't Dance\",\n",
       "    'track_uri': 'spotify:track:64BRpXYAYAw9UFtfSfoXKf',\n",
       "    'album_uri': 'spotify:album:1Ug5qpIXouUHY5hpFj6575',\n",
       "    'track_name': \"That don't sound like You\"},\n",
       "   {'duration_ms': '199853',\n",
       "    'artist_uri': 'spotify:artist:0BvkDsjIUla7X0k6CSWh1I',\n",
       "    'artist_name': 'Luke Bryan',\n",
       "    'pos': '57',\n",
       "    'album_name': 'Kill The Lights',\n",
       "    'track_uri': 'spotify:track:386DfI5sZ0eJi1i6SZVqLw',\n",
       "    'album_uri': 'spotify:album:0WtCqmpVN7rRGfDMSWSXBA',\n",
       "    'track_name': 'Way Way Back'},\n",
       "   {'duration_ms': '273586',\n",
       "    'artist_uri': 'spotify:artist:0u2FHSq3ln94y5Q57xazwf',\n",
       "    'artist_name': 'Keith Urban',\n",
       "    'pos': '58',\n",
       "    'album_name': 'Get Closer',\n",
       "    'track_uri': 'spotify:track:5inaLuIZnBLS2rIpM6T2lr',\n",
       "    'album_uri': 'spotify:album:4qQj8UZRD03bQjMRuM3q6v',\n",
       "    'track_name': 'Long Hot Summer'},\n",
       "   {'duration_ms': '239400',\n",
       "    'artist_uri': 'spotify:artist:0u2FHSq3ln94y5Q57xazwf',\n",
       "    'artist_name': 'Keith Urban',\n",
       "    'pos': '59',\n",
       "    'album_name': 'Fuse',\n",
       "    'track_uri': 'spotify:track:1JEHGggblzBijoYmPoAmf9',\n",
       "    'album_uri': 'spotify:album:6LJH0InZpmgymwZ3hpsUYD',\n",
       "    'track_name': 'Even The Stars Fall 4 U'},\n",
       "   {'duration_ms': '228906',\n",
       "    'artist_uri': 'spotify:artist:0qSX3s5pJnAlSsgsCne8Cz',\n",
       "    'artist_name': 'Brett Eldredge',\n",
       "    'pos': '60',\n",
       "    'album_name': 'Bring You Back',\n",
       "    'track_uri': 'spotify:track:5FVuERsYqtKKAaWe62NBnv',\n",
       "    'album_uri': 'spotify:album:7weU5IWFfeueNG5V68CTTT',\n",
       "    'track_name': 'Mean To Me'},\n",
       "   {'duration_ms': '168332',\n",
       "    'artist_uri': 'spotify:artist:0q2lY1ZzFckzciuoMtUvck',\n",
       "    'artist_name': 'Canaan Smith',\n",
       "    'pos': '61',\n",
       "    'album_name': 'Bronco',\n",
       "    'track_uri': 'spotify:track:4K7dgGjZ0VxlsAOmhxIBXP',\n",
       "    'album_uri': 'spotify:album:40hl9x5G7YelVvXQGroLa2',\n",
       "    'track_name': 'Mad Love'},\n",
       "   {'duration_ms': '269346',\n",
       "    'artist_uri': 'spotify:artist:5BKzvAPtNXnt0LwzGvKOH3',\n",
       "    'artist_name': 'Aaron Watson',\n",
       "    'pos': '62',\n",
       "    'album_name': 'The Underdog',\n",
       "    'track_uri': 'spotify:track:5ZlPmjDhZi1qQWVHiaU7MU',\n",
       "    'album_uri': 'spotify:album:0WpJ5lF5E7CmILsqKWE4Lm',\n",
       "    'track_name': 'That Look'},\n",
       "   {'duration_ms': '199013',\n",
       "    'artist_uri': 'spotify:artist:070kGpqtESdDsLb3gdMIyx',\n",
       "    'artist_name': 'Easton Corbin',\n",
       "    'pos': '63',\n",
       "    'album_name': 'All Over The Road',\n",
       "    'track_uri': 'spotify:track:5qNkZdbdfL9tQm1ppZmUrW',\n",
       "    'album_uri': 'spotify:album:48vOVvwuTXRNdiaW8NpAJ3',\n",
       "    'track_name': \"Lovin' You Is Fun\"},\n",
       "   {'duration_ms': '190666',\n",
       "    'artist_uri': 'spotify:artist:2COi3lJPZHP2CjJBfofGwh',\n",
       "    'artist_name': 'Greg Bates',\n",
       "    'pos': '64',\n",
       "    'album_name': 'Did It For The Girl',\n",
       "    'track_uri': 'spotify:track:1TKXEcpmuV3FIOvzVHsTeR',\n",
       "    'album_uri': 'spotify:album:77nnEiLjwidmY18RCAYLJ7',\n",
       "    'track_name': 'Did It For The Girl'},\n",
       "   {'duration_ms': '150266',\n",
       "    'artist_uri': 'spotify:artist:2qgvmDsc4jrqbAbjq1HGM2',\n",
       "    'artist_name': 'Rodney Atkins',\n",
       "    'pos': '65',\n",
       "    'album_name': 'Greatest Hits',\n",
       "    'track_uri': 'spotify:track:23xpUWW82seMXmy6Caa0Jr',\n",
       "    'album_uri': 'spotify:album:7MrGi6ZuozUbEevhFTo8dw',\n",
       "    'track_name': 'Eat Sleep Love You Repeat'},\n",
       "   {'duration_ms': '188253',\n",
       "    'artist_uri': 'spotify:artist:3oSJ7TBVCWMDMiYjXNiCKE',\n",
       "    'artist_name': 'Kane Brown',\n",
       "    'pos': '66',\n",
       "    'album_name': 'Kane Brown',\n",
       "    'track_uri': 'spotify:track:7zVCrzzEJU7u24sbJPXA5W',\n",
       "    'album_uri': 'spotify:album:4hhvgHjPqUOAYkclDkhL2T',\n",
       "    'track_name': 'What Ifs'},\n",
       "   {'duration_ms': '215013',\n",
       "    'artist_uri': 'spotify:artist:1YSoHvvSAY0oOJW7VxJx3M',\n",
       "    'artist_name': 'Trent Harmon',\n",
       "    'pos': '67',\n",
       "    'album_name': 'Trent Harmon',\n",
       "    'track_uri': 'spotify:track:6VzugG03A5OieXT0BZmZxe',\n",
       "    'album_uri': 'spotify:album:49yGJcukFJpH2PexP1yTe8',\n",
       "    'track_name': 'There’s A Girl'},\n",
       "   {'duration_ms': '224853',\n",
       "    'artist_uri': 'spotify:artist:0fiWOxhsBsQQvFDtxUQWo0',\n",
       "    'artist_name': 'Brett Young',\n",
       "    'pos': '68',\n",
       "    'album_name': 'Brett Young',\n",
       "    'track_uri': 'spotify:track:10M2Ex445zw585Ducldzkw',\n",
       "    'album_uri': 'spotify:album:6MTPPsqX8KnmDWmnQmbxJ5',\n",
       "    'track_name': \"In Case You Didn't Know\"},\n",
       "   {'duration_ms': '214177',\n",
       "    'artist_uri': 'spotify:artist:7lDVEkjIURPMyUYwoQRrpw',\n",
       "    'artist_name': 'Ryan Hurd',\n",
       "    'pos': '69',\n",
       "    'album_name': 'Ryan Hurd - EP',\n",
       "    'track_uri': 'spotify:track:1vtlFENFwePxExgcz8STd8',\n",
       "    'album_uri': 'spotify:album:6wVnoDiRPI8RDgQT2RH3PO',\n",
       "    'track_name': 'Hold You Back'},\n",
       "   {'duration_ms': '234640',\n",
       "    'artist_uri': 'spotify:artist:3VStI6m5Ig9FAyUaa0lYAP',\n",
       "    'artist_name': 'James Otto',\n",
       "    'pos': '70',\n",
       "    'album_name': 'Sunset Man',\n",
       "    'track_uri': 'spotify:track:4b0XF7CDpJEBAdVHMw7amV',\n",
       "    'album_uri': 'spotify:album:79uExtsVJH2aNcS2Xu4Cim',\n",
       "    'track_name': \"Just Got Started Lovin' You\"},\n",
       "   {'duration_ms': '224960',\n",
       "    'artist_uri': 'spotify:artist:0oBEeN6BCxEgMogzThqrPf',\n",
       "    'artist_name': 'Big & Rich',\n",
       "    'pos': '71',\n",
       "    'album_name': 'Gravity',\n",
       "    'track_uri': 'spotify:track:0WgQTMtmw8qJievyeqfnnS',\n",
       "    'album_uri': 'spotify:album:2tSzSmTxrvk5cXlx2tVmNw',\n",
       "    'track_name': 'Run Away with You'},\n",
       "   {'duration_ms': '234026',\n",
       "    'artist_uri': 'spotify:artist:30e8DmahrEamvLbFRPdWmk',\n",
       "    'artist_name': 'Justin Moore',\n",
       "    'pos': '72',\n",
       "    'album_name': 'Outlaws Like Me',\n",
       "    'track_uri': 'spotify:track:3mHAyclWdtFASQuobdnDf8',\n",
       "    'album_uri': 'spotify:album:43WYprY30K1r0pbDmf3amq',\n",
       "    'track_name': 'Til My Last Day'},\n",
       "   {'duration_ms': '217386',\n",
       "    'artist_uri': 'spotify:artist:5Zq7R5qmi58ByYyBQTlNuk',\n",
       "    'artist_name': 'Lee Brice',\n",
       "    'pos': '73',\n",
       "    'album_name': 'Love Like Crazy',\n",
       "    'track_uri': 'spotify:track:6Ozp6ac86CSHMik8lbvJuM',\n",
       "    'album_uri': 'spotify:album:0Iybpv18tfdTUqJ6mhhZb8',\n",
       "    'track_name': 'Love Like Crazy'},\n",
       "   {'duration_ms': '180720',\n",
       "    'artist_uri': 'spotify:artist:30e8DmahrEamvLbFRPdWmk',\n",
       "    'artist_name': 'Justin Moore',\n",
       "    'pos': '74',\n",
       "    'album_name': 'Off The Beaten Path',\n",
       "    'track_uri': 'spotify:track:5ZMFVgZSYvbq3SmgRwaGMa',\n",
       "    'album_uri': 'spotify:album:7uCnHbfLZEdH1733LZ2i2F',\n",
       "    'track_name': 'Point At You'},\n",
       "   {'duration_ms': '209786',\n",
       "    'artist_uri': 'spotify:artist:5Zq7R5qmi58ByYyBQTlNuk',\n",
       "    'artist_name': 'Lee Brice',\n",
       "    'pos': '75',\n",
       "    'album_name': 'Hard 2 Love',\n",
       "    'track_uri': 'spotify:track:3oyMHCAAcnWFdcGuVgwfhd',\n",
       "    'album_uri': 'spotify:album:0RnVSSUbSBEjk5MlQZhYYP',\n",
       "    'track_name': 'A Woman Like You'},\n",
       "   {'duration_ms': '194173',\n",
       "    'artist_uri': 'spotify:artist:1n2pb9Tsfe4SwAjmUac6YT',\n",
       "    'artist_name': 'Jake Owen',\n",
       "    'pos': '76',\n",
       "    'album_name': 'Barefoot Blue Jean Night',\n",
       "    'track_uri': 'spotify:track:7oizkVPKiJYU5CyTjrcVp0',\n",
       "    'album_uri': 'spotify:album:4GeJssW5iLOSLOIXhLfOUJ',\n",
       "    'track_name': 'The One That Got Away'},\n",
       "   {'duration_ms': '229533',\n",
       "    'artist_uri': 'spotify:artist:1UTPBmNbXNTittyMJrNkvw',\n",
       "    'artist_name': 'Blake Shelton',\n",
       "    'pos': '77',\n",
       "    'album_name': 'Loaded: The Best Of Blake Shelton',\n",
       "    'track_uri': 'spotify:track:68Pux358EOhXmQqln37bj4',\n",
       "    'album_uri': 'spotify:album:7qyfoJ9YCVfBnePdxBFbhx',\n",
       "    'track_name': 'God Gave Me You'},\n",
       "   {'duration_ms': '280853',\n",
       "    'artist_uri': 'spotify:artist:6roFdX1y5BYSbp60OTJWMd',\n",
       "    'artist_name': 'Tim McGraw',\n",
       "    'pos': '78',\n",
       "    'album_name': 'Love Story',\n",
       "    'track_uri': 'spotify:track:2ruFSNVfeUgYdbo1Nhm8PI',\n",
       "    'album_uri': 'spotify:album:04n1d6ioeumQRlAj0JBID2',\n",
       "    'track_name': 'My Best Friend'},\n",
       "   {'duration_ms': '263466',\n",
       "    'artist_uri': 'spotify:artist:6roFdX1y5BYSbp60OTJWMd',\n",
       "    'artist_name': 'Tim McGraw',\n",
       "    'pos': '79',\n",
       "    'album_name': 'Let It Go',\n",
       "    'track_uri': 'spotify:track:28zGAyu24l5tUHXcd6V8YD',\n",
       "    'album_uri': 'spotify:album:47bt3mVEJg8ei4lhB8xjQo',\n",
       "    'track_name': 'Shotgun Rider'},\n",
       "   {'duration_ms': '213893',\n",
       "    'artist_uri': 'spotify:artist:5q8HGNo0BjLWaTAhRtbwxa',\n",
       "    'artist_name': 'Brantley Gilbert',\n",
       "    'pos': '80',\n",
       "    'album_name': 'Just As I Am',\n",
       "    'track_uri': 'spotify:track:6azG0KWf9hElvK0hIUKRdV',\n",
       "    'album_uri': 'spotify:album:2TRJMLAU1nVzGA7Zpvkl7L',\n",
       "    'track_name': 'My Baby’s Guns N’ Roses'},\n",
       "   {'duration_ms': '286520',\n",
       "    'artist_uri': 'spotify:artist:5q8HGNo0BjLWaTAhRtbwxa',\n",
       "    'artist_name': 'Brantley Gilbert',\n",
       "    'pos': '81',\n",
       "    'album_name': 'Halfway To Heaven',\n",
       "    'track_uri': 'spotify:track:4WnY4W5KrqglCdIus8X9Bo',\n",
       "    'album_uri': 'spotify:album:3yWeEEaC5xs7FgzwRgjm1p',\n",
       "    'track_name': \"You Don't Know Her Like I Do\"},\n",
       "   {'duration_ms': '252866',\n",
       "    'artist_uri': 'spotify:artist:5q8HGNo0BjLWaTAhRtbwxa',\n",
       "    'artist_name': 'Brantley Gilbert',\n",
       "    'pos': '82',\n",
       "    'album_name': 'Halfway To Heaven',\n",
       "    'track_uri': 'spotify:track:28ov70yrukmJDAFtiThdTS',\n",
       "    'album_uri': 'spotify:album:3yWeEEaC5xs7FgzwRgjm1p',\n",
       "    'track_name': 'More Than Miles'},\n",
       "   {'duration_ms': '186080',\n",
       "    'artist_uri': 'spotify:artist:6x2LnllRG5uGarZMsD4iO8',\n",
       "    'artist_name': 'Thomas Rhett',\n",
       "    'pos': '83',\n",
       "    'album_name': 'It Goes Like This',\n",
       "    'track_uri': 'spotify:track:6GsAD8PgHxmEuIPTG8GP3M',\n",
       "    'album_uri': 'spotify:album:2ZHYOFW5giX6a4n5eqTnUB',\n",
       "    'track_name': 'It Goes Like This'},\n",
       "   {'duration_ms': '223626',\n",
       "    'artist_uri': 'spotify:artist:6x2LnllRG5uGarZMsD4iO8',\n",
       "    'artist_name': 'Thomas Rhett',\n",
       "    'pos': '84',\n",
       "    'album_name': 'Life Changes',\n",
       "    'track_uri': 'spotify:track:2d48mamATjby7wgPjdrSOQ',\n",
       "    'album_uri': 'spotify:album:4w5Jvreahp3yvLqc4vCr9I',\n",
       "    'track_name': 'Craving You'},\n",
       "   {'duration_ms': '222400',\n",
       "    'artist_uri': 'spotify:artist:2lRH2dgU5Kk4Bc5phmII4T',\n",
       "    'artist_name': 'LANCO',\n",
       "    'pos': '85',\n",
       "    'album_name': 'LANCO - EP',\n",
       "    'track_uri': 'spotify:track:0kdiUZDcLIFw0Buo9r0Q4z',\n",
       "    'album_uri': 'spotify:album:38F6kTymTY9ue6j3TvDQ2F',\n",
       "    'track_name': 'Greatest Love Story'},\n",
       "   {'duration_ms': '154706',\n",
       "    'artist_uri': 'spotify:artist:2hJPr4lk7Q8SSvCVBl9fWM',\n",
       "    'artist_name': 'Kip Moore',\n",
       "    'pos': '86',\n",
       "    'album_name': 'SLOWHEART',\n",
       "    'track_uri': 'spotify:track:73WWkaWkIRSP3MYGZ14aY4',\n",
       "    'album_uri': 'spotify:album:03hlPprQQU9VN1H4GaDWoi',\n",
       "    'track_name': 'More Girls Like You'},\n",
       "   {'duration_ms': '196421',\n",
       "    'artist_uri': 'spotify:artist:6WY7D3jk8zTrHtmkqqo5GI',\n",
       "    'artist_name': 'Maren Morris',\n",
       "    'pos': '87',\n",
       "    'album_name': 'HERO (Deluxe Edition)',\n",
       "    'track_uri': 'spotify:track:09iyGiljLWRYXdRazFkdtJ',\n",
       "    'album_uri': 'spotify:album:4sSXylKcBB3p47VfrBJlfK',\n",
       "    'track_name': 'I Could Use a Love Song'},\n",
       "   {'duration_ms': '236865',\n",
       "    'artist_uri': 'spotify:artist:7H6dkUChT5EoOQtUVMg4cN',\n",
       "    'artist_name': 'Hunter Hayes',\n",
       "    'pos': '88',\n",
       "    'album_name': 'Hunter Hayes (Encore)',\n",
       "    'track_uri': 'spotify:track:4FkgULes13bk2eHrsJg4q9',\n",
       "    'album_uri': 'spotify:album:5hVo5O3pGkc1VibXveW8gx',\n",
       "    'track_name': 'I Want Crazy - Encore'},\n",
       "   {'duration_ms': '248426',\n",
       "    'artist_uri': 'spotify:artist:3grHWM9bx2E9vwJCdlRv9O',\n",
       "    'artist_name': 'Kenny Chesney',\n",
       "    'pos': '89',\n",
       "    'album_name': 'Welcome To The Fishbowl',\n",
       "    'track_uri': 'spotify:track:6BCrbWBpb8d6KWmEqZ41tr',\n",
       "    'album_uri': 'spotify:album:4u1IZuRRLb6tkP14kvAkGw',\n",
       "    'track_name': 'Come Over'},\n",
       "   {'duration_ms': '241240',\n",
       "    'artist_uri': 'spotify:artist:6pBNfggcZZDCmb0p92OnGn',\n",
       "    'artist_name': 'Chase Rice',\n",
       "    'pos': '90',\n",
       "    'album_name': 'Ignite the Night (Party Edition)',\n",
       "    'track_uri': 'spotify:track:1CoOHJAHtKEDnUBrp3nKAB',\n",
       "    'album_uri': 'spotify:album:2d3Oldg5aHbR601FdNk6b0',\n",
       "    'track_name': 'Ride (feat. Macy Maloy)'},\n",
       "   {'duration_ms': '215920',\n",
       "    'artist_uri': 'spotify:artist:2hJPr4lk7Q8SSvCVBl9fWM',\n",
       "    'artist_name': 'Kip Moore',\n",
       "    'pos': '91',\n",
       "    'album_name': 'Up All Night',\n",
       "    'track_uri': 'spotify:track:75p6fgACKYIyIhsoG411SZ',\n",
       "    'album_uri': 'spotify:album:191BU6Uvnf7oNTjO4n36Yu',\n",
       "    'track_name': 'Hey Pretty Girl'},\n",
       "   {'duration_ms': '207760',\n",
       "    'artist_uri': 'spotify:artist:1mfDfLsMxYcOOZkzBxvSVW',\n",
       "    'artist_name': 'Cole Swindell',\n",
       "    'pos': '92',\n",
       "    'album_name': 'You Should Be Here',\n",
       "    'track_uri': 'spotify:track:2O6BLVmD4xdHyKg4B1ZNeD',\n",
       "    'album_uri': 'spotify:album:7EZEhfO3ULNRHwX2jaiGei',\n",
       "    'track_name': 'Making My Way to You'},\n",
       "   {'duration_ms': '223706',\n",
       "    'artist_uri': 'spotify:artist:0oBEeN6BCxEgMogzThqrPf',\n",
       "    'artist_name': 'Big & Rich',\n",
       "    'pos': '93',\n",
       "    'album_name': 'Gravity',\n",
       "    'track_uri': 'spotify:track:6hQNZOmjGuiJuArVQLSKro',\n",
       "    'album_uri': 'spotify:album:2tSzSmTxrvk5cXlx2tVmNw',\n",
       "    'track_name': 'Look at You'},\n",
       "   {'duration_ms': '214560',\n",
       "    'artist_uri': 'spotify:artist:5q8HGNo0BjLWaTAhRtbwxa',\n",
       "    'artist_name': 'Brantley Gilbert',\n",
       "    'pos': '94',\n",
       "    'album_name': 'Halfway To Heaven',\n",
       "    'track_uri': 'spotify:track:4FcOYKkhIXgvO787zu0Cxy',\n",
       "    'album_uri': 'spotify:album:3yWeEEaC5xs7FgzwRgjm1p',\n",
       "    'track_name': 'My Kind Of Crazy'},\n",
       "   {'duration_ms': '164026',\n",
       "    'artist_uri': 'spotify:artist:3oSJ7TBVCWMDMiYjXNiCKE',\n",
       "    'artist_name': 'Kane Brown',\n",
       "    'pos': '95',\n",
       "    'album_name': 'Chapter 1 - EP',\n",
       "    'track_uri': 'spotify:track:6oJe2ZmepeYTtsHedYwwLr',\n",
       "    'album_uri': 'spotify:album:5Ts9XJ1G4UWKW2vgPTbyt0',\n",
       "    'track_name': 'There Goes My Everything'},\n",
       "   {'duration_ms': '222320',\n",
       "    'artist_uri': 'spotify:artist:3oSJ7TBVCWMDMiYjXNiCKE',\n",
       "    'artist_name': 'Kane Brown',\n",
       "    'pos': '96',\n",
       "    'album_name': 'Kane Brown',\n",
       "    'track_uri': 'spotify:track:0vtKLjkpdHoysT5ZPcwgA7',\n",
       "    'album_uri': 'spotify:album:4hhvgHjPqUOAYkclDkhL2T',\n",
       "    'track_name': 'Better Place'},\n",
       "   {'duration_ms': '169565',\n",
       "    'artist_uri': 'spotify:artist:3oSJ7TBVCWMDMiYjXNiCKE',\n",
       "    'artist_name': 'Kane Brown',\n",
       "    'pos': '97',\n",
       "    'album_name': 'Last Minute Late Night - Single',\n",
       "    'track_uri': 'spotify:track:3Sso0f19u0o5HavJErdZEN',\n",
       "    'album_uri': 'spotify:album:4XUkagfCTG1jc1dpUemE23',\n",
       "    'track_name': 'Last Minute Late Night'},\n",
       "   {'duration_ms': '179320',\n",
       "    'artist_uri': 'spotify:artist:3oSJ7TBVCWMDMiYjXNiCKE',\n",
       "    'artist_name': 'Kane Brown',\n",
       "    'pos': '98',\n",
       "    'album_name': 'Kane Brown',\n",
       "    'track_uri': 'spotify:track:03sNRFeWvYitmksOjDTSeB',\n",
       "    'album_uri': 'spotify:album:4hhvgHjPqUOAYkclDkhL2T',\n",
       "    'track_name': 'Pull It Off'},\n",
       "   {'duration_ms': '211720',\n",
       "    'artist_uri': 'spotify:artist:0qSX3s5pJnAlSsgsCne8Cz',\n",
       "    'artist_name': 'Brett Eldredge',\n",
       "    'pos': '99',\n",
       "    'album_name': 'Brett Eldredge',\n",
       "    'track_uri': 'spotify:track:43CFDpciGFDm226POTLEXU',\n",
       "    'album_uri': 'spotify:album:1NUKNYLtePSiZnQj0QeZlo',\n",
       "    'track_name': 'Love Someone'},\n",
       "   {'duration_ms': '161240',\n",
       "    'artist_uri': 'spotify:artist:78YqeIji3mgAS2K1Maca6x',\n",
       "    'artist_name': 'Dylan Scott',\n",
       "    'pos': '100',\n",
       "    'album_name': 'Dylan Scott (Deluxe Edition)',\n",
       "    'track_uri': 'spotify:track:6vVGtMC5tlknogHoSzIInH',\n",
       "    'album_uri': 'spotify:album:2zSuxzKE7PIi9LhCk3uL6o',\n",
       "    'track_name': \"Can't Take Her Anywhere\"},\n",
       "   {'duration_ms': '216960',\n",
       "    'artist_uri': 'spotify:artist:1E2AEtxaFaJtH0lO7kgNKw',\n",
       "    'artist_name': 'Russell Dickerson',\n",
       "    'pos': '101',\n",
       "    'album_name': 'Yours',\n",
       "    'track_uri': 'spotify:track:6RSNKGdv3nDTHqgw4bdzyF',\n",
       "    'album_uri': 'spotify:album:2iarUPEwf9aLuvE0PDvpfi',\n",
       "    'track_name': 'Yours'},\n",
       "   {'duration_ms': '324466',\n",
       "    'artist_uri': 'spotify:artist:3grHWM9bx2E9vwJCdlRv9O',\n",
       "    'artist_name': 'Kenny Chesney',\n",
       "    'pos': '102',\n",
       "    'album_name': 'When The Sun Goes Down',\n",
       "    'track_uri': 'spotify:track:2oalKRlxTriLRlCUGxT3yC',\n",
       "    'album_uri': 'spotify:album:052CF6cpp0nAH67yuUrIp7',\n",
       "    'track_name': 'Anything But Mine'},\n",
       "   {'duration_ms': '217840',\n",
       "    'artist_uri': 'spotify:artist:070kGpqtESdDsLb3gdMIyx',\n",
       "    'artist_name': 'Easton Corbin',\n",
       "    'pos': '103',\n",
       "    'album_name': 'A Girl Like You',\n",
       "    'track_uri': 'spotify:track:3AsNVBJ7LHsltdu9490ZiS',\n",
       "    'album_uri': 'spotify:album:48SPP51vLUiTTlou3bZZr9',\n",
       "    'track_name': 'A Girl Like You'},\n",
       "   {'duration_ms': '256573',\n",
       "    'artist_uri': 'spotify:artist:4MoAOfV4ROWofLG3a3hhBN',\n",
       "    'artist_name': 'Jon Pardi',\n",
       "    'pos': '104',\n",
       "    'album_name': 'California Sunrise',\n",
       "    'track_uri': 'spotify:track:5Bd5ry1IcRhTutirnhhQft',\n",
       "    'album_uri': 'spotify:album:1DTBcVfk3zXPHRmgpY6rFZ',\n",
       "    'track_name': 'California Sunrise'},\n",
       "   {'duration_ms': '200533',\n",
       "    'artist_uri': 'spotify:artist:1By9QBFnjZAoI83BZppHlt',\n",
       "    'artist_name': 'Billy Currington',\n",
       "    'pos': '105',\n",
       "    'album_name': 'We Are Tonight',\n",
       "    'track_uri': 'spotify:track:4CcrLWFQY4dRGMbUR59cSp',\n",
       "    'album_uri': 'spotify:album:1UrEMAvTDJdsJsZdsBux4h',\n",
       "    'track_name': 'Hey Girl'},\n",
       "   {'duration_ms': '163773',\n",
       "    'artist_uri': 'spotify:artist:30e8DmahrEamvLbFRPdWmk',\n",
       "    'artist_name': 'Justin Moore',\n",
       "    'pos': '106',\n",
       "    'album_name': 'Outlaws Like Me',\n",
       "    'track_uri': 'spotify:track:7uMkuUxYUTWEgj7xbxHyh4',\n",
       "    'album_uri': 'spotify:album:43WYprY30K1r0pbDmf3amq',\n",
       "    'track_name': 'My Kind Of Woman'},\n",
       "   {'duration_ms': '171120',\n",
       "    'artist_uri': 'spotify:artist:3FfvYsEGaIb52QPXhg4DcH',\n",
       "    'artist_name': 'Jason Aldean',\n",
       "    'pos': '107',\n",
       "    'album_name': 'Night Train',\n",
       "    'track_uri': 'spotify:track:3gVRILe7XCyNakb6sy5umX',\n",
       "    'album_uri': 'spotify:album:2uXHwdc2aTcUP2EhXKhPRu',\n",
       "    'track_name': 'When She Says Baby'},\n",
       "   {'duration_ms': '194680',\n",
       "    'artist_uri': 'spotify:artist:3FfvYsEGaIb52QPXhg4DcH',\n",
       "    'artist_name': 'Jason Aldean',\n",
       "    'pos': '108',\n",
       "    'album_name': 'Night Train',\n",
       "    'track_uri': 'spotify:track:0B4fFt3yD4kZr7xPdg6cp7',\n",
       "    'album_uri': 'spotify:album:2uXHwdc2aTcUP2EhXKhPRu',\n",
       "    'track_name': 'Staring at the Sun'},\n",
       "   {'duration_ms': '239413',\n",
       "    'artist_uri': 'spotify:artist:0BvkDsjIUla7X0k6CSWh1I',\n",
       "    'artist_name': 'Luke Bryan',\n",
       "    'pos': '109',\n",
       "    'album_name': \"Doin' My Thing\",\n",
       "    'track_uri': 'spotify:track:7A5CReD6yWe0rrkJym34QI',\n",
       "    'album_uri': 'spotify:album:13pqUKo7eRvMKFGpfCGyEF',\n",
       "    'track_name': 'Do I'},\n",
       "   {'duration_ms': '271813',\n",
       "    'artist_uri': 'spotify:artist:3grHWM9bx2E9vwJCdlRv9O',\n",
       "    'artist_name': 'Kenny Chesney',\n",
       "    'pos': '110',\n",
       "    'album_name': 'The Road And The Radio',\n",
       "    'track_uri': 'spotify:track:5pgmgHNxiq9w9XuthMKzJS',\n",
       "    'album_uri': 'spotify:album:5uMLCobPh02IG3fyH0Dzec',\n",
       "    'track_name': 'Beer In Mexico'},\n",
       "   {'duration_ms': '190640',\n",
       "    'artist_uri': 'spotify:artist:1E2AEtxaFaJtH0lO7kgNKw',\n",
       "    'artist_name': 'Russell Dickerson',\n",
       "    'pos': '111',\n",
       "    'album_name': 'Yours',\n",
       "    'track_uri': 'spotify:track:4EpLU30bi1KNWkBTfgZkoK',\n",
       "    'album_uri': 'spotify:album:2iarUPEwf9aLuvE0PDvpfi',\n",
       "    'track_name': 'Every Little Thing'},\n",
       "   {'duration_ms': '207126',\n",
       "    'artist_uri': 'spotify:artist:1E2AEtxaFaJtH0lO7kgNKw',\n",
       "    'artist_name': 'Russell Dickerson',\n",
       "    'pos': '112',\n",
       "    'album_name': \"That's My Girl - Single\",\n",
       "    'track_uri': 'spotify:track:15KIxlXlomcNwSelqVvLcF',\n",
       "    'album_uri': 'spotify:album:029WX82mN9ePgiriWYAKJO',\n",
       "    'track_name': \"That's My Girl\"},\n",
       "   {'duration_ms': '185706',\n",
       "    'artist_uri': 'spotify:artist:1dID9zgn0OV0Y8ud7Mh2tS',\n",
       "    'artist_name': 'Dustin Lynch',\n",
       "    'pos': '113',\n",
       "    'album_name': 'Current Mood',\n",
       "    'track_uri': 'spotify:track:7rdK9NSJIRBZAiXC0vuBS9',\n",
       "    'album_uri': 'spotify:album:23cuZhPWDfX1uKD4qwuv7t',\n",
       "    'track_name': \"I'd Be Jealous Too\"},\n",
       "   {'duration_ms': '181506',\n",
       "    'artist_uri': 'spotify:artist:0RKP52f5PNDCRZ9Luq2Sr7',\n",
       "    'artist_name': 'Jerrod Niemann',\n",
       "    'pos': '114',\n",
       "    'album_name': 'This Ride',\n",
       "    'track_uri': 'spotify:track:5FyR0TL98UajTLRWwkKGBg',\n",
       "    'album_uri': 'spotify:album:10OPPTAZUYlfhgl4Pr3B4T',\n",
       "    'track_name': 'I Got This'},\n",
       "   {'duration_ms': '261800',\n",
       "    'artist_uri': 'spotify:artist:30e8DmahrEamvLbFRPdWmk',\n",
       "    'artist_name': 'Justin Moore',\n",
       "    'pos': '115',\n",
       "    'album_name': \"Kinda Don't Care\",\n",
       "    'track_uri': 'spotify:track:5XQv5uep3VmhEuDWeFwRep',\n",
       "    'album_uri': 'spotify:album:0S5QmbBEftEpSgPd9uYgQv',\n",
       "    'track_name': \"Kinda Don't Care\"}],\n",
       "  'num_edits': 35,\n",
       "  'duration_ms': 25061399,\n",
       "  'num_artists': 44,\n",
       "  'description': 'they all whipped'}]"
      ]
     },
     "execution_count": 7,
     "metadata": {
      "tags": []
     },
     "output_type": "execute_result"
    }
   ],
   "source": [
    "# convert df to rdd\n",
    "RDD = DF2.rdd.map(lambda x: x.asDict())\n",
    "RDD.take(1)"
   ]
  },
  {
   "cell_type": "markdown",
   "metadata": {
    "id": "NzMlpr3aFPoq"
   },
   "source": [
    "# Initial impression"
   ]
  },
  {
   "cell_type": "code",
   "execution_count": null,
   "metadata": {
    "colab": {
     "base_uri": "https://localhost:8080/"
    },
    "executionInfo": {
     "elapsed": 15435,
     "status": "ok",
     "timestamp": 1606157630750,
     "user": {
      "displayName": "Hanchu Guo",
      "photoUrl": "",
      "userId": "16665456785972228142"
     },
     "user_tz": 300
    },
    "id": "QjERuODIoymq",
    "outputId": "e6864135-3ec0-40ac-bdc0-64db0edc0935"
   },
   "outputs": [
    {
     "data": {
      "text/plain": [
       "20000"
      ]
     },
     "execution_count": 14,
     "metadata": {
      "tags": []
     },
     "output_type": "execute_result"
    }
   ],
   "source": [
    "#number of playlists\n",
    "RDD.count()"
   ]
  },
  {
   "cell_type": "code",
   "execution_count": null,
   "metadata": {
    "colab": {
     "base_uri": "https://localhost:8080/"
    },
    "executionInfo": {
     "elapsed": 9558,
     "status": "ok",
     "timestamp": 1606269230381,
     "user": {
      "displayName": "Huicong Qian",
      "photoUrl": "https://lh3.googleusercontent.com/a-/AOh14Giug9tTklYnMZRUJRva1qiUyruwLzJFlAo9cIZg=s64",
      "userId": "13622378530222341484"
     },
     "user_tz": 300
    },
    "id": "2Y8d4cZHGqQL",
    "outputId": "7ef93287-67f8-49ee-cb21-8114ea1f235d"
   },
   "outputs": [
    {
     "data": {
      "text/plain": [
       "1328284"
      ]
     },
     "execution_count": 10,
     "metadata": {
      "tags": []
     },
     "output_type": "execute_result"
    }
   ],
   "source": [
    "#number of tracks\n",
    "RDD.flatMap(lambda x: x['tracks']).map(lambda x: x['track_uri']).count()"
   ]
  },
  {
   "cell_type": "code",
   "execution_count": null,
   "metadata": {
    "colab": {
     "base_uri": "https://localhost:8080/"
    },
    "executionInfo": {
     "elapsed": 13302,
     "status": "ok",
     "timestamp": 1606269027761,
     "user": {
      "displayName": "Huicong Qian",
      "photoUrl": "https://lh3.googleusercontent.com/a-/AOh14Giug9tTklYnMZRUJRva1qiUyruwLzJFlAo9cIZg=s64",
      "userId": "13622378530222341484"
     },
     "user_tz": 300
    },
    "id": "IIRytPZ9Fgzu",
    "outputId": "6f6afd82-bd21-473f-9f37-5cdd301107c6"
   },
   "outputs": [
    {
     "data": {
      "text/plain": [
       "268907"
      ]
     },
     "execution_count": 9,
     "metadata": {
      "tags": []
     },
     "output_type": "execute_result"
    }
   ],
   "source": [
    "#number of unique tracks\n",
    "RDD.flatMap(lambda x: x['tracks']).map(lambda x: x['track_uri']).distinct().count()"
   ]
  },
  {
   "cell_type": "code",
   "execution_count": null,
   "metadata": {
    "colab": {
     "base_uri": "https://localhost:8080/"
    },
    "executionInfo": {
     "elapsed": 9303,
     "status": "ok",
     "timestamp": 1606269324943,
     "user": {
      "displayName": "Huicong Qian",
      "photoUrl": "https://lh3.googleusercontent.com/a-/AOh14Giug9tTklYnMZRUJRva1qiUyruwLzJFlAo9cIZg=s64",
      "userId": "13622378530222341484"
     },
     "user_tz": 300
    },
    "id": "eQii3PwFG99Q",
    "outputId": "8aad9fc7-3b6e-4890-d4c2-ec786000f9e0"
   },
   "outputs": [
    {
     "data": {
      "text/plain": [
       "123132"
      ]
     },
     "execution_count": 11,
     "metadata": {
      "tags": []
     },
     "output_type": "execute_result"
    }
   ],
   "source": [
    "#number of unique albums \n",
    "RDD.flatMap(lambda x: x['tracks']).map(lambda x: x['album_uri']).distinct().count()"
   ]
  },
  {
   "cell_type": "code",
   "execution_count": null,
   "metadata": {
    "colab": {
     "base_uri": "https://localhost:8080/"
    },
    "executionInfo": {
     "elapsed": 9095,
     "status": "ok",
     "timestamp": 1606269362486,
     "user": {
      "displayName": "Huicong Qian",
      "photoUrl": "https://lh3.googleusercontent.com/a-/AOh14Giug9tTklYnMZRUJRva1qiUyruwLzJFlAo9cIZg=s64",
      "userId": "13622378530222341484"
     },
     "user_tz": 300
    },
    "id": "N-DjycM8HMa9",
    "outputId": "c0cd5a1e-0dfe-4392-85e7-a86c050aefd8"
   },
   "outputs": [
    {
     "data": {
      "text/plain": [
       "51826"
      ]
     },
     "execution_count": 12,
     "metadata": {
      "tags": []
     },
     "output_type": "execute_result"
    }
   ],
   "source": [
    "#number of unique artists \n",
    "RDD.flatMap(lambda x: x['tracks']).map(lambda x: x['artist_uri']).distinct().count()"
   ]
  },
  {
   "cell_type": "code",
   "execution_count": null,
   "metadata": {
    "colab": {
     "base_uri": "https://localhost:8080/"
    },
    "executionInfo": {
     "elapsed": 8829,
     "status": "ok",
     "timestamp": 1606269456067,
     "user": {
      "displayName": "Huicong Qian",
      "photoUrl": "https://lh3.googleusercontent.com/a-/AOh14Giug9tTklYnMZRUJRva1qiUyruwLzJFlAo9cIZg=s64",
      "userId": "13622378530222341484"
     },
     "user_tz": 300
    },
    "id": "8-lh54vfHfaC",
    "outputId": "bc5bea0f-5864-44dd-fc27-4e9de2c5da33"
   },
   "outputs": [
    {
     "data": {
      "text/plain": [
       "10140"
      ]
     },
     "execution_count": 13,
     "metadata": {
      "tags": []
     },
     "output_type": "execute_result"
    }
   ],
   "source": [
    "#number of unique titles \n",
    "RDD.map(lambda x: x['name']).distinct().count()"
   ]
  },
  {
   "cell_type": "code",
   "execution_count": null,
   "metadata": {
    "colab": {
     "base_uri": "https://localhost:8080/"
    },
    "executionInfo": {
     "elapsed": 10716,
     "status": "ok",
     "timestamp": 1606165860669,
     "user": {
      "displayName": "Hanchu Guo",
      "photoUrl": "",
      "userId": "16665456785972228142"
     },
     "user_tz": 300
    },
    "id": "h561LOt16WtV",
    "outputId": "b14ee61f-ed9f-4b75-f816-ed78dae4f543"
   },
   "outputs": [
    {
     "data": {
      "text/plain": [
       "364"
      ]
     },
     "execution_count": 69,
     "metadata": {
      "tags": []
     },
     "output_type": "execute_result"
    }
   ],
   "source": [
    "#number of playlists with description\n",
    "description = RDD.map(lambda s: s[\"description\"]).filter(lambda s: s != \"NaN\")\n",
    "description.count()"
   ]
  },
  {
   "cell_type": "code",
   "execution_count": null,
   "metadata": {
    "colab": {
     "base_uri": "https://localhost:8080/"
    },
    "executionInfo": {
     "elapsed": 8756,
     "status": "ok",
     "timestamp": 1606269817844,
     "user": {
      "displayName": "Huicong Qian",
      "photoUrl": "https://lh3.googleusercontent.com/a-/AOh14Giug9tTklYnMZRUJRva1qiUyruwLzJFlAo9cIZg=s64",
      "userId": "13622378530222341484"
     },
     "user_tz": 300
    },
    "id": "maRXz1_5IEDN",
    "outputId": "51b10c70-c4a8-4c4c-d490-585d320d1118"
   },
   "outputs": [
    {
     "data": {
      "text/plain": [
       "259.73687567333354"
      ]
     },
     "execution_count": 14,
     "metadata": {
      "tags": []
     },
     "output_type": "execute_result"
    }
   ],
   "source": [
    "#avg playlist length in minute\n",
    "RDD.map(lambda x: x['duration_ms']).mean() / (1000*60)"
   ]
  },
  {
   "cell_type": "code",
   "execution_count": null,
   "metadata": {
    "colab": {
     "base_uri": "https://localhost:8080/"
    },
    "executionInfo": {
     "elapsed": 15106,
     "status": "ok",
     "timestamp": 1606696936261,
     "user": {
      "displayName": "Huicong Qian",
      "photoUrl": "https://lh3.googleusercontent.com/a-/AOh14Giug9tTklYnMZRUJRva1qiUyruwLzJFlAo9cIZg=s64",
      "userId": "13622378530222341484"
     },
     "user_tz": 300
    },
    "id": "BKrdR7xkJVeh",
    "outputId": "9f66ce69-3e13-41ca-d968-c6c66c51d6a9"
   },
   "outputs": [
    {
     "data": {
      "text/plain": [
       "[('Chill', 111),\n",
       " ('Rap', 104),\n",
       " ('Rock', 102),\n",
       " ('Oldies', 91),\n",
       " ('Christmas', 86),\n",
       " ('Workout', 85),\n",
       " ('chill', 84),\n",
       " ('Country', 68),\n",
       " ('oldies', 65),\n",
       " ('workout', 63),\n",
       " ('Worship', 63),\n",
       " ('rap', 61),\n",
       " ('throwback', 59),\n",
       " ('Disney', 58),\n",
       " ('Throwback', 58),\n",
       " ('feels', 55),\n",
       " ('Party', 53),\n",
       " ('EDM', 49),\n",
       " ('2016', 49),\n",
       " ('party', 48)]"
      ]
     },
     "execution_count": 8,
     "metadata": {
      "tags": []
     },
     "output_type": "execute_result"
    }
   ],
   "source": [
    "#top 20 playlist titles\n",
    "RDD.map(lambda x: (x['name'],1)).reduceByKey(lambda a,b:a+b).sortBy(lambda x: x[1], ascending=False).take(20)"
   ]
  },
  {
   "cell_type": "code",
   "execution_count": null,
   "metadata": {
    "colab": {
     "base_uri": "https://localhost:8080/"
    },
    "executionInfo": {
     "elapsed": 11396,
     "status": "ok",
     "timestamp": 1606270577117,
     "user": {
      "displayName": "Huicong Qian",
      "photoUrl": "https://lh3.googleusercontent.com/a-/AOh14Giug9tTklYnMZRUJRva1qiUyruwLzJFlAo9cIZg=s64",
      "userId": "13622378530222341484"
     },
     "user_tz": 300
    },
    "id": "_w8ceUYqKQf1",
    "outputId": "9d5c47a5-4aaf-4c43-d6dc-6744688c4f1e"
   },
   "outputs": [
    {
     "data": {
      "text/plain": [
       "[(('HUMBLE.', 'Kendrick Lamar'), 994),\n",
       " (('One Dance', 'Drake'), 854),\n",
       " (('Congratulations', 'Post Malone'), 838),\n",
       " (('Broccoli (feat. Lil Yachty)', 'DRAM'), 819),\n",
       " (('Closer', 'The Chainsmokers'), 810),\n",
       " (('Bad and Boujee (feat. Lil Uzi Vert)', 'Migos'), 745),\n",
       " (('iSpy (feat. Lil Yachty)', 'KYLE'), 735),\n",
       " (('XO TOUR Llif3', 'Lil Uzi Vert'), 718),\n",
       " (('Location', 'Khalid'), 709),\n",
       " (('No Problem (feat. Lil Wayne & 2 Chainz)', 'Chance The Rapper'), 700),\n",
       " (('Caroline', 'Aminé'), 696),\n",
       " (('Mask Off', 'Future'), 691),\n",
       " (('Ignition - Remix', 'R. Kelly'), 675),\n",
       " (('Jumpman', 'Drake'), 675),\n",
       " (('Bounce Back', 'Big Sean'), 667),\n",
       " (('goosebumps', 'Travis Scott'), 664),\n",
       " ((\"I'm the One\", 'DJ Khaled'), 660),\n",
       " (('Redbone', 'Childish Gambino'), 637),\n",
       " (('White Iverson', 'Post Malone'), 626),\n",
       " (('Fake Love', 'Drake'), 620)]"
      ]
     },
     "execution_count": 19,
     "metadata": {
      "tags": []
     },
     "output_type": "execute_result"
    }
   ],
   "source": [
    "#top 20 tracks\n",
    "RDD.flatMap(lambda x: x['tracks']).map(lambda x: ((x['track_uri'],x['track_name'],x['artist_name']),1))\\\n",
    "   .reduceByKey(lambda a,b:a+b).sortBy(lambda x: x[1], ascending=False)\\\n",
    "   .map(lambda x: (x[0][1:],x[1])).take(20)"
   ]
  },
  {
   "cell_type": "code",
   "execution_count": null,
   "metadata": {
    "colab": {
     "base_uri": "https://localhost:8080/"
    },
    "executionInfo": {
     "elapsed": 9532,
     "status": "ok",
     "timestamp": 1606270626185,
     "user": {
      "displayName": "Huicong Qian",
      "photoUrl": "https://lh3.googleusercontent.com/a-/AOh14Giug9tTklYnMZRUJRva1qiUyruwLzJFlAo9cIZg=s64",
      "userId": "13622378530222341484"
     },
     "user_tz": 300
    },
    "id": "z4kOfQYOLMzn",
    "outputId": "5bd7fe72-6608-49e1-b92f-b3df0a2f453e"
   },
   "outputs": [
    {
     "data": {
      "text/plain": [
       "[('Drake', 17456),\n",
       " ('Kanye West', 8437),\n",
       " ('Kendrick Lamar', 7103),\n",
       " ('Rihanna', 6924),\n",
       " ('The Weeknd', 6574),\n",
       " ('Eminem', 6061),\n",
       " ('Ed Sheeran', 5257),\n",
       " ('Future', 5228),\n",
       " ('Justin Bieber', 4898),\n",
       " ('J. Cole', 4889),\n",
       " ('Beyoncé', 4840),\n",
       " ('The Chainsmokers', 4309),\n",
       " ('Post Malone', 4270),\n",
       " ('Chris Brown', 4114),\n",
       " ('Lil Uzi Vert', 4087),\n",
       " ('Migos', 3968),\n",
       " ('Twenty One Pilots', 3951),\n",
       " ('Calvin Harris', 3944),\n",
       " ('Big Sean', 3914),\n",
       " ('JAY Z', 3661)]"
      ]
     },
     "execution_count": 20,
     "metadata": {
      "tags": []
     },
     "output_type": "execute_result"
    }
   ],
   "source": [
    "#top 20 artists\n",
    "RDD.flatMap(lambda x: x['tracks']).map(lambda x: ((x['artist_uri'],x['artist_name']),1))\\\n",
    "   .reduceByKey(lambda a,b:a+b).sortBy(lambda x: x[1], ascending=False)\\\n",
    "   .map(lambda x: (x[0][1],x[1])).take(20)"
   ]
  },
  {
   "cell_type": "code",
   "execution_count": null,
   "metadata": {
    "id": "UyKmxy3sMXck"
   },
   "outputs": [],
   "source": [
    "import matplotlib.pyplot as plt"
   ]
  },
  {
   "cell_type": "code",
   "execution_count": null,
   "metadata": {
    "colab": {
     "base_uri": "https://localhost:8080/",
     "height": 367
    },
    "executionInfo": {
     "elapsed": 9613,
     "status": "ok",
     "timestamp": 1606270972892,
     "user": {
      "displayName": "Huicong Qian",
      "photoUrl": "https://lh3.googleusercontent.com/a-/AOh14Giug9tTklYnMZRUJRva1qiUyruwLzJFlAo9cIZg=s64",
      "userId": "13622378530222341484"
     },
     "user_tz": 300
    },
    "id": "0tCnhbSWMpDe",
    "outputId": "7988c854-9ac4-4306-d5b4-647424e82ce2"
   },
   "outputs": [
    {
     "data": {
      "text/plain": [
       "(array([9.309e+03, 5.387e+03, 2.603e+03, 1.490e+03, 8.000e+02, 3.560e+02,\n",
       "        4.400e+01, 6.000e+00, 1.000e+00, 4.000e+00]),\n",
       " array([   3.92898333,  174.02066   ,  344.11233667,  514.20401333,\n",
       "         684.29569   ,  854.38736667, 1024.47904333, 1194.57072   ,\n",
       "        1364.66239667, 1534.75407333, 1704.84575   ]),\n",
       " <BarContainer object of 10 artists>)"
      ]
     },
     "execution_count": 22,
     "metadata": {
      "tags": []
     },
     "output_type": "execute_result"
    },
    {
     "data": {
      "image/png": "[encoded data removed]",
      "text/plain": [
       "<Figure size 432x288 with 1 Axes>"
      ]
     },
     "metadata": {
      "needs_background": "light",
      "tags": []
     },
     "output_type": "display_data"
    }
   ],
   "source": [
    "#playlist length histogram(in minute)\n",
    "length = RDD.map(lambda x: x['duration_ms']/(1000*60)).collect()\n",
    "plt.hist(length)"
   ]
  },
  {
   "cell_type": "code",
   "execution_count": null,
   "metadata": {
    "colab": {
     "base_uri": "https://localhost:8080/"
    },
    "executionInfo": {
     "elapsed": 7991,
     "status": "ok",
     "timestamp": 1606272628983,
     "user": {
      "displayName": "Huicong Qian",
      "photoUrl": "https://lh3.googleusercontent.com/a-/AOh14Giug9tTklYnMZRUJRva1qiUyruwLzJFlAo9cIZg=s64",
      "userId": "13622378530222341484"
     },
     "user_tz": 300
    },
    "id": "aF5ZH3-ONxSW",
    "outputId": "8196135c-b453-4f58-8583-ce05f76eb4f5"
   },
   "outputs": [
    {
     "data": {
      "text/plain": [
       "([0, 1, 2, 4, 6, 8, 10, 50, 10000], [0, 14983, 4047, 577, 164, 83, 119, 27])"
      ]
     },
     "execution_count": 46,
     "metadata": {
      "tags": []
     },
     "output_type": "execute_result"
    }
   ],
   "source": [
    "# num followers histogram\n",
    "RDD.map(lambda x: x['num_followers']).histogram([0,1,2,4,6,8,10,50,10000])"
   ]
  },
  {
   "cell_type": "code",
   "execution_count": null,
   "metadata": {
    "id": "38nEneVjjfzW"
   },
   "outputs": [],
   "source": [
    "ss.stop()\n",
    "sc.stop()"
   ]
  }
 ],
 "metadata": {
  "colab": {
   "collapsed_sections": [],
   "name": "1. Data Preprocessing.ipynb",
   "provenance": []
  },
  "kernelspec": {
   "display_name": "Python 3",
   "language": "python",
   "name": "python3"
  },
  "language_info": {
   "codemirror_mode": {
    "name": "ipython",
    "version": 3
   },
   "file_extension": ".py",
   "mimetype": "text/x-python",
   "name": "python",
   "nbconvert_exporter": "python",
   "pygments_lexer": "ipython3",
   "version": "3.7.3"
  }
 },
 "nbformat": 4,
 "nbformat_minor": 1
}
