{
 "cells": [
  {
   "cell_type": "code",
   "execution_count": null,
   "metadata": {
    "id": "-mSvWSC-L8hZ"
   },
   "outputs": [],
   "source": [
    "import findspark\n",
    "findspark.init()\n",
    "import random\n",
    "import pyspark"
   ]
  },
  {
   "cell_type": "code",
   "execution_count": null,
   "metadata": {
    "id": "9wcoAASyMK9W"
   },
   "outputs": [],
   "source": [
    "import os\n",
    "\n",
    "config = # config setting\n",
    "\n",
    "ss = pyspark.sql.SparkSession.builder.config(conf = config).getOrCreate()\n",
    "sc = ss.sparkContext"
   ]
  },
  {
   "cell_type": "markdown",
   "metadata": {
    "id": "jklluguHhyV9"
   },
   "source": [
    "# data preprocessing - one file"
   ]
  },
  {
   "cell_type": "code",
   "execution_count": null,
   "metadata": {
    "id": "asHBsn7nZMJo"
   },
   "outputs": [],
   "source": [
    "import json\n",
    "import numpy as np\n",
    "import pandas as pd\n",
    "from pyspark.sql.types import *\n",
    "from scipy.sparse import csr_matrix"
   ]
  },
  {
   "cell_type": "code",
   "execution_count": null,
   "metadata": {
    "id": "Zu1wCFItMl1A"
   },
   "outputs": [],
   "source": [
    "# take one file as example\n",
    "file_path = '/scratch/ISE495/2020_project_03/team-3/mpd.slice.332000-332999.json'"
   ]
  },
  {
   "cell_type": "code",
   "execution_count": null,
   "metadata": {
    "id": "VMICm9lAYDy6"
   },
   "outputs": [],
   "source": [
    "data = json.load(open(file_path))\n",
    "DF = pd.DataFrame.from_dict(data['playlists'])"
   ]
  },
  {
   "cell_type": "code",
   "execution_count": null,
   "metadata": {
    "id": "M6m-w2XDbx7D"
   },
   "outputs": [],
   "source": [
    "schema = StructType([StructField('name',StringType()),\n",
    "                     StructField('collaborative',StringType()),\n",
    "                     StructField('pid',StringType()),\n",
    "                     StructField('modified_at',IntegerType()),\n",
    "                     StructField('num_tracks',IntegerType()),\n",
    "                     StructField('num_albums',IntegerType()),\n",
    "                     StructField('num_followers',IntegerType()),\n",
    "                     StructField('tracks',ArrayType(MapType(StringType(),StringType()))),\n",
    "                     StructField('num_edits',IntegerType()),\n",
    "                     StructField('duration_ms',IntegerType()),\n",
    "                     StructField('num_artists',IntegerType()),\n",
    "                     StructField('description',StringType())])\n",
    "DF2 = ss.createDataFrame(DF,schema)"
   ]
  },
  {
   "cell_type": "code",
   "execution_count": null,
   "metadata": {
    "colab": {
     "base_uri": "https://localhost:8080/"
    },
    "executionInfo": {
     "elapsed": 4188,
     "status": "ok",
     "timestamp": 1605675275013,
     "user": {
      "displayName": "Huicong Qian",
      "photoUrl": "https://lh3.googleusercontent.com/a-/AOh14Giug9tTklYnMZRUJRva1qiUyruwLzJFlAo9cIZg=s64",
      "userId": "13622378530222341484"
     },
     "user_tz": 300
    },
    "id": "irihZQz9hKJs",
    "outputId": "795352a2-dc27-4cbe-fa21-cc58ace07aad"
   },
   "outputs": [
    {
     "data": {
      "text/plain": [
       "[{'name': 'cg',\n",
       "  'collaborative': 'false',\n",
       "  'pid': '332000',\n",
       "  'modified_at': 1508284800,\n",
       "  'num_tracks': 116,\n",
       "  'num_albums': 84,\n",
       "  'num_followers': 1,\n",
       "  'tracks': [{'duration_ms': '194893',\n",
       "    'artist_uri': 'spotify:artist:1dID9zgn0OV0Y8ud7Mh2tS',\n",
       "    'artist_name': 'Dustin Lynch',\n",
       "    'pos': '0',\n",
       "    'album_name': 'Current Mood',\n",
       "    'track_uri': 'spotify:track:7pxhKtuTwofDIdgHx2DcVK',\n",
       "    'album_uri': 'spotify:album:23cuZhPWDfX1uKD4qwuv7t',\n",
       "    'track_name': \"Seein' Red\"},\n",
       "   {'duration_ms': '199746',\n",
       "    'artist_uri': 'spotify:artist:1n2pb9Tsfe4SwAjmUac6YT',\n",
       "    'artist_name': 'Jake Owen',\n",
       "    'pos': '1',\n",
       "    'album_name': 'American Love',\n",
       "    'track_uri': 'spotify:track:0O1x2tRm8ZpfDbcpOWZp7z',\n",
       "    'album_uri': 'spotify:album:5gsWgFeHRxRkIXGXWPiOIW',\n",
       "    'track_name': 'American Country Love Song'},\n",
       "   {'duration_ms': '202346',\n",
       "    'artist_uri': 'spotify:artist:4MoAOfV4ROWofLG3a3hhBN',\n",
       "    'artist_name': 'Jon Pardi',\n",
       "    'pos': '2',\n",
       "    'album_name': 'California Sunrise',\n",
       "    'track_uri': 'spotify:track:4ly1QBXEwYoDmje9rmEgC4',\n",
       "    'album_uri': 'spotify:album:1DTBcVfk3zXPHRmgpY6rFZ',\n",
       "    'track_name': 'Head Over Boots'},\n",
       "   {'duration_ms': '234587',\n",
       "    'artist_uri': 'spotify:artist:13YmWQJFwgZrd4bf5IjMY4',\n",
       "    'artist_name': 'Brad Paisley',\n",
       "    'pos': '3',\n",
       "    'album_name': 'Without a Fight',\n",
       "    'track_uri': 'spotify:track:7DYswEnZFL6SKaNLTxBf5b',\n",
       "    'album_uri': 'spotify:album:4OJsc7WKARIF6SreqaTyQ6',\n",
       "    'track_name': 'Without a Fight'},\n",
       "   {'duration_ms': '197640',\n",
       "    'artist_uri': 'spotify:artist:78YqeIji3mgAS2K1Maca6x',\n",
       "    'artist_name': 'Dylan Scott',\n",
       "    'pos': '4',\n",
       "    'album_name': 'Dylan Scott',\n",
       "    'track_uri': 'spotify:track:6p5GuyEqQH5pv02ouEyogQ',\n",
       "    'album_uri': 'spotify:album:3OWQ3YIAdVNQyA7CFwJrfZ',\n",
       "    'track_name': 'My Girl'},\n",
       "   {'duration_ms': '190240',\n",
       "    'artist_uri': 'spotify:artist:68abRTdO4meYReMWHvBYb0',\n",
       "    'artist_name': 'Chris Lane',\n",
       "    'pos': '5',\n",
       "    'album_name': 'Girl Problems',\n",
       "    'track_uri': 'spotify:track:17Vry8h1fUTYg8NL6pHhem',\n",
       "    'album_uri': 'spotify:album:2QSiy6dksBLC7alEkA19f7',\n",
       "    'track_name': 'Fix'},\n",
       "   {'duration_ms': '222533',\n",
       "    'artist_uri': 'spotify:artist:718COspgdWOnwOFpJHRZHS',\n",
       "    'artist_name': 'Luke Combs',\n",
       "    'pos': '6',\n",
       "    'album_name': \"This One's for You\",\n",
       "    'track_uri': 'spotify:track:6xHI9KjUjYT0FPtGO8Mxa1',\n",
       "    'album_uri': 'spotify:album:1lhNch5NkOONvFhRPh8qaj',\n",
       "    'track_name': 'Hurricane'},\n",
       "   {'duration_ms': '186253',\n",
       "    'artist_uri': 'spotify:artist:7z5WFjZAIYejWy0NI5lv4T',\n",
       "    'artist_name': 'Dan + Shay',\n",
       "    'pos': '7',\n",
       "    'album_name': 'Where It All Began',\n",
       "    'track_uri': 'spotify:track:4W38RXuQNuoTSwVsQA1OGC',\n",
       "    'album_uri': 'spotify:album:2Zkvy7eARxR3qjKNWMiwMa',\n",
       "    'track_name': \"Nothin' Like You\"},\n",
       "   {'duration_ms': '188999',\n",
       "    'artist_uri': 'spotify:artist:1By9QBFnjZAoI83BZppHlt',\n",
       "    'artist_name': 'Billy Currington',\n",
       "    'pos': '8',\n",
       "    'album_name': 'Summer Forever',\n",
       "    'track_uri': 'spotify:track:4iLPK8QnOvqm0Azbsk2GDn',\n",
       "    'album_uri': 'spotify:album:3OkqAak6KhIQExElXif7UW',\n",
       "    'track_name': \"Don't It\"},\n",
       "   {'duration_ms': '230706',\n",
       "    'artist_uri': 'spotify:artist:4aJTB79uwT4sP0Nb8QGWHc',\n",
       "    'artist_name': 'Joe Nichols',\n",
       "    'pos': '9',\n",
       "    'album_name': 'Crickets',\n",
       "    'track_uri': 'spotify:track:0uRlP6bHbSgBGklmaCMqG7',\n",
       "    'album_uri': 'spotify:album:4maav8jTujRDfFU7AGG7xo',\n",
       "    'track_name': 'Yeah'},\n",
       "   {'duration_ms': '177066',\n",
       "    'artist_uri': 'spotify:artist:1mfDfLsMxYcOOZkzBxvSVW',\n",
       "    'artist_name': 'Cole Swindell',\n",
       "    'pos': '10',\n",
       "    'album_name': 'You Should Be Here',\n",
       "    'track_uri': 'spotify:track:0WyFpxYlBCgH1gMXd26OOr',\n",
       "    'album_uri': 'spotify:album:7EZEhfO3ULNRHwX2jaiGei',\n",
       "    'track_name': 'Flatliner (feat. Dierks Bentley)'},\n",
       "   {'duration_ms': '187586',\n",
       "    'artist_uri': 'spotify:artist:1mfDfLsMxYcOOZkzBxvSVW',\n",
       "    'artist_name': 'Cole Swindell',\n",
       "    'pos': '11',\n",
       "    'album_name': 'Cole Swindell',\n",
       "    'track_uri': 'spotify:track:3y1t2sEahs8idFz2tiYNPO',\n",
       "    'album_uri': 'spotify:album:2mlPEYhK1KwDD45CCCWxaH',\n",
       "    'track_name': 'Let Me See Ya Girl'},\n",
       "   {'duration_ms': '226306',\n",
       "    'artist_uri': 'spotify:artist:1mfDfLsMxYcOOZkzBxvSVW',\n",
       "    'artist_name': 'Cole Swindell',\n",
       "    'pos': '12',\n",
       "    'album_name': 'You Should Be Here',\n",
       "    'track_uri': 'spotify:track:38gZVjeaeR3gcnCzziAxBm',\n",
       "    'album_uri': 'spotify:album:7EZEhfO3ULNRHwX2jaiGei',\n",
       "    'track_name': 'Middle of a Memory'},\n",
       "   {'duration_ms': '201533',\n",
       "    'artist_uri': 'spotify:artist:03tfKFHhDoDqF73vCI3cxn',\n",
       "    'artist_name': 'William Michael Morgan',\n",
       "    'pos': '13',\n",
       "    'album_name': 'Vinyl',\n",
       "    'track_uri': 'spotify:track:4WtkYdCG4n80h08Ep5SmDI',\n",
       "    'album_uri': 'spotify:album:0g5rhDZDPOuaLlxCq0GZ2g',\n",
       "    'track_name': 'I Met a Girl'},\n",
       "   {'duration_ms': '198120',\n",
       "    'artist_uri': 'spotify:artist:03tfKFHhDoDqF73vCI3cxn',\n",
       "    'artist_name': 'William Michael Morgan',\n",
       "    'pos': '14',\n",
       "    'album_name': 'Vinyl',\n",
       "    'track_uri': 'spotify:track:5tkZ9CicFzBWBGjs1QbhSD',\n",
       "    'album_uri': 'spotify:album:0g5rhDZDPOuaLlxCq0GZ2g',\n",
       "    'track_name': 'Vinyl'},\n",
       "   {'duration_ms': '236226',\n",
       "    'artist_uri': 'spotify:artist:0qSX3s5pJnAlSsgsCne8Cz',\n",
       "    'artist_name': 'Brett Eldredge',\n",
       "    'pos': '15',\n",
       "    'album_name': 'Illinois',\n",
       "    'track_uri': 'spotify:track:1XazlqB4YAtvouCmJPWXlM',\n",
       "    'album_uri': 'spotify:album:5Og3UBs6tCL47yee1ukYgw',\n",
       "    'track_name': 'Wanna Be That Song'},\n",
       "   {'duration_ms': '231040',\n",
       "    'artist_uri': 'spotify:artist:3FfvYsEGaIb52QPXhg4DcH',\n",
       "    'artist_name': 'Jason Aldean',\n",
       "    'pos': '16',\n",
       "    'album_name': 'Old Boots, New Dirt',\n",
       "    'track_uri': 'spotify:track:5pgx4Q33u1c1jlpE64WVGY',\n",
       "    'album_uri': 'spotify:album:2RIu1R2av2tWEu2MloUE6u',\n",
       "    'track_name': 'Tonight Looks Good on You'},\n",
       "   {'duration_ms': '203052',\n",
       "    'artist_uri': 'spotify:artist:0q2lY1ZzFckzciuoMtUvck',\n",
       "    'artist_name': 'Canaan Smith',\n",
       "    'pos': '17',\n",
       "    'album_name': 'Bronco',\n",
       "    'track_uri': 'spotify:track:2QVzUws1l5mzZ4v46tGHrC',\n",
       "    'album_uri': 'spotify:album:40hl9x5G7YelVvXQGroLa2',\n",
       "    'track_name': 'Love You Like That'},\n",
       "   {'duration_ms': '185413',\n",
       "    'artist_uri': 'spotify:artist:1dID9zgn0OV0Y8ud7Mh2tS',\n",
       "    'artist_name': 'Dustin Lynch',\n",
       "    'pos': '18',\n",
       "    'album_name': \"Where It's At\",\n",
       "    'track_uri': 'spotify:track:2MNapHbu7QASoukvVVIxyr',\n",
       "    'album_uri': 'spotify:album:4ZSQEnZOGWEW3XQOAzt477',\n",
       "    'track_name': 'Mind Reader'},\n",
       "   {'duration_ms': '180146',\n",
       "    'artist_uri': 'spotify:artist:1dID9zgn0OV0Y8ud7Mh2tS',\n",
       "    'artist_name': 'Dustin Lynch',\n",
       "    'pos': '19',\n",
       "    'album_name': 'Dustin Lynch',\n",
       "    'track_uri': 'spotify:track:4KrPeCUgCsu3NAcfdl9ylY',\n",
       "    'album_uri': 'spotify:album:3lmCslpaoa1acoJ4koOnCY',\n",
       "    'track_name': 'Wild In Your Smile'},\n",
       "   {'duration_ms': '251333',\n",
       "    'artist_uri': 'spotify:artist:5vngPClqofybhPERIqQMYd',\n",
       "    'artist_name': 'George Strait',\n",
       "    'pos': '20',\n",
       "    'album_name': 'Love Is Everything',\n",
       "    'track_uri': 'spotify:track:19PJ75UGKjpBo0muDNyxPW',\n",
       "    'album_uri': 'spotify:album:2tJoaDnwr0xWHD4OriSNtB',\n",
       "    'track_name': 'Give It All We Got Tonight'},\n",
       "   {'duration_ms': '198840',\n",
       "    'artist_uri': 'spotify:artist:6ktyNEnEukKzskQEiXgCFD',\n",
       "    'artist_name': 'Craig Morgan',\n",
       "    'pos': '21',\n",
       "    'album_name': \"The Journey (Livin' Hits)\",\n",
       "    'track_uri': 'spotify:track:5UY3Vzkc5INzJ3wBJm5FlD',\n",
       "    'album_uri': 'spotify:album:3q3vQKnkRSqCjjTAc6I5ai',\n",
       "    'track_name': \"Wake up Lovin' You\"},\n",
       "   {'duration_ms': '233480',\n",
       "    'artist_uri': 'spotify:artist:1UTPBmNbXNTittyMJrNkvw',\n",
       "    'artist_name': 'Blake Shelton',\n",
       "    'pos': '22',\n",
       "    'album_name': 'BRINGING BACK THE SUNSHINE',\n",
       "    'track_uri': 'spotify:track:0p1HtkrNYxv0iDfEKwXSTp',\n",
       "    'album_uri': 'spotify:album:0daIqjuhsQqXoeII3pBSeT',\n",
       "    'track_name': 'Sangria'},\n",
       "   {'duration_ms': '163066',\n",
       "    'artist_uri': 'spotify:artist:070kGpqtESdDsLb3gdMIyx',\n",
       "    'artist_name': 'Easton Corbin',\n",
       "    'pos': '23',\n",
       "    'album_name': 'All Over The Road',\n",
       "    'track_uri': 'spotify:track:6XD3HMATLswheYevIfKkSi',\n",
       "    'album_uri': 'spotify:album:48vOVvwuTXRNdiaW8NpAJ3',\n",
       "    'track_name': 'All Over The Road'},\n",
       "   {'duration_ms': '227986',\n",
       "    'artist_uri': 'spotify:artist:1mfDfLsMxYcOOZkzBxvSVW',\n",
       "    'artist_name': 'Cole Swindell',\n",
       "    'pos': '24',\n",
       "    'album_name': 'Cole Swindell',\n",
       "    'track_uri': 'spotify:track:5BtS8w1kkjLV1BbvB0t12u',\n",
       "    'album_uri': 'spotify:album:2mlPEYhK1KwDD45CCCWxaH',\n",
       "    'track_name': 'Hope You Get Lonely Tonight'},\n",
       "   {'duration_ms': '219973',\n",
       "    'artist_uri': 'spotify:artist:0BvkDsjIUla7X0k6CSWh1I',\n",
       "    'artist_name': 'Luke Bryan',\n",
       "    'pos': '25',\n",
       "    'album_name': 'Tailgates & Tanlines',\n",
       "    'track_uri': 'spotify:track:0cV4xwUA4ue2deqq4CZFko',\n",
       "    'album_uri': 'spotify:album:4ybWq0AegFFAvHULAe7q0K',\n",
       "    'track_name': \"I Don't Want This Night to End\"},\n",
       "   {'duration_ms': '233920',\n",
       "    'artist_uri': 'spotify:artist:0BvkDsjIUla7X0k6CSWh1I',\n",
       "    'artist_name': 'Luke Bryan',\n",
       "    'pos': '26',\n",
       "    'album_name': \"Spring Break...Checkin' Out\",\n",
       "    'track_uri': 'spotify:track:2T1KIjk0jblquN5EI8lsJK',\n",
       "    'album_uri': 'spotify:album:7h35A9nSA5ZaQ2smItJNz8',\n",
       "    'track_name': 'Night One'},\n",
       "   {'duration_ms': '180720',\n",
       "    'artist_uri': 'spotify:artist:30e8DmahrEamvLbFRPdWmk',\n",
       "    'artist_name': 'Justin Moore',\n",
       "    'pos': '27',\n",
       "    'album_name': 'Off The Beaten Path',\n",
       "    'track_uri': 'spotify:track:5ZMFVgZSYvbq3SmgRwaGMa',\n",
       "    'album_uri': 'spotify:album:7uCnHbfLZEdH1733LZ2i2F',\n",
       "    'track_name': 'Point At You'},\n",
       "   {'duration_ms': '190587',\n",
       "    'artist_uri': 'spotify:artist:6pBNfggcZZDCmb0p92OnGn',\n",
       "    'artist_name': 'Chase Rice',\n",
       "    'pos': '28',\n",
       "    'album_name': 'Ignite the Night',\n",
       "    'track_uri': 'spotify:track:1qxINnTuff87Pj1lvKbGxy',\n",
       "    'album_uri': 'spotify:album:4LTFy1RLwpzADCbAOTQqVz',\n",
       "    'track_name': 'Ready Set Roll'},\n",
       "   {'duration_ms': '236800',\n",
       "    'artist_uri': 'spotify:artist:4DZGvSv2oMkBUnPz67E6z6',\n",
       "    'artist_name': 'David Nail',\n",
       "    'pos': '29',\n",
       "    'album_name': \"I'm A Fire\",\n",
       "    'track_uri': 'spotify:track:4PJXT82AZtlDW4Q71b43oz',\n",
       "    'album_uri': 'spotify:album:53ljIT3F5IV2YP0fVdlSGo',\n",
       "    'track_name': \"Whatever She's Got\"},\n",
       "   {'duration_ms': '187400',\n",
       "    'artist_uri': 'spotify:artist:6x2LnllRG5uGarZMsD4iO8',\n",
       "    'artist_name': 'Thomas Rhett',\n",
       "    'pos': '30',\n",
       "    'album_name': 'It Goes Like This',\n",
       "    'track_uri': 'spotify:track:4O1CExxinEpKZi3861NlTK',\n",
       "    'album_uri': 'spotify:album:2ZHYOFW5giX6a4n5eqTnUB',\n",
       "    'track_name': 'Get Me Some Of That'},\n",
       "   {'duration_ms': '179293',\n",
       "    'artist_uri': 'spotify:artist:0qSX3s5pJnAlSsgsCne8Cz',\n",
       "    'artist_name': 'Brett Eldredge',\n",
       "    'pos': '31',\n",
       "    'album_name': 'Bring You Back',\n",
       "    'track_uri': 'spotify:track:3un2KQUaQ2brEpd8dK93wI',\n",
       "    'album_uri': 'spotify:album:7weU5IWFfeueNG5V68CTTT',\n",
       "    'track_name': 'Beat Of The Music'},\n",
       "   {'duration_ms': '187480',\n",
       "    'artist_uri': 'spotify:artist:30e8DmahrEamvLbFRPdWmk',\n",
       "    'artist_name': 'Justin Moore',\n",
       "    'pos': '32',\n",
       "    'album_name': \"Kinda Don't Care\",\n",
       "    'track_uri': 'spotify:track:1TGJxtVHgPHKVt6K7sPn1T',\n",
       "    'album_uri': 'spotify:album:0S5QmbBEftEpSgPd9uYgQv',\n",
       "    'track_name': 'You Look Like I Need A Drink'},\n",
       "   {'duration_ms': '214949',\n",
       "    'artist_uri': 'spotify:artist:6pBNfggcZZDCmb0p92OnGn',\n",
       "    'artist_name': 'Chase Rice',\n",
       "    'pos': '33',\n",
       "    'album_name': 'Ignite the Night',\n",
       "    'track_uri': 'spotify:track:4CgEARPGRltAQaJr1tRsoE',\n",
       "    'album_uri': 'spotify:album:4LTFy1RLwpzADCbAOTQqVz',\n",
       "    'track_name': 'Gonna Wanna Tonight'},\n",
       "   {'duration_ms': '220346',\n",
       "    'artist_uri': 'spotify:artist:070kGpqtESdDsLb3gdMIyx',\n",
       "    'artist_name': 'Easton Corbin',\n",
       "    'pos': '34',\n",
       "    'album_name': 'All Over The Road',\n",
       "    'track_uri': 'spotify:track:6z1frj1JhCZhgKzUZUNU31',\n",
       "    'album_uri': 'spotify:album:48vOVvwuTXRNdiaW8NpAJ3',\n",
       "    'track_name': 'Are You With Me'},\n",
       "   {'duration_ms': '211226',\n",
       "    'artist_uri': 'spotify:artist:68abRTdO4meYReMWHvBYb0',\n",
       "    'artist_name': 'Chris Lane',\n",
       "    'pos': '35',\n",
       "    'album_name': 'Girl Problems',\n",
       "    'track_uri': 'spotify:track:6VB64hpnpRNqukYsIX76uo',\n",
       "    'album_uri': 'spotify:album:2QSiy6dksBLC7alEkA19f7',\n",
       "    'track_name': 'For Her'},\n",
       "   {'duration_ms': '208360',\n",
       "    'artist_uri': 'spotify:artist:0u2FHSq3ln94y5Q57xazwf',\n",
       "    'artist_name': 'Keith Urban',\n",
       "    'pos': '36',\n",
       "    'album_name': 'Ripcord',\n",
       "    'track_uri': 'spotify:track:56PtcCDfdpMYt4LUULMEJx',\n",
       "    'album_uri': 'spotify:album:1r7ABqzNXQnUPAH3ZjrHMn',\n",
       "    'track_name': 'Break On Me'},\n",
       "   {'duration_ms': '226866',\n",
       "    'artist_uri': 'spotify:artist:0BvkDsjIUla7X0k6CSWh1I',\n",
       "    'artist_name': 'Luke Bryan',\n",
       "    'pos': '37',\n",
       "    'album_name': 'Crash My Party',\n",
       "    'track_uri': 'spotify:track:03fT3OHB9KyMtGMt2zwqCT',\n",
       "    'album_uri': 'spotify:album:5M8gr5RV2eR6UkztC69ogB',\n",
       "    'track_name': 'Play It Again'},\n",
       "   {'duration_ms': '213546',\n",
       "    'artist_uri': 'spotify:artist:0BvkDsjIUla7X0k6CSWh1I',\n",
       "    'artist_name': 'Luke Bryan',\n",
       "    'pos': '38',\n",
       "    'album_name': 'Tailgates & Tanlines',\n",
       "    'track_uri': 'spotify:track:3b7CDTKB0SRTmQ6ytYi5vZ',\n",
       "    'album_uri': 'spotify:album:4ybWq0AegFFAvHULAe7q0K',\n",
       "    'track_name': 'Drunk On You'},\n",
       "   {'duration_ms': '179573',\n",
       "    'artist_uri': 'spotify:artist:0BvkDsjIUla7X0k6CSWh1I',\n",
       "    'artist_name': 'Luke Bryan',\n",
       "    'pos': '39',\n",
       "    'album_name': 'Kill The Lights',\n",
       "    'track_uri': 'spotify:track:696pjkYV7x0adMqEQYnBzP',\n",
       "    'album_uri': 'spotify:album:0WtCqmpVN7rRGfDMSWSXBA',\n",
       "    'track_name': 'Kill The Lights'},\n",
       "   {'duration_ms': '212506',\n",
       "    'artist_uri': 'spotify:artist:0BvkDsjIUla7X0k6CSWh1I',\n",
       "    'artist_name': 'Luke Bryan',\n",
       "    'pos': '40',\n",
       "    'album_name': 'Crash My Party',\n",
       "    'track_uri': 'spotify:track:4onY9xh40OE5wIecwjUinG',\n",
       "    'album_uri': 'spotify:album:5uXnz1avW5OxFmroX5eSBu',\n",
       "    'track_name': 'She Get Me High'},\n",
       "   {'duration_ms': '223400',\n",
       "    'artist_uri': 'spotify:artist:0BvkDsjIUla7X0k6CSWh1I',\n",
       "    'artist_name': 'Luke Bryan',\n",
       "    'pos': '41',\n",
       "    'album_name': 'Crash My Party',\n",
       "    'track_uri': 'spotify:track:2Vs9xFrrZijPdNCRonf4eD',\n",
       "    'album_uri': 'spotify:album:5uXnz1avW5OxFmroX5eSBu',\n",
       "    'track_name': \"Good Lookin' Girl\"},\n",
       "   {'duration_ms': '234760',\n",
       "    'artist_uri': 'spotify:artist:0BvkDsjIUla7X0k6CSWh1I',\n",
       "    'artist_name': 'Luke Bryan',\n",
       "    'pos': '42',\n",
       "    'album_name': 'Crash My Party',\n",
       "    'track_uri': 'spotify:track:6GBUsjHfZuweYf5lQEz6mP',\n",
       "    'album_uri': 'spotify:album:5M8gr5RV2eR6UkztC69ogB',\n",
       "    'track_name': 'Crash My Party'},\n",
       "   {'duration_ms': '239506',\n",
       "    'artist_uri': 'spotify:artist:1UTPBmNbXNTittyMJrNkvw',\n",
       "    'artist_name': 'Blake Shelton',\n",
       "    'pos': '43',\n",
       "    'album_name': 'Based on a True Story...',\n",
       "    'track_uri': 'spotify:track:1zvQt99d5oTkEQLmSoO1yu',\n",
       "    'album_uri': 'spotify:album:6MzrSTAQdDR92tHLLAhYp0',\n",
       "    'track_name': 'Mine Would Be You'},\n",
       "   {'duration_ms': '229533',\n",
       "    'artist_uri': 'spotify:artist:1UTPBmNbXNTittyMJrNkvw',\n",
       "    'artist_name': 'Blake Shelton',\n",
       "    'pos': '44',\n",
       "    'album_name': 'Loaded: The Best Of Blake Shelton',\n",
       "    'track_uri': 'spotify:track:68Pux358EOhXmQqln37bj4',\n",
       "    'album_uri': 'spotify:album:7qyfoJ9YCVfBnePdxBFbhx',\n",
       "    'track_name': 'God Gave Me You'},\n",
       "   {'duration_ms': '210720',\n",
       "    'artist_uri': 'spotify:artist:1UTPBmNbXNTittyMJrNkvw',\n",
       "    'artist_name': 'Blake Shelton',\n",
       "    'pos': '45',\n",
       "    'album_name': 'Loaded: The Best Of Blake Shelton',\n",
       "    'track_uri': 'spotify:track:0y44Oz1T9uWDKg4SFDWRWH',\n",
       "    'album_uri': 'spotify:album:7qyfoJ9YCVfBnePdxBFbhx',\n",
       "    'track_name': 'Honey Bee'},\n",
       "   {'duration_ms': '235386',\n",
       "    'artist_uri': 'spotify:artist:6roFdX1y5BYSbp60OTJWMd',\n",
       "    'artist_name': 'Tim McGraw',\n",
       "    'pos': '46',\n",
       "    'album_name': 'Sundown Heaven Town',\n",
       "    'track_uri': 'spotify:track:3LbvNFkqDTrE1liGMmZBDL',\n",
       "    'album_uri': 'spotify:album:39ZUc3Efz2TH8RbPeDTMOB',\n",
       "    'track_name': 'Shotgun Rider'},\n",
       "   {'duration_ms': '215226',\n",
       "    'artist_uri': 'spotify:artist:6roFdX1y5BYSbp60OTJWMd',\n",
       "    'artist_name': 'Tim McGraw',\n",
       "    'pos': '47',\n",
       "    'album_name': 'Love Story',\n",
       "    'track_uri': 'spotify:track:1VuFPJ1EI9mtc6FmK3RMFL',\n",
       "    'album_uri': 'spotify:album:04n1d6ioeumQRlAj0JBID2',\n",
       "    'track_name': 'Just to See You Smile'},\n",
       "   {'duration_ms': '277400',\n",
       "    'artist_uri': 'spotify:artist:6roFdX1y5BYSbp60OTJWMd',\n",
       "    'artist_name': 'Tim McGraw',\n",
       "    'pos': '48',\n",
       "    'album_name': 'Number One Hits',\n",
       "    'track_uri': 'spotify:track:2D2tn77f5ZrADmf8h4zR3t',\n",
       "    'album_uri': 'spotify:album:1ckBGyrkltenXO6WNFkqxj',\n",
       "    'track_name': 'Felt Good On My Lips'},\n",
       "   {'duration_ms': '243520',\n",
       "    'artist_uri': 'spotify:artist:3grHWM9bx2E9vwJCdlRv9O',\n",
       "    'artist_name': 'Kenny Chesney',\n",
       "    'pos': '49',\n",
       "    'album_name': \"Hemingway's Whiskey\",\n",
       "    'track_uri': 'spotify:track:3pkzJjJXfdDjhpXx639MIH',\n",
       "    'album_uri': 'spotify:album:0EJVUQGqNRxYBBCS0OLqY7',\n",
       "    'track_name': 'Somewhere With You'},\n",
       "   {'duration_ms': '266920',\n",
       "    'artist_uri': 'spotify:artist:13YmWQJFwgZrd4bf5IjMY4',\n",
       "    'artist_name': 'Brad Paisley',\n",
       "    'pos': '50',\n",
       "    'album_name': 'Original Album Classics',\n",
       "    'track_uri': 'spotify:track:6jsvHrnb4TFp9X4Samx3jD',\n",
       "    'album_uri': 'spotify:album:5MQaOex0UOSUqbQolWKWjg',\n",
       "    'track_name': \"She's Everything\"},\n",
       "   {'duration_ms': '323040',\n",
       "    'artist_uri': 'spotify:artist:0u2FHSq3ln94y5Q57xazwf',\n",
       "    'artist_name': 'Keith Urban',\n",
       "    'pos': '51',\n",
       "    'album_name': 'Golden Road',\n",
       "    'track_uri': 'spotify:track:6oBWomqWwisfkdCeCZYD7V',\n",
       "    'album_uri': 'spotify:album:56k96UDsZd4nBpNZrY5fOF',\n",
       "    'track_name': 'Somebody Like You'},\n",
       "   {'duration_ms': '199746',\n",
       "    'artist_uri': 'spotify:artist:070kGpqtESdDsLb3gdMIyx',\n",
       "    'artist_name': 'Easton Corbin',\n",
       "    'pos': '52',\n",
       "    'album_name': 'About To Get Real',\n",
       "    'track_uri': 'spotify:track:6WCqjXvMxAN2yP4dzeoyhF',\n",
       "    'album_uri': 'spotify:album:4ac8fv4VYxKSLoSz1L8SjO',\n",
       "    'track_name': 'Baby Be My Love Song'},\n",
       "   {'duration_ms': '228186',\n",
       "    'artist_uri': 'spotify:artist:0u2FHSq3ln94y5Q57xazwf',\n",
       "    'artist_name': 'Keith Urban',\n",
       "    'pos': '53',\n",
       "    'album_name': 'Defying Gravity',\n",
       "    'track_uri': 'spotify:track:1Q8BwH9SLmp5kq8JeEh5qk',\n",
       "    'album_uri': 'spotify:album:2FiijtcVKr2b6UJgar7Cdk',\n",
       "    'track_name': 'Sweet Thing'},\n",
       "   {'duration_ms': '280853',\n",
       "    'artist_uri': 'spotify:artist:6roFdX1y5BYSbp60OTJWMd',\n",
       "    'artist_name': 'Tim McGraw',\n",
       "    'pos': '54',\n",
       "    'album_name': 'Love Story',\n",
       "    'track_uri': 'spotify:track:2ruFSNVfeUgYdbo1Nhm8PI',\n",
       "    'album_uri': 'spotify:album:04n1d6ioeumQRlAj0JBID2',\n",
       "    'track_name': 'My Best Friend'},\n",
       "   {'duration_ms': '241613',\n",
       "    'artist_uri': 'spotify:artist:0BvkDsjIUla7X0k6CSWh1I',\n",
       "    'artist_name': 'Luke Bryan',\n",
       "    'pos': '55',\n",
       "    'album_name': 'Kill The Lights',\n",
       "    'track_uri': 'spotify:track:5XFu5S1vBY7sNHlheCapOz',\n",
       "    'album_uri': 'spotify:album:0WtCqmpVN7rRGfDMSWSXBA',\n",
       "    'track_name': 'Strip It Down'},\n",
       "   {'duration_ms': '210573',\n",
       "    'artist_uri': 'spotify:artist:5Zq7R5qmi58ByYyBQTlNuk',\n",
       "    'artist_name': 'Lee Brice',\n",
       "    'pos': '56',\n",
       "    'album_name': \"I Don't Dance\",\n",
       "    'track_uri': 'spotify:track:64BRpXYAYAw9UFtfSfoXKf',\n",
       "    'album_uri': 'spotify:album:1Ug5qpIXouUHY5hpFj6575',\n",
       "    'track_name': \"That don't sound like You\"},\n",
       "   {'duration_ms': '199853',\n",
       "    'artist_uri': 'spotify:artist:0BvkDsjIUla7X0k6CSWh1I',\n",
       "    'artist_name': 'Luke Bryan',\n",
       "    'pos': '57',\n",
       "    'album_name': 'Kill The Lights',\n",
       "    'track_uri': 'spotify:track:386DfI5sZ0eJi1i6SZVqLw',\n",
       "    'album_uri': 'spotify:album:0WtCqmpVN7rRGfDMSWSXBA',\n",
       "    'track_name': 'Way Way Back'},\n",
       "   {'duration_ms': '273586',\n",
       "    'artist_uri': 'spotify:artist:0u2FHSq3ln94y5Q57xazwf',\n",
       "    'artist_name': 'Keith Urban',\n",
       "    'pos': '58',\n",
       "    'album_name': 'Get Closer',\n",
       "    'track_uri': 'spotify:track:5inaLuIZnBLS2rIpM6T2lr',\n",
       "    'album_uri': 'spotify:album:4qQj8UZRD03bQjMRuM3q6v',\n",
       "    'track_name': 'Long Hot Summer'},\n",
       "   {'duration_ms': '239400',\n",
       "    'artist_uri': 'spotify:artist:0u2FHSq3ln94y5Q57xazwf',\n",
       "    'artist_name': 'Keith Urban',\n",
       "    'pos': '59',\n",
       "    'album_name': 'Fuse',\n",
       "    'track_uri': 'spotify:track:1JEHGggblzBijoYmPoAmf9',\n",
       "    'album_uri': 'spotify:album:6LJH0InZpmgymwZ3hpsUYD',\n",
       "    'track_name': 'Even The Stars Fall 4 U'},\n",
       "   {'duration_ms': '228906',\n",
       "    'artist_uri': 'spotify:artist:0qSX3s5pJnAlSsgsCne8Cz',\n",
       "    'artist_name': 'Brett Eldredge',\n",
       "    'pos': '60',\n",
       "    'album_name': 'Bring You Back',\n",
       "    'track_uri': 'spotify:track:5FVuERsYqtKKAaWe62NBnv',\n",
       "    'album_uri': 'spotify:album:7weU5IWFfeueNG5V68CTTT',\n",
       "    'track_name': 'Mean To Me'},\n",
       "   {'duration_ms': '168332',\n",
       "    'artist_uri': 'spotify:artist:0q2lY1ZzFckzciuoMtUvck',\n",
       "    'artist_name': 'Canaan Smith',\n",
       "    'pos': '61',\n",
       "    'album_name': 'Bronco',\n",
       "    'track_uri': 'spotify:track:4K7dgGjZ0VxlsAOmhxIBXP',\n",
       "    'album_uri': 'spotify:album:40hl9x5G7YelVvXQGroLa2',\n",
       "    'track_name': 'Mad Love'},\n",
       "   {'duration_ms': '269346',\n",
       "    'artist_uri': 'spotify:artist:5BKzvAPtNXnt0LwzGvKOH3',\n",
       "    'artist_name': 'Aaron Watson',\n",
       "    'pos': '62',\n",
       "    'album_name': 'The Underdog',\n",
       "    'track_uri': 'spotify:track:5ZlPmjDhZi1qQWVHiaU7MU',\n",
       "    'album_uri': 'spotify:album:0WpJ5lF5E7CmILsqKWE4Lm',\n",
       "    'track_name': 'That Look'},\n",
       "   {'duration_ms': '199013',\n",
       "    'artist_uri': 'spotify:artist:070kGpqtESdDsLb3gdMIyx',\n",
       "    'artist_name': 'Easton Corbin',\n",
       "    'pos': '63',\n",
       "    'album_name': 'All Over The Road',\n",
       "    'track_uri': 'spotify:track:5qNkZdbdfL9tQm1ppZmUrW',\n",
       "    'album_uri': 'spotify:album:48vOVvwuTXRNdiaW8NpAJ3',\n",
       "    'track_name': \"Lovin' You Is Fun\"},\n",
       "   {'duration_ms': '190666',\n",
       "    'artist_uri': 'spotify:artist:2COi3lJPZHP2CjJBfofGwh',\n",
       "    'artist_name': 'Greg Bates',\n",
       "    'pos': '64',\n",
       "    'album_name': 'Did It For The Girl',\n",
       "    'track_uri': 'spotify:track:1TKXEcpmuV3FIOvzVHsTeR',\n",
       "    'album_uri': 'spotify:album:77nnEiLjwidmY18RCAYLJ7',\n",
       "    'track_name': 'Did It For The Girl'},\n",
       "   {'duration_ms': '150266',\n",
       "    'artist_uri': 'spotify:artist:2qgvmDsc4jrqbAbjq1HGM2',\n",
       "    'artist_name': 'Rodney Atkins',\n",
       "    'pos': '65',\n",
       "    'album_name': 'Greatest Hits',\n",
       "    'track_uri': 'spotify:track:23xpUWW82seMXmy6Caa0Jr',\n",
       "    'album_uri': 'spotify:album:7MrGi6ZuozUbEevhFTo8dw',\n",
       "    'track_name': 'Eat Sleep Love You Repeat'},\n",
       "   {'duration_ms': '188253',\n",
       "    'artist_uri': 'spotify:artist:3oSJ7TBVCWMDMiYjXNiCKE',\n",
       "    'artist_name': 'Kane Brown',\n",
       "    'pos': '66',\n",
       "    'album_name': 'Kane Brown',\n",
       "    'track_uri': 'spotify:track:7zVCrzzEJU7u24sbJPXA5W',\n",
       "    'album_uri': 'spotify:album:4hhvgHjPqUOAYkclDkhL2T',\n",
       "    'track_name': 'What Ifs'},\n",
       "   {'duration_ms': '215013',\n",
       "    'artist_uri': 'spotify:artist:1YSoHvvSAY0oOJW7VxJx3M',\n",
       "    'artist_name': 'Trent Harmon',\n",
       "    'pos': '67',\n",
       "    'album_name': 'Trent Harmon',\n",
       "    'track_uri': 'spotify:track:6VzugG03A5OieXT0BZmZxe',\n",
       "    'album_uri': 'spotify:album:49yGJcukFJpH2PexP1yTe8',\n",
       "    'track_name': 'There’s A Girl'},\n",
       "   {'duration_ms': '224853',\n",
       "    'artist_uri': 'spotify:artist:0fiWOxhsBsQQvFDtxUQWo0',\n",
       "    'artist_name': 'Brett Young',\n",
       "    'pos': '68',\n",
       "    'album_name': 'Brett Young',\n",
       "    'track_uri': 'spotify:track:10M2Ex445zw585Ducldzkw',\n",
       "    'album_uri': 'spotify:album:6MTPPsqX8KnmDWmnQmbxJ5',\n",
       "    'track_name': \"In Case You Didn't Know\"},\n",
       "   {'duration_ms': '214177',\n",
       "    'artist_uri': 'spotify:artist:7lDVEkjIURPMyUYwoQRrpw',\n",
       "    'artist_name': 'Ryan Hurd',\n",
       "    'pos': '69',\n",
       "    'album_name': 'Ryan Hurd - EP',\n",
       "    'track_uri': 'spotify:track:1vtlFENFwePxExgcz8STd8',\n",
       "    'album_uri': 'spotify:album:6wVnoDiRPI8RDgQT2RH3PO',\n",
       "    'track_name': 'Hold You Back'},\n",
       "   {'duration_ms': '234640',\n",
       "    'artist_uri': 'spotify:artist:3VStI6m5Ig9FAyUaa0lYAP',\n",
       "    'artist_name': 'James Otto',\n",
       "    'pos': '70',\n",
       "    'album_name': 'Sunset Man',\n",
       "    'track_uri': 'spotify:track:4b0XF7CDpJEBAdVHMw7amV',\n",
       "    'album_uri': 'spotify:album:79uExtsVJH2aNcS2Xu4Cim',\n",
       "    'track_name': \"Just Got Started Lovin' You\"},\n",
       "   {'duration_ms': '224960',\n",
       "    'artist_uri': 'spotify:artist:0oBEeN6BCxEgMogzThqrPf',\n",
       "    'artist_name': 'Big & Rich',\n",
       "    'pos': '71',\n",
       "    'album_name': 'Gravity',\n",
       "    'track_uri': 'spotify:track:0WgQTMtmw8qJievyeqfnnS',\n",
       "    'album_uri': 'spotify:album:2tSzSmTxrvk5cXlx2tVmNw',\n",
       "    'track_name': 'Run Away with You'},\n",
       "   {'duration_ms': '234026',\n",
       "    'artist_uri': 'spotify:artist:30e8DmahrEamvLbFRPdWmk',\n",
       "    'artist_name': 'Justin Moore',\n",
       "    'pos': '72',\n",
       "    'album_name': 'Outlaws Like Me',\n",
       "    'track_uri': 'spotify:track:3mHAyclWdtFASQuobdnDf8',\n",
       "    'album_uri': 'spotify:album:43WYprY30K1r0pbDmf3amq',\n",
       "    'track_name': 'Til My Last Day'},\n",
       "   {'duration_ms': '217386',\n",
       "    'artist_uri': 'spotify:artist:5Zq7R5qmi58ByYyBQTlNuk',\n",
       "    'artist_name': 'Lee Brice',\n",
       "    'pos': '73',\n",
       "    'album_name': 'Love Like Crazy',\n",
       "    'track_uri': 'spotify:track:6Ozp6ac86CSHMik8lbvJuM',\n",
       "    'album_uri': 'spotify:album:0Iybpv18tfdTUqJ6mhhZb8',\n",
       "    'track_name': 'Love Like Crazy'},\n",
       "   {'duration_ms': '180720',\n",
       "    'artist_uri': 'spotify:artist:30e8DmahrEamvLbFRPdWmk',\n",
       "    'artist_name': 'Justin Moore',\n",
       "    'pos': '74',\n",
       "    'album_name': 'Off The Beaten Path',\n",
       "    'track_uri': 'spotify:track:5ZMFVgZSYvbq3SmgRwaGMa',\n",
       "    'album_uri': 'spotify:album:7uCnHbfLZEdH1733LZ2i2F',\n",
       "    'track_name': 'Point At You'},\n",
       "   {'duration_ms': '209786',\n",
       "    'artist_uri': 'spotify:artist:5Zq7R5qmi58ByYyBQTlNuk',\n",
       "    'artist_name': 'Lee Brice',\n",
       "    'pos': '75',\n",
       "    'album_name': 'Hard 2 Love',\n",
       "    'track_uri': 'spotify:track:3oyMHCAAcnWFdcGuVgwfhd',\n",
       "    'album_uri': 'spotify:album:0RnVSSUbSBEjk5MlQZhYYP',\n",
       "    'track_name': 'A Woman Like You'},\n",
       "   {'duration_ms': '194173',\n",
       "    'artist_uri': 'spotify:artist:1n2pb9Tsfe4SwAjmUac6YT',\n",
       "    'artist_name': 'Jake Owen',\n",
       "    'pos': '76',\n",
       "    'album_name': 'Barefoot Blue Jean Night',\n",
       "    'track_uri': 'spotify:track:7oizkVPKiJYU5CyTjrcVp0',\n",
       "    'album_uri': 'spotify:album:4GeJssW5iLOSLOIXhLfOUJ',\n",
       "    'track_name': 'The One That Got Away'},\n",
       "   {'duration_ms': '229533',\n",
       "    'artist_uri': 'spotify:artist:1UTPBmNbXNTittyMJrNkvw',\n",
       "    'artist_name': 'Blake Shelton',\n",
       "    'pos': '77',\n",
       "    'album_name': 'Loaded: The Best Of Blake Shelton',\n",
       "    'track_uri': 'spotify:track:68Pux358EOhXmQqln37bj4',\n",
       "    'album_uri': 'spotify:album:7qyfoJ9YCVfBnePdxBFbhx',\n",
       "    'track_name': 'God Gave Me You'},\n",
       "   {'duration_ms': '280853',\n",
       "    'artist_uri': 'spotify:artist:6roFdX1y5BYSbp60OTJWMd',\n",
       "    'artist_name': 'Tim McGraw',\n",
       "    'pos': '78',\n",
       "    'album_name': 'Love Story',\n",
       "    'track_uri': 'spotify:track:2ruFSNVfeUgYdbo1Nhm8PI',\n",
       "    'album_uri': 'spotify:album:04n1d6ioeumQRlAj0JBID2',\n",
       "    'track_name': 'My Best Friend'},\n",
       "   {'duration_ms': '263466',\n",
       "    'artist_uri': 'spotify:artist:6roFdX1y5BYSbp60OTJWMd',\n",
       "    'artist_name': 'Tim McGraw',\n",
       "    'pos': '79',\n",
       "    'album_name': 'Let It Go',\n",
       "    'track_uri': 'spotify:track:28zGAyu24l5tUHXcd6V8YD',\n",
       "    'album_uri': 'spotify:album:47bt3mVEJg8ei4lhB8xjQo',\n",
       "    'track_name': 'Shotgun Rider'},\n",
       "   {'duration_ms': '213893',\n",
       "    'artist_uri': 'spotify:artist:5q8HGNo0BjLWaTAhRtbwxa',\n",
       "    'artist_name': 'Brantley Gilbert',\n",
       "    'pos': '80',\n",
       "    'album_name': 'Just As I Am',\n",
       "    'track_uri': 'spotify:track:6azG0KWf9hElvK0hIUKRdV',\n",
       "    'album_uri': 'spotify:album:2TRJMLAU1nVzGA7Zpvkl7L',\n",
       "    'track_name': 'My Baby’s Guns N’ Roses'},\n",
       "   {'duration_ms': '286520',\n",
       "    'artist_uri': 'spotify:artist:5q8HGNo0BjLWaTAhRtbwxa',\n",
       "    'artist_name': 'Brantley Gilbert',\n",
       "    'pos': '81',\n",
       "    'album_name': 'Halfway To Heaven',\n",
       "    'track_uri': 'spotify:track:4WnY4W5KrqglCdIus8X9Bo',\n",
       "    'album_uri': 'spotify:album:3yWeEEaC5xs7FgzwRgjm1p',\n",
       "    'track_name': \"You Don't Know Her Like I Do\"},\n",
       "   {'duration_ms': '252866',\n",
       "    'artist_uri': 'spotify:artist:5q8HGNo0BjLWaTAhRtbwxa',\n",
       "    'artist_name': 'Brantley Gilbert',\n",
       "    'pos': '82',\n",
       "    'album_name': 'Halfway To Heaven',\n",
       "    'track_uri': 'spotify:track:28ov70yrukmJDAFtiThdTS',\n",
       "    'album_uri': 'spotify:album:3yWeEEaC5xs7FgzwRgjm1p',\n",
       "    'track_name': 'More Than Miles'},\n",
       "   {'duration_ms': '186080',\n",
       "    'artist_uri': 'spotify:artist:6x2LnllRG5uGarZMsD4iO8',\n",
       "    'artist_name': 'Thomas Rhett',\n",
       "    'pos': '83',\n",
       "    'album_name': 'It Goes Like This',\n",
       "    'track_uri': 'spotify:track:6GsAD8PgHxmEuIPTG8GP3M',\n",
       "    'album_uri': 'spotify:album:2ZHYOFW5giX6a4n5eqTnUB',\n",
       "    'track_name': 'It Goes Like This'},\n",
       "   {'duration_ms': '223626',\n",
       "    'artist_uri': 'spotify:artist:6x2LnllRG5uGarZMsD4iO8',\n",
       "    'artist_name': 'Thomas Rhett',\n",
       "    'pos': '84',\n",
       "    'album_name': 'Life Changes',\n",
       "    'track_uri': 'spotify:track:2d48mamATjby7wgPjdrSOQ',\n",
       "    'album_uri': 'spotify:album:4w5Jvreahp3yvLqc4vCr9I',\n",
       "    'track_name': 'Craving You'},\n",
       "   {'duration_ms': '222400',\n",
       "    'artist_uri': 'spotify:artist:2lRH2dgU5Kk4Bc5phmII4T',\n",
       "    'artist_name': 'LANCO',\n",
       "    'pos': '85',\n",
       "    'album_name': 'LANCO - EP',\n",
       "    'track_uri': 'spotify:track:0kdiUZDcLIFw0Buo9r0Q4z',\n",
       "    'album_uri': 'spotify:album:38F6kTymTY9ue6j3TvDQ2F',\n",
       "    'track_name': 'Greatest Love Story'},\n",
       "   {'duration_ms': '154706',\n",
       "    'artist_uri': 'spotify:artist:2hJPr4lk7Q8SSvCVBl9fWM',\n",
       "    'artist_name': 'Kip Moore',\n",
       "    'pos': '86',\n",
       "    'album_name': 'SLOWHEART',\n",
       "    'track_uri': 'spotify:track:73WWkaWkIRSP3MYGZ14aY4',\n",
       "    'album_uri': 'spotify:album:03hlPprQQU9VN1H4GaDWoi',\n",
       "    'track_name': 'More Girls Like You'},\n",
       "   {'duration_ms': '196421',\n",
       "    'artist_uri': 'spotify:artist:6WY7D3jk8zTrHtmkqqo5GI',\n",
       "    'artist_name': 'Maren Morris',\n",
       "    'pos': '87',\n",
       "    'album_name': 'HERO (Deluxe Edition)',\n",
       "    'track_uri': 'spotify:track:09iyGiljLWRYXdRazFkdtJ',\n",
       "    'album_uri': 'spotify:album:4sSXylKcBB3p47VfrBJlfK',\n",
       "    'track_name': 'I Could Use a Love Song'},\n",
       "   {'duration_ms': '236865',\n",
       "    'artist_uri': 'spotify:artist:7H6dkUChT5EoOQtUVMg4cN',\n",
       "    'artist_name': 'Hunter Hayes',\n",
       "    'pos': '88',\n",
       "    'album_name': 'Hunter Hayes (Encore)',\n",
       "    'track_uri': 'spotify:track:4FkgULes13bk2eHrsJg4q9',\n",
       "    'album_uri': 'spotify:album:5hVo5O3pGkc1VibXveW8gx',\n",
       "    'track_name': 'I Want Crazy - Encore'},\n",
       "   {'duration_ms': '248426',\n",
       "    'artist_uri': 'spotify:artist:3grHWM9bx2E9vwJCdlRv9O',\n",
       "    'artist_name': 'Kenny Chesney',\n",
       "    'pos': '89',\n",
       "    'album_name': 'Welcome To The Fishbowl',\n",
       "    'track_uri': 'spotify:track:6BCrbWBpb8d6KWmEqZ41tr',\n",
       "    'album_uri': 'spotify:album:4u1IZuRRLb6tkP14kvAkGw',\n",
       "    'track_name': 'Come Over'},\n",
       "   {'duration_ms': '241240',\n",
       "    'artist_uri': 'spotify:artist:6pBNfggcZZDCmb0p92OnGn',\n",
       "    'artist_name': 'Chase Rice',\n",
       "    'pos': '90',\n",
       "    'album_name': 'Ignite the Night (Party Edition)',\n",
       "    'track_uri': 'spotify:track:1CoOHJAHtKEDnUBrp3nKAB',\n",
       "    'album_uri': 'spotify:album:2d3Oldg5aHbR601FdNk6b0',\n",
       "    'track_name': 'Ride (feat. Macy Maloy)'},\n",
       "   {'duration_ms': '215920',\n",
       "    'artist_uri': 'spotify:artist:2hJPr4lk7Q8SSvCVBl9fWM',\n",
       "    'artist_name': 'Kip Moore',\n",
       "    'pos': '91',\n",
       "    'album_name': 'Up All Night',\n",
       "    'track_uri': 'spotify:track:75p6fgACKYIyIhsoG411SZ',\n",
       "    'album_uri': 'spotify:album:191BU6Uvnf7oNTjO4n36Yu',\n",
       "    'track_name': 'Hey Pretty Girl'},\n",
       "   {'duration_ms': '207760',\n",
       "    'artist_uri': 'spotify:artist:1mfDfLsMxYcOOZkzBxvSVW',\n",
       "    'artist_name': 'Cole Swindell',\n",
       "    'pos': '92',\n",
       "    'album_name': 'You Should Be Here',\n",
       "    'track_uri': 'spotify:track:2O6BLVmD4xdHyKg4B1ZNeD',\n",
       "    'album_uri': 'spotify:album:7EZEhfO3ULNRHwX2jaiGei',\n",
       "    'track_name': 'Making My Way to You'},\n",
       "   {'duration_ms': '223706',\n",
       "    'artist_uri': 'spotify:artist:0oBEeN6BCxEgMogzThqrPf',\n",
       "    'artist_name': 'Big & Rich',\n",
       "    'pos': '93',\n",
       "    'album_name': 'Gravity',\n",
       "    'track_uri': 'spotify:track:6hQNZOmjGuiJuArVQLSKro',\n",
       "    'album_uri': 'spotify:album:2tSzSmTxrvk5cXlx2tVmNw',\n",
       "    'track_name': 'Look at You'},\n",
       "   {'duration_ms': '214560',\n",
       "    'artist_uri': 'spotify:artist:5q8HGNo0BjLWaTAhRtbwxa',\n",
       "    'artist_name': 'Brantley Gilbert',\n",
       "    'pos': '94',\n",
       "    'album_name': 'Halfway To Heaven',\n",
       "    'track_uri': 'spotify:track:4FcOYKkhIXgvO787zu0Cxy',\n",
       "    'album_uri': 'spotify:album:3yWeEEaC5xs7FgzwRgjm1p',\n",
       "    'track_name': 'My Kind Of Crazy'},\n",
       "   {'duration_ms': '164026',\n",
       "    'artist_uri': 'spotify:artist:3oSJ7TBVCWMDMiYjXNiCKE',\n",
       "    'artist_name': 'Kane Brown',\n",
       "    'pos': '95',\n",
       "    'album_name': 'Chapter 1 - EP',\n",
       "    'track_uri': 'spotify:track:6oJe2ZmepeYTtsHedYwwLr',\n",
       "    'album_uri': 'spotify:album:5Ts9XJ1G4UWKW2vgPTbyt0',\n",
       "    'track_name': 'There Goes My Everything'},\n",
       "   {'duration_ms': '222320',\n",
       "    'artist_uri': 'spotify:artist:3oSJ7TBVCWMDMiYjXNiCKE',\n",
       "    'artist_name': 'Kane Brown',\n",
       "    'pos': '96',\n",
       "    'album_name': 'Kane Brown',\n",
       "    'track_uri': 'spotify:track:0vtKLjkpdHoysT5ZPcwgA7',\n",
       "    'album_uri': 'spotify:album:4hhvgHjPqUOAYkclDkhL2T',\n",
       "    'track_name': 'Better Place'},\n",
       "   {'duration_ms': '169565',\n",
       "    'artist_uri': 'spotify:artist:3oSJ7TBVCWMDMiYjXNiCKE',\n",
       "    'artist_name': 'Kane Brown',\n",
       "    'pos': '97',\n",
       "    'album_name': 'Last Minute Late Night - Single',\n",
       "    'track_uri': 'spotify:track:3Sso0f19u0o5HavJErdZEN',\n",
       "    'album_uri': 'spotify:album:4XUkagfCTG1jc1dpUemE23',\n",
       "    'track_name': 'Last Minute Late Night'},\n",
       "   {'duration_ms': '179320',\n",
       "    'artist_uri': 'spotify:artist:3oSJ7TBVCWMDMiYjXNiCKE',\n",
       "    'artist_name': 'Kane Brown',\n",
       "    'pos': '98',\n",
       "    'album_name': 'Kane Brown',\n",
       "    'track_uri': 'spotify:track:03sNRFeWvYitmksOjDTSeB',\n",
       "    'album_uri': 'spotify:album:4hhvgHjPqUOAYkclDkhL2T',\n",
       "    'track_name': 'Pull It Off'},\n",
       "   {'duration_ms': '211720',\n",
       "    'artist_uri': 'spotify:artist:0qSX3s5pJnAlSsgsCne8Cz',\n",
       "    'artist_name': 'Brett Eldredge',\n",
       "    'pos': '99',\n",
       "    'album_name': 'Brett Eldredge',\n",
       "    'track_uri': 'spotify:track:43CFDpciGFDm226POTLEXU',\n",
       "    'album_uri': 'spotify:album:1NUKNYLtePSiZnQj0QeZlo',\n",
       "    'track_name': 'Love Someone'},\n",
       "   {'duration_ms': '161240',\n",
       "    'artist_uri': 'spotify:artist:78YqeIji3mgAS2K1Maca6x',\n",
       "    'artist_name': 'Dylan Scott',\n",
       "    'pos': '100',\n",
       "    'album_name': 'Dylan Scott (Deluxe Edition)',\n",
       "    'track_uri': 'spotify:track:6vVGtMC5tlknogHoSzIInH',\n",
       "    'album_uri': 'spotify:album:2zSuxzKE7PIi9LhCk3uL6o',\n",
       "    'track_name': \"Can't Take Her Anywhere\"},\n",
       "   {'duration_ms': '216960',\n",
       "    'artist_uri': 'spotify:artist:1E2AEtxaFaJtH0lO7kgNKw',\n",
       "    'artist_name': 'Russell Dickerson',\n",
       "    'pos': '101',\n",
       "    'album_name': 'Yours',\n",
       "    'track_uri': 'spotify:track:6RSNKGdv3nDTHqgw4bdzyF',\n",
       "    'album_uri': 'spotify:album:2iarUPEwf9aLuvE0PDvpfi',\n",
       "    'track_name': 'Yours'},\n",
       "   {'duration_ms': '324466',\n",
       "    'artist_uri': 'spotify:artist:3grHWM9bx2E9vwJCdlRv9O',\n",
       "    'artist_name': 'Kenny Chesney',\n",
       "    'pos': '102',\n",
       "    'album_name': 'When The Sun Goes Down',\n",
       "    'track_uri': 'spotify:track:2oalKRlxTriLRlCUGxT3yC',\n",
       "    'album_uri': 'spotify:album:052CF6cpp0nAH67yuUrIp7',\n",
       "    'track_name': 'Anything But Mine'},\n",
       "   {'duration_ms': '217840',\n",
       "    'artist_uri': 'spotify:artist:070kGpqtESdDsLb3gdMIyx',\n",
       "    'artist_name': 'Easton Corbin',\n",
       "    'pos': '103',\n",
       "    'album_name': 'A Girl Like You',\n",
       "    'track_uri': 'spotify:track:3AsNVBJ7LHsltdu9490ZiS',\n",
       "    'album_uri': 'spotify:album:48SPP51vLUiTTlou3bZZr9',\n",
       "    'track_name': 'A Girl Like You'},\n",
       "   {'duration_ms': '256573',\n",
       "    'artist_uri': 'spotify:artist:4MoAOfV4ROWofLG3a3hhBN',\n",
       "    'artist_name': 'Jon Pardi',\n",
       "    'pos': '104',\n",
       "    'album_name': 'California Sunrise',\n",
       "    'track_uri': 'spotify:track:5Bd5ry1IcRhTutirnhhQft',\n",
       "    'album_uri': 'spotify:album:1DTBcVfk3zXPHRmgpY6rFZ',\n",
       "    'track_name': 'California Sunrise'},\n",
       "   {'duration_ms': '200533',\n",
       "    'artist_uri': 'spotify:artist:1By9QBFnjZAoI83BZppHlt',\n",
       "    'artist_name': 'Billy Currington',\n",
       "    'pos': '105',\n",
       "    'album_name': 'We Are Tonight',\n",
       "    'track_uri': 'spotify:track:4CcrLWFQY4dRGMbUR59cSp',\n",
       "    'album_uri': 'spotify:album:1UrEMAvTDJdsJsZdsBux4h',\n",
       "    'track_name': 'Hey Girl'},\n",
       "   {'duration_ms': '163773',\n",
       "    'artist_uri': 'spotify:artist:30e8DmahrEamvLbFRPdWmk',\n",
       "    'artist_name': 'Justin Moore',\n",
       "    'pos': '106',\n",
       "    'album_name': 'Outlaws Like Me',\n",
       "    'track_uri': 'spotify:track:7uMkuUxYUTWEgj7xbxHyh4',\n",
       "    'album_uri': 'spotify:album:43WYprY30K1r0pbDmf3amq',\n",
       "    'track_name': 'My Kind Of Woman'},\n",
       "   {'duration_ms': '171120',\n",
       "    'artist_uri': 'spotify:artist:3FfvYsEGaIb52QPXhg4DcH',\n",
       "    'artist_name': 'Jason Aldean',\n",
       "    'pos': '107',\n",
       "    'album_name': 'Night Train',\n",
       "    'track_uri': 'spotify:track:3gVRILe7XCyNakb6sy5umX',\n",
       "    'album_uri': 'spotify:album:2uXHwdc2aTcUP2EhXKhPRu',\n",
       "    'track_name': 'When She Says Baby'},\n",
       "   {'duration_ms': '194680',\n",
       "    'artist_uri': 'spotify:artist:3FfvYsEGaIb52QPXhg4DcH',\n",
       "    'artist_name': 'Jason Aldean',\n",
       "    'pos': '108',\n",
       "    'album_name': 'Night Train',\n",
       "    'track_uri': 'spotify:track:0B4fFt3yD4kZr7xPdg6cp7',\n",
       "    'album_uri': 'spotify:album:2uXHwdc2aTcUP2EhXKhPRu',\n",
       "    'track_name': 'Staring at the Sun'},\n",
       "   {'duration_ms': '239413',\n",
       "    'artist_uri': 'spotify:artist:0BvkDsjIUla7X0k6CSWh1I',\n",
       "    'artist_name': 'Luke Bryan',\n",
       "    'pos': '109',\n",
       "    'album_name': \"Doin' My Thing\",\n",
       "    'track_uri': 'spotify:track:7A5CReD6yWe0rrkJym34QI',\n",
       "    'album_uri': 'spotify:album:13pqUKo7eRvMKFGpfCGyEF',\n",
       "    'track_name': 'Do I'},\n",
       "   {'duration_ms': '271813',\n",
       "    'artist_uri': 'spotify:artist:3grHWM9bx2E9vwJCdlRv9O',\n",
       "    'artist_name': 'Kenny Chesney',\n",
       "    'pos': '110',\n",
       "    'album_name': 'The Road And The Radio',\n",
       "    'track_uri': 'spotify:track:5pgmgHNxiq9w9XuthMKzJS',\n",
       "    'album_uri': 'spotify:album:5uMLCobPh02IG3fyH0Dzec',\n",
       "    'track_name': 'Beer In Mexico'},\n",
       "   {'duration_ms': '190640',\n",
       "    'artist_uri': 'spotify:artist:1E2AEtxaFaJtH0lO7kgNKw',\n",
       "    'artist_name': 'Russell Dickerson',\n",
       "    'pos': '111',\n",
       "    'album_name': 'Yours',\n",
       "    'track_uri': 'spotify:track:4EpLU30bi1KNWkBTfgZkoK',\n",
       "    'album_uri': 'spotify:album:2iarUPEwf9aLuvE0PDvpfi',\n",
       "    'track_name': 'Every Little Thing'},\n",
       "   {'duration_ms': '207126',\n",
       "    'artist_uri': 'spotify:artist:1E2AEtxaFaJtH0lO7kgNKw',\n",
       "    'artist_name': 'Russell Dickerson',\n",
       "    'pos': '112',\n",
       "    'album_name': \"That's My Girl - Single\",\n",
       "    'track_uri': 'spotify:track:15KIxlXlomcNwSelqVvLcF',\n",
       "    'album_uri': 'spotify:album:029WX82mN9ePgiriWYAKJO',\n",
       "    'track_name': \"That's My Girl\"},\n",
       "   {'duration_ms': '185706',\n",
       "    'artist_uri': 'spotify:artist:1dID9zgn0OV0Y8ud7Mh2tS',\n",
       "    'artist_name': 'Dustin Lynch',\n",
       "    'pos': '113',\n",
       "    'album_name': 'Current Mood',\n",
       "    'track_uri': 'spotify:track:7rdK9NSJIRBZAiXC0vuBS9',\n",
       "    'album_uri': 'spotify:album:23cuZhPWDfX1uKD4qwuv7t',\n",
       "    'track_name': \"I'd Be Jealous Too\"},\n",
       "   {'duration_ms': '181506',\n",
       "    'artist_uri': 'spotify:artist:0RKP52f5PNDCRZ9Luq2Sr7',\n",
       "    'artist_name': 'Jerrod Niemann',\n",
       "    'pos': '114',\n",
       "    'album_name': 'This Ride',\n",
       "    'track_uri': 'spotify:track:5FyR0TL98UajTLRWwkKGBg',\n",
       "    'album_uri': 'spotify:album:10OPPTAZUYlfhgl4Pr3B4T',\n",
       "    'track_name': 'I Got This'},\n",
       "   {'duration_ms': '261800',\n",
       "    'artist_uri': 'spotify:artist:30e8DmahrEamvLbFRPdWmk',\n",
       "    'artist_name': 'Justin Moore',\n",
       "    'pos': '115',\n",
       "    'album_name': \"Kinda Don't Care\",\n",
       "    'track_uri': 'spotify:track:5XQv5uep3VmhEuDWeFwRep',\n",
       "    'album_uri': 'spotify:album:0S5QmbBEftEpSgPd9uYgQv',\n",
       "    'track_name': \"Kinda Don't Care\"}],\n",
       "  'num_edits': 35,\n",
       "  'duration_ms': 25061399,\n",
       "  'num_artists': 44,\n",
       "  'description': 'they all whipped'}]"
      ]
     },
     "execution_count": 43,
     "metadata": {
      "tags": []
     },
     "output_type": "execute_result"
    }
   ],
   "source": [
    "# convert df to rdd\n",
    "RDD = DF2.rdd.map(lambda x: x.asDict())\n",
    "RDD.take(1)"
   ]
  },
  {
   "cell_type": "code",
   "execution_count": null,
   "metadata": {
    "colab": {
     "base_uri": "https://localhost:8080/"
    },
    "executionInfo": {
     "elapsed": 5677,
     "status": "ok",
     "timestamp": 1605675283513,
     "user": {
      "displayName": "Huicong Qian",
      "photoUrl": "https://lh3.googleusercontent.com/a-/AOh14Giug9tTklYnMZRUJRva1qiUyruwLzJFlAo9cIZg=s64",
      "userId": "13622378530222341484"
     },
     "user_tz": 300
    },
    "id": "hPy-cYlURqpY",
    "outputId": "9f352889-5f09-470a-fd7c-58bbd47a4817"
   },
   "outputs": [
    {
     "data": {
      "text/plain": [
       "[('spotify:track:4Fz1WWr5o0OrlIcZxcyZtK', 'On The Way Home', 'John Mayer'),\n",
       " ('spotify:track:4DJhi02qpssGdY5WPxzwhI', 'Tell Mama', 'The Civil Wars'),\n",
       " ('spotify:track:5pRvd7BtQZ42S9zegc0nOa',\n",
       "  'Atlas - From “The Hunger Games: Catching Fire”/Soundtrack',\n",
       "  'Coldplay'),\n",
       " ('spotify:track:48Jhybk2ZpPrnFb3oXdh6Z', \"Don't Matter\", 'Kings of Leon'),\n",
       " ('spotify:track:30SjdIdTMhBSe33nFnBFkC', 'Temple', 'Kings of Leon')]"
      ]
     },
     "execution_count": 44,
     "metadata": {
      "tags": []
     },
     "output_type": "execute_result"
    }
   ],
   "source": [
    "tracks = RDD.flatMap(lambda x: x['tracks']).map(lambda x: (x['track_uri'],x['track_name'],x['artist_name'])).distinct().cache()\n",
    "tracks.take(5)"
   ]
  },
  {
   "cell_type": "code",
   "execution_count": null,
   "metadata": {
    "id": "QcC54PqzRwfU"
   },
   "outputs": [],
   "source": [
    "tracks_uri = tracks.map(lambda x: x[0]).collect()\n",
    "track_uri_id = tracks.map(lambda x: x[0]).zipWithIndex().collectAsMap()   # create dic[track_uri] = track_id\n",
    "track_id_name = tracks.zipWithIndex().map(lambda x: (x[1],x[0][1:])).collectAsMap()    # create dic[track_id] = (track_name, artist_name)"
   ]
  },
  {
   "cell_type": "markdown",
   "metadata": {
    "id": "ZQ5G9LnOSBd0"
   },
   "source": [
    "# item to item recommendation system"
   ]
  },
  {
   "cell_type": "code",
   "execution_count": null,
   "metadata": {
    "colab": {
     "base_uri": "https://localhost:8080/"
    },
    "executionInfo": {
     "elapsed": 25733,
     "status": "ok",
     "timestamp": 1605675314044,
     "user": {
      "displayName": "Huicong Qian",
      "photoUrl": "https://lh3.googleusercontent.com/a-/AOh14Giug9tTklYnMZRUJRva1qiUyruwLzJFlAo9cIZg=s64",
      "userId": "13622378530222341484"
     },
     "user_tz": 300
    },
    "id": "4I5DB7PEQW1W",
    "outputId": "b8c93a46-1a29-4286-eda8-ca189ceefa27"
   },
   "outputs": [
    {
     "data": {
      "text/plain": [
       "array([[0, 0, 0, ..., 0, 0, 0],\n",
       "       [0, 0, 0, ..., 0, 0, 0],\n",
       "       [0, 0, 0, ..., 0, 0, 0],\n",
       "       ...,\n",
       "       [0, 0, 0, ..., 0, 0, 0],\n",
       "       [0, 0, 0, ..., 0, 0, 0],\n",
       "       [0, 0, 0, ..., 0, 0, 0]], dtype=uint8)"
      ]
     },
     "execution_count": 46,
     "metadata": {
      "tags": []
     },
     "output_type": "execute_result"
    }
   ],
   "source": [
    "# create matrix: row=pid, column=track_uri, value=1 if track in playlist or 0 otherwise\n",
    "L = RDD.map(lambda x: [i['track_uri'] for i in x['tracks']]).map(lambda x: [int(i in x) for i in tracks_uri]).collect()\n",
    "M = csr_matrix(L, dtype='uint8')\n",
    "M.toarray()"
   ]
  },
  {
   "cell_type": "code",
   "execution_count": null,
   "metadata": {
    "colab": {
     "base_uri": "https://localhost:8080/"
    },
    "executionInfo": {
     "elapsed": 166,
     "status": "ok",
     "timestamp": 1605670401390,
     "user": {
      "displayName": "Huicong Qian",
      "photoUrl": "https://lh3.googleusercontent.com/a-/AOh14Giug9tTklYnMZRUJRva1qiUyruwLzJFlAo9cIZg=s64",
      "userId": "13622378530222341484"
     },
     "user_tz": 300
    },
    "id": "nmQRXLU3S2bM",
    "outputId": "ebd8d957-6299-4439-9730-0321589436be"
   },
   "outputs": [
    {
     "data": {
      "text/plain": [
       "(1000, 36600)"
      ]
     },
     "execution_count": 74,
     "metadata": {
      "tags": []
     },
     "output_type": "execute_result"
    }
   ],
   "source": [
    "M.shape"
   ]
  },
  {
   "cell_type": "code",
   "execution_count": null,
   "metadata": {
    "colab": {
     "base_uri": "https://localhost:8080/"
    },
    "executionInfo": {
     "elapsed": 1075,
     "status": "ok",
     "timestamp": 1605675318112,
     "user": {
      "displayName": "Huicong Qian",
      "photoUrl": "https://lh3.googleusercontent.com/a-/AOh14Giug9tTklYnMZRUJRva1qiUyruwLzJFlAo9cIZg=s64",
      "userId": "13622378530222341484"
     },
     "user_tz": 300
    },
    "id": "M5q7JYlRQY-B",
    "outputId": "f4228005-ce08-4abb-a1dd-78a0d61492c1"
   },
   "outputs": [
    {
     "data": {
      "text/plain": [
       "array([[2, 1, 1, ..., 0, 0, 0],\n",
       "       [1, 1, 1, ..., 0, 0, 0],\n",
       "       [1, 1, 3, ..., 0, 0, 0],\n",
       "       ...,\n",
       "       [0, 0, 0, ..., 1, 1, 1],\n",
       "       [0, 0, 0, ..., 1, 1, 1],\n",
       "       [0, 0, 0, ..., 1, 1, 1]], dtype=uint8)"
      ]
     },
     "execution_count": 47,
     "metadata": {
      "tags": []
     },
     "output_type": "execute_result"
    }
   ],
   "source": [
    "# create Intersection matrix: row=track_uri, column=track_uri, value=number of playlists containing track i and track j\n",
    "I = M.T * M\n",
    "I.toarray()"
   ]
  },
  {
   "cell_type": "code",
   "execution_count": null,
   "metadata": {
    "colab": {
     "base_uri": "https://localhost:8080/"
    },
    "executionInfo": {
     "elapsed": 107,
     "status": "ok",
     "timestamp": 1605675320767,
     "user": {
      "displayName": "Huicong Qian",
      "photoUrl": "https://lh3.googleusercontent.com/a-/AOh14Giug9tTklYnMZRUJRva1qiUyruwLzJFlAo9cIZg=s64",
      "userId": "13622378530222341484"
     },
     "user_tz": 300
    },
    "id": "WBn-jA9HQZAp",
    "outputId": "860b295b-0980-4cb5-9dab-f12ba33ef4f9"
   },
   "outputs": [
    {
     "data": {
      "text/plain": [
       "matrix([[2],\n",
       "        [1],\n",
       "        [3],\n",
       "        ...,\n",
       "        [1],\n",
       "        [1],\n",
       "        [1]], dtype=uint8)"
      ]
     },
     "execution_count": 48,
     "metadata": {
      "tags": []
     },
     "output_type": "execute_result"
    }
   ],
   "source": [
    "# create matrix: row=track_uri, value=number of playlists containing track\n",
    "track_freq = np.sum(M, axis=0, dtype='uint8').reshape(36600,1)\n",
    "track_freq"
   ]
  },
  {
   "cell_type": "code",
   "execution_count": null,
   "metadata": {
    "colab": {
     "base_uri": "https://localhost:8080/"
    },
    "executionInfo": {
     "elapsed": 65685,
     "status": "ok",
     "timestamp": 1605675388385,
     "user": {
      "displayName": "Huicong Qian",
      "photoUrl": "https://lh3.googleusercontent.com/a-/AOh14Giug9tTklYnMZRUJRva1qiUyruwLzJFlAo9cIZg=s64",
      "userId": "13622378530222341484"
     },
     "user_tz": 300
    },
    "id": "FuDxadE8QZGR",
    "outputId": "f7fdd315-6e13-4393-a0b0-4c7c9d3b93ec"
   },
   "outputs": [
    {
     "data": {
      "text/plain": [
       "matrix([[2, 2, 4, ..., 3, 3, 3],\n",
       "        [2, 1, 3, ..., 2, 2, 2],\n",
       "        [4, 3, 3, ..., 4, 4, 4],\n",
       "        ...,\n",
       "        [3, 2, 4, ..., 1, 1, 1],\n",
       "        [3, 2, 4, ..., 1, 1, 1],\n",
       "        [3, 2, 4, ..., 1, 1, 1]], dtype=uint8)"
      ]
     },
     "execution_count": 49,
     "metadata": {
      "tags": []
     },
     "output_type": "execute_result"
    }
   ],
   "source": [
    "# create union matrix: row=track_uri, column=track_uri, value=number of playlists containing track i or track j\n",
    "U = (track_freq + track_freq.T) - I.toarray()\n",
    "U"
   ]
  },
  {
   "cell_type": "code",
   "execution_count": null,
   "metadata": {
    "colab": {
     "base_uri": "https://localhost:8080/"
    },
    "executionInfo": {
     "elapsed": 161921,
     "status": "ok",
     "timestamp": 1605675567877,
     "user": {
      "displayName": "Huicong Qian",
      "photoUrl": "https://lh3.googleusercontent.com/a-/AOh14Giug9tTklYnMZRUJRva1qiUyruwLzJFlAo9cIZg=s64",
      "userId": "13622378530222341484"
     },
     "user_tz": 300
    },
    "id": "IPm75AQ4QZES",
    "outputId": "04c0cd09-43e0-4da3-cb31-b0e5c9aa5abe"
   },
   "outputs": [
    {
     "data": {
      "text/plain": [
       "matrix([[1.    , 0.5   , 0.25  , ..., 0.    , 0.    , 0.    ],\n",
       "        [0.5   , 1.    , 0.3333, ..., 0.    , 0.    , 0.    ],\n",
       "        [0.25  , 0.3333, 1.    , ..., 0.    , 0.    , 0.    ],\n",
       "        ...,\n",
       "        [0.    , 0.    , 0.    , ..., 1.    , 1.    , 1.    ],\n",
       "        [0.    , 0.    , 0.    , ..., 1.    , 1.    , 1.    ],\n",
       "        [0.    , 0.    , 0.    , ..., 1.    , 1.    , 1.    ]],\n",
       "       dtype=float16)"
      ]
     },
     "execution_count": 50,
     "metadata": {
      "tags": []
     },
     "output_type": "execute_result"
    }
   ],
   "source": [
    "# create Similarity Matrix: row=track_uri, column=track_uri, value=similarity coefficient between track i and track j\n",
    "S = np.divide(I.toarray(), U, dtype='float16')\n",
    "S"
   ]
  },
  {
   "cell_type": "markdown",
   "metadata": {
    "id": "0wNSW6yFmBFs"
   },
   "source": [
    "recommend 10 songs to playlist 332000"
   ]
  },
  {
   "cell_type": "code",
   "execution_count": null,
   "metadata": {
    "colab": {
     "base_uri": "https://localhost:8080/"
    },
    "executionInfo": {
     "elapsed": 953,
     "status": "ok",
     "timestamp": 1605675711226,
     "user": {
      "displayName": "Huicong Qian",
      "photoUrl": "https://lh3.googleusercontent.com/a-/AOh14Giug9tTklYnMZRUJRva1qiUyruwLzJFlAo9cIZg=s64",
      "userId": "13622378530222341484"
     },
     "user_tz": 300
    },
    "id": "EELA_GEUnBE7",
    "outputId": "b45e9fa4-6d30-45af-dc9d-8d22a726f51a"
   },
   "outputs": [
    {
     "data": {
      "text/plain": [
       "[28458,\n",
       " 27461,\n",
       " 11932,\n",
       " 24748,\n",
       " 18949,\n",
       " 4592,\n",
       " 14720,\n",
       " 14715,\n",
       " 472,\n",
       " 26430,\n",
       " 29441,\n",
       " 692,\n",
       " 4925,\n",
       " 34754,\n",
       " 13882,\n",
       " 29443,\n",
       " 19194,\n",
       " 29439,\n",
       " 35444,\n",
       " 35445,\n",
       " 35446,\n",
       " 35447,\n",
       " 693,\n",
       " 30027,\n",
       " 12224,\n",
       " 694,\n",
       " 31482,\n",
       " 31483,\n",
       " 34665,\n",
       " 18243,\n",
       " 11060,\n",
       " 695,\n",
       " 470,\n",
       " 8255,\n",
       " 13883,\n",
       " 14722,\n",
       " 26820,\n",
       " 33730,\n",
       " 22934,\n",
       " 27459,\n",
       " 4590,\n",
       " 24751,\n",
       " 18240,\n",
       " 4922,\n",
       " 30712,\n",
       " 696,\n",
       " 12223,\n",
       " 23944,\n",
       " 24752,\n",
       " 4928,\n",
       " 13884,\n",
       " 33883,\n",
       " 8818,\n",
       " 697,\n",
       " 19195,\n",
       " 19196,\n",
       " 25757,\n",
       " 19197,\n",
       " 31484,\n",
       " 24753,\n",
       " 12379,\n",
       " 13885,\n",
       " 35448,\n",
       " 13886,\n",
       " 30022,\n",
       " 8819,\n",
       " 8820,\n",
       " 14721,\n",
       " 33556,\n",
       " 13887,\n",
       " 8821,\n",
       " 698,\n",
       " 35449,\n",
       " 4998,\n",
       " 31483,\n",
       " 19198,\n",
       " 18905,\n",
       " 30712,\n",
       " 19195,\n",
       " 19199,\n",
       " 13888,\n",
       " 19200,\n",
       " 24211,\n",
       " 4898,\n",
       " 33560,\n",
       " 30291,\n",
       " 29444,\n",
       " 8822,\n",
       " 29570,\n",
       " 7387,\n",
       " 4595,\n",
       " 26468,\n",
       " 5182,\n",
       " 5183,\n",
       " 5184,\n",
       " 24754,\n",
       " 19201,\n",
       " 28459,\n",
       " 28460,\n",
       " 22441,\n",
       " 31485,\n",
       " 14729,\n",
       " 15116,\n",
       " 5185,\n",
       " 24238,\n",
       " 11854,\n",
       " 5186,\n",
       " 4161,\n",
       " 5187,\n",
       " 15495,\n",
       " 26429,\n",
       " 12504,\n",
       " 8252,\n",
       " 8823,\n",
       " 28461,\n",
       " 31486]"
      ]
     },
     "execution_count": 53,
     "metadata": {
      "tags": []
     },
     "output_type": "execute_result"
    }
   ],
   "source": [
    "track_id = RDD.map(lambda x: [track_uri_id[i['track_uri']] for i in x['tracks']]).take(1)[0]"
   ]
  },
  {
   "cell_type": "code",
   "execution_count": null,
   "metadata": {
    "colab": {
     "base_uri": "https://localhost:8080/"
    },
    "executionInfo": {
     "elapsed": 157,
     "status": "ok",
     "timestamp": 1605675801653,
     "user": {
      "displayName": "Huicong Qian",
      "photoUrl": "https://lh3.googleusercontent.com/a-/AOh14Giug9tTklYnMZRUJRva1qiUyruwLzJFlAo9cIZg=s64",
      "userId": "13622378530222341484"
     },
     "user_tz": 300
    },
    "id": "vihKso-5u-nD",
    "outputId": "9f46f525-4a32-4a6e-96ad-7945aab4450a"
   },
   "outputs": [
    {
     "data": {
      "text/plain": [
       "matrix([[0., 0., 0., ..., 0., 0., 0.],\n",
       "        [0., 0., 0., ..., 0., 0., 0.],\n",
       "        [0., 0., 0., ..., 0., 0., 0.],\n",
       "        ...,\n",
       "        [0., 0., 0., ..., 0., 0., 0.],\n",
       "        [0., 0., 0., ..., 0., 0., 0.],\n",
       "        [0., 0., 0., ..., 0., 0., 0.]], dtype=float16)"
      ]
     },
     "execution_count": 54,
     "metadata": {
      "tags": []
     },
     "output_type": "execute_result"
    }
   ],
   "source": [
    "# create similarity matrix for playlist 332000: row=tracks in in playlist, column=all tracks\n",
    "S2 = S[track_id][:]\n",
    "S2"
   ]
  },
  {
   "cell_type": "code",
   "execution_count": null,
   "metadata": {
    "colab": {
     "base_uri": "https://localhost:8080/"
    },
    "executionInfo": {
     "elapsed": 249,
     "status": "ok",
     "timestamp": 1605675906373,
     "user": {
      "displayName": "Huicong Qian",
      "photoUrl": "https://lh3.googleusercontent.com/a-/AOh14Giug9tTklYnMZRUJRva1qiUyruwLzJFlAo9cIZg=s64",
      "userId": "13622378530222341484"
     },
     "user_tz": 300
    },
    "id": "2AgVdmNivZkR",
    "outputId": "8e9921ad-4f97-4b2d-c55a-1cb6b07e2416"
   },
   "outputs": [
    {
     "data": {
      "text/plain": [
       "matrix([[0., 0., 0., ..., 0., 0., 0.]], dtype=float16)"
      ]
     },
     "execution_count": 56,
     "metadata": {
      "tags": []
     },
     "output_type": "execute_result"
    }
   ],
   "source": [
    "# create sum of similarity matrix: column=all tracks, value=similarity between tracks in playlist and track i\n",
    "S2_sum = np.sum(S2,axis=0)\n",
    "S2_sum"
   ]
  },
  {
   "cell_type": "code",
   "execution_count": null,
   "metadata": {
    "colab": {
     "base_uri": "https://localhost:8080/"
    },
    "executionInfo": {
     "elapsed": 74,
     "status": "ok",
     "timestamp": 1605676535568,
     "user": {
      "displayName": "Huicong Qian",
      "photoUrl": "https://lh3.googleusercontent.com/a-/AOh14Giug9tTklYnMZRUJRva1qiUyruwLzJFlAo9cIZg=s64",
      "userId": "13622378530222341484"
     },
     "user_tz": 300
    },
    "id": "OF6kWtYexaKw",
    "outputId": "cbefe33c-11ba-4b45-9c81-4e71ba53aa8f"
   },
   "outputs": [
    {
     "data": {
      "text/plain": [
       "[('Last Minute Late Night', 'Kane Brown'),\n",
       " ('My Kind Of Woman', 'Justin Moore'),\n",
       " ('A Girl Like You', 'Easton Corbin'),\n",
       " (\"Good Lookin' Girl\", 'Luke Bryan'),\n",
       " ('Even The Stars Fall 4 U', 'Keith Urban'),\n",
       " ('My Kind Of Crazy', 'Brantley Gilbert'),\n",
       " ('Eat Sleep Love You Repeat', 'Rodney Atkins'),\n",
       " (\"Can't Take Her Anywhere\", 'Dylan Scott'),\n",
       " ('Making My Way to You', 'Cole Swindell'),\n",
       " ('Give It All We Got Tonight', 'George Strait')]"
      ]
     },
     "execution_count": 58,
     "metadata": {
      "tags": []
     },
     "output_type": "execute_result"
    }
   ],
   "source": [
    "max_idx = (-np.array(S2_sum).reshape(-1)).argsort()[:10]\n",
    "rec_tracks = [track_id_name[i] for i in max_idx]\n",
    "rec_tracks"
   ]
  },
  {
   "cell_type": "markdown",
   "metadata": {
    "id": "CxcoblDBKlS0"
   },
   "source": [
    "## ALS model 1: Rating is 1 if track in playlist or 0 otherwise."
   ]
  },
  {
   "cell_type": "code",
   "execution_count": null,
   "metadata": {
    "id": "r_7c7p2zMLm_"
   },
   "outputs": [],
   "source": [
    "from pyspark.mllib.recommendation import ALS, MatrixFactorizationModel, Rating"
   ]
  },
  {
   "cell_type": "code",
   "execution_count": null,
   "metadata": {
    "colab": {
     "base_uri": "https://localhost:8080/"
    },
    "executionInfo": {
     "elapsed": 47207,
     "status": "ok",
     "timestamp": 1605483918370,
     "user": {
      "displayName": "Huicong Qian",
      "photoUrl": "https://lh3.googleusercontent.com/a-/AOh14Giug9tTklYnMZRUJRva1qiUyruwLzJFlAo9cIZg=s64",
      "userId": "13622378530222341484"
     },
     "user_tz": 300
    },
    "id": "4lXP68TtXR9w",
    "outputId": "904e875f-bce5-42d1-8477-e36068cc5390"
   },
   "outputs": [
    {
     "data": {
      "text/plain": [
       "[Rating(user=332000, product=2179, rating=0.0),\n",
       " Rating(user=332000, product=2180, rating=0.0),\n",
       " Rating(user=332000, product=997, rating=0.0),\n",
       " Rating(user=332000, product=1880, rating=0.0),\n",
       " Rating(user=332000, product=1189, rating=0.0)]"
      ]
     },
     "execution_count": 32,
     "metadata": {
      "tags": []
     },
     "output_type": "execute_result"
    }
   ],
   "source": [
    "# create Rating(pid, track_id, rating)\n",
    "ratings1 = RDD.map(lambda x: ([j['track_uri'] for j in x['tracks']], [(x['pid'],i) for i in tracks_uri]))\\\n",
    "              .map(lambda x: [(i[0],i[1],int(i[1] in x[0])) for i in x[1]])\\\n",
    "              .map(lambda x: [(int(i[0]),track_uri_id[i[1]],i[2]) for i in x])\\\n",
    "              .flatMap(lambda x: [Rating(i[0],i[1],i[2]) for i in x]).cache()\n",
    "ratings1.take(5)"
   ]
  },
  {
   "cell_type": "code",
   "execution_count": null,
   "metadata": {
    "id": "4tj-YAUY1j6e"
   },
   "outputs": [],
   "source": [
    "train1, test1 = ratings1.randomSplit([0.7,0.3])"
   ]
  },
  {
   "cell_type": "code",
   "execution_count": null,
   "metadata": {
    "id": "sAXbmG58njtM"
   },
   "outputs": [],
   "source": [
    "model1 = ALS.trainImplicit(train1, rank=5, iterations=10, lambda_=0.01)"
   ]
  },
  {
   "cell_type": "markdown",
   "metadata": {
    "id": "Lms_iySH0Gr6"
   },
   "source": [
    "recommend 10 songs to playlist 332000"
   ]
  },
  {
   "cell_type": "code",
   "execution_count": null,
   "metadata": {
    "colab": {
     "base_uri": "https://localhost:8080/"
    },
    "executionInfo": {
     "elapsed": 332,
     "status": "ok",
     "timestamp": 1605484053634,
     "user": {
      "displayName": "Huicong Qian",
      "photoUrl": "https://lh3.googleusercontent.com/a-/AOh14Giug9tTklYnMZRUJRva1qiUyruwLzJFlAo9cIZg=s64",
      "userId": "13622378530222341484"
     },
     "user_tz": 300
    },
    "id": "mcV7rqVipDsD",
    "outputId": "cb038a7e-443d-4b05-cfc2-5ecd023f8657"
   },
   "outputs": [
    {
     "data": {
      "text/plain": [
       "[Rating(user=332000, product=25729, rating=0.05167864091169781),\n",
       " Rating(user=332000, product=15016, rating=0.050658823451894236),\n",
       " Rating(user=332000, product=25725, rating=0.049409866133737046),\n",
       " Rating(user=332000, product=18613, rating=0.04935635473453281),\n",
       " Rating(user=332000, product=273, rating=0.048191349144067995),\n",
       " Rating(user=332000, product=4058, rating=0.04499326171001025),\n",
       " Rating(user=332000, product=33153, rating=0.04292305486479599),\n",
       " Rating(user=332000, product=18615, rating=0.04290387510261779),\n",
       " Rating(user=332000, product=11146, rating=0.04259696142293747),\n",
       " Rating(user=332000, product=33110, rating=0.041621301069179745)]"
      ]
     },
     "execution_count": 35,
     "metadata": {
      "tags": []
     },
     "output_type": "execute_result"
    }
   ],
   "source": [
    "recommend1 = model1.recommendProducts(332000,10)\n",
    "recommend1"
   ]
  },
  {
   "cell_type": "code",
   "execution_count": null,
   "metadata": {
    "colab": {
     "base_uri": "https://localhost:8080/"
    },
    "executionInfo": {
     "elapsed": 83,
     "status": "ok",
     "timestamp": 1605484058691,
     "user": {
      "displayName": "Huicong Qian",
      "photoUrl": "https://lh3.googleusercontent.com/a-/AOh14Giug9tTklYnMZRUJRva1qiUyruwLzJFlAo9cIZg=s64",
      "userId": "13622378530222341484"
     },
     "user_tz": 300
    },
    "id": "W5tqZ4ODMy_A",
    "outputId": "afacd79d-4298-437e-db4c-8ba9d1872cdf"
   },
   "outputs": [
    {
     "data": {
      "text/plain": [
       "[('Esta De Parranda El Jefe', 'Fidel Rueda'),\n",
       " ('Kill Em With Kindness', 'Selena Gomez'),\n",
       " ('Tú Ya Eres Cosa Del Pasado', 'Fidel Rueda'),\n",
       " ('Brown Eyed Girl', 'Van Morrison'),\n",
       " ('Umbrella', 'Jinsang'),\n",
       " ('Californication', 'Red Hot Chili Peppers'),\n",
       " ('XO', 'Beyoncé'),\n",
       " ('Under The Bridge', 'Red Hot Chili Peppers'),\n",
       " ('How Deep Is Your Love', 'William Singe'),\n",
       " ('Lean Wit It, Rock Wit It - feat. Peanut & Charlay', 'Dem Franchize Boyz')]"
      ]
     },
     "execution_count": 36,
     "metadata": {
      "tags": []
     },
     "output_type": "execute_result"
    }
   ],
   "source": [
    "rec_songs1 = [track_id_name[r.product] for r in recommend1]\n",
    "rec_songs1"
   ]
  },
  {
   "cell_type": "markdown",
   "metadata": {
    "id": "U_Wunq4F4NLU"
   },
   "source": [
    "evaluate model1 by MSE"
   ]
  },
  {
   "cell_type": "code",
   "execution_count": null,
   "metadata": {
    "colab": {
     "base_uri": "https://localhost:8080/"
    },
    "executionInfo": {
     "elapsed": 256149,
     "status": "ok",
     "timestamp": 1605484361062,
     "user": {
      "displayName": "Huicong Qian",
      "photoUrl": "https://lh3.googleusercontent.com/a-/AOh14Giug9tTklYnMZRUJRva1qiUyruwLzJFlAo9cIZg=s64",
      "userId": "13622378530222341484"
     },
     "user_tz": 300
    },
    "id": "fKmYY8QL000a",
    "outputId": "670e5105-eee5-4d00-b679-ae36686c1406"
   },
   "outputs": [
    {
     "data": {
      "text/plain": [
       "[((332370, 9200), (0.0, 0.0)),\n",
       " ((332590, 9200), (0.0, 0.0)),\n",
       " ((332570, 9200), (0.0, 0.0)),\n",
       " ((332414, 9200), (0.0, 0.0)),\n",
       " ((332034, 9200), (0.0, 0.0))]"
      ]
     },
     "execution_count": 39,
     "metadata": {
      "tags": []
     },
     "output_type": "execute_result"
    }
   ],
   "source": [
    "pred_rate1 = model1.predictAll(test1.map(lambda x: (x[0],x[1]))).map(lambda x: ((x[0], x[1]),x[2])).join(test1.map(lambda x: ((x[0],x[1]),x[2]))).cache()\n",
    "pred_rate1.take(5)"
   ]
  },
  {
   "cell_type": "code",
   "execution_count": null,
   "metadata": {
    "colab": {
     "base_uri": "https://localhost:8080/"
    },
    "executionInfo": {
     "elapsed": 50753,
     "status": "ok",
     "timestamp": 1605484488759,
     "user": {
      "displayName": "Huicong Qian",
      "photoUrl": "https://lh3.googleusercontent.com/a-/AOh14Giug9tTklYnMZRUJRva1qiUyruwLzJFlAo9cIZg=s64",
      "userId": "13622378530222341484"
     },
     "user_tz": 300
    },
    "id": "SxHoMYO54QUi",
    "outputId": "bfab8a1d-07a0-4ce8-a8a6-566512882819"
   },
   "outputs": [
    {
     "data": {
      "text/plain": [
       "0.0018031987351745118"
      ]
     },
     "execution_count": 40,
     "metadata": {
      "tags": []
     },
     "output_type": "execute_result"
    }
   ],
   "source": [
    "MSE1 = pred_rate1.map(lambda x: (x[1][0]-x[1][1])**2).mean()\n",
    "MSE1"
   ]
  },
  {
   "cell_type": "markdown",
   "metadata": {
    "id": "pvLbAsQPMS8N"
   },
   "source": [
    "## data preprocessing - all files"
   ]
  },
  {
   "cell_type": "code",
   "execution_count": null,
   "metadata": {
    "id": "DjLSyBCeJhtz"
   },
   "outputs": [],
   "source": [
    "file_paths = ['/scratch/ISE495/2020_project_03/team-3/mpd.slice.332000-332999.json',\n",
    "              '/scratch/ISE495/2020_project_03/team-3/mpd.slice.557000-557999.json',\n",
    "              '/scratch/ISE495/2020_project_03/team-3/mpd.slice.199000-199999.json',\n",
    "              '/scratch/ISE495/2020_project_03/team-3/mpd.slice.998000-998999.json',\n",
    "              '/scratch/ISE495/2020_project_03/team-3/mpd.slice.770000-770999.json',\n",
    "              '/scratch/ISE495/2020_project_03/team-3/mpd.slice.880000-880999.json',\n",
    "              '/scratch/ISE495/2020_project_03/team-3/mpd.slice.431000-431999.json',\n",
    "              '/scratch/ISE495/2020_project_03/team-3/mpd.slice.132000-132999.json',\n",
    "              '/scratch/ISE495/2020_project_03/team-3/mpd.slice.198000-198999.json',\n",
    "              '/scratch/ISE495/2020_project_03/team-3/mpd.slice.501000-501999.json',\n",
    "              '/scratch/ISE495/2020_project_03/team-3/mpd.slice.139000-139999.json',\n",
    "              '/scratch/ISE495/2020_project_03/team-3/mpd.slice.377000-377999.json',\n",
    "              '/scratch/ISE495/2020_project_03/team-3/mpd.slice.884000-884999.json',\n",
    "              '/scratch/ISE495/2020_project_03/team-3/mpd.slice.191000-191999.json',\n",
    "              '/scratch/ISE495/2020_project_03/team-3/mpd.slice.875000-875999.json',\n",
    "              '/scratch/ISE495/2020_project_03/team-3/mpd.slice.650000-650999.json',\n",
    "              '/scratch/ISE495/2020_project_03/team-3/mpd.slice.391000-391999.json',\n",
    "              '/scratch/ISE495/2020_project_03/team-3/mpd.slice.618000-618999.json',\n",
    "              '/scratch/ISE495/2020_project_03/team-3/mpd.slice.906000-906999.json',\n",
    "              '/scratch/ISE495/2020_project_03/team-3/mpd.slice.851000-851999.json']"
   ]
  },
  {
   "cell_type": "code",
   "execution_count": null,
   "metadata": {
    "id": "_HYuxkscJhw5"
   },
   "outputs": [],
   "source": [
    "allDF = pd.DataFrame()\n",
    "for file in file_paths:\n",
    "  all_data = json.load(open(file))\n",
    "  allDF = pd.concat([allDF,pd.DataFrame.from_dict(all_data['playlists'])])"
   ]
  },
  {
   "cell_type": "code",
   "execution_count": null,
   "metadata": {
    "id": "bxznAeJiJh2N"
   },
   "outputs": [],
   "source": [
    "all_schema = StructType([StructField('name',StringType()),\n",
    "                     StructField('collaborative',StringType()),\n",
    "                     StructField('pid',StringType()),\n",
    "                     StructField('modified_at',IntegerType()),\n",
    "                     StructField('num_tracks',IntegerType()),\n",
    "                     StructField('num_albums',IntegerType()),\n",
    "                     StructField('num_followers',IntegerType()),\n",
    "                     StructField('tracks',ArrayType(MapType(StringType(),StringType()))),\n",
    "                     StructField('num_edits',IntegerType()),\n",
    "                     StructField('duration_ms',IntegerType()),\n",
    "                     StructField('num_artists',IntegerType()),\n",
    "                     StructField('description',StringType())])\n",
    "allDF2 = ss.createDataFrame(allDF,all_schema)"
   ]
  },
  {
   "cell_type": "code",
   "execution_count": null,
   "metadata": {
    "id": "tRqJffSPdMRV"
   },
   "outputs": [],
   "source": [
    "allRDD = allDF2.rdd.map(lambda x: x.asDict())"
   ]
  },
  {
   "cell_type": "markdown",
   "metadata": {
    "id": "QGxvkJLLLqrY"
   },
   "source": [
    "## ALS model2: Rating is count of artist in playlist"
   ]
  },
  {
   "cell_type": "code",
   "execution_count": null,
   "metadata": {
    "id": "fvyBaehiLsAE"
   },
   "outputs": [],
   "source": [
    "artist_idx = allRDD.flatMap(lambda x: x['tracks']).map(lambda x: x['artist_uri']).distinct().zipWithIndex()\n",
    "uri_id_artist = artist_idx.collectAsMap()   # create dic[artist_uri] = artist_id\n",
    "id_uri_artist = artist_idx.map(lambda x: (x[1],x[0])).collectAsMap()    # create dic[artist_id] = artist_uri"
   ]
  },
  {
   "cell_type": "code",
   "execution_count": null,
   "metadata": {
    "colab": {
     "base_uri": "https://localhost:8080/"
    },
    "executionInfo": {
     "elapsed": 6543,
     "status": "ok",
     "timestamp": 1605633012830,
     "user": {
      "displayName": "Huicong Qian",
      "photoUrl": "https://lh3.googleusercontent.com/a-/AOh14Giug9tTklYnMZRUJRva1qiUyruwLzJFlAo9cIZg=s64",
      "userId": "13622378530222341484"
     },
     "user_tz": 300
    },
    "id": "lELe24JsLsEl",
    "outputId": "0b891913-ecdd-4c1f-809f-f8496c3eb775"
   },
   "outputs": [
    {
     "data": {
      "text/plain": [
       "[Rating(user=332000, product=10315, rating=2.0),\n",
       " Rating(user=332000, product=5086, rating=1.0),\n",
       " Rating(user=332000, product=31075, rating=4.0),\n",
       " Rating(user=332000, product=56, rating=1.0),\n",
       " Rating(user=332000, product=46678, rating=2.0)]"
      ]
     },
     "execution_count": 60,
     "metadata": {
      "tags": []
     },
     "output_type": "execute_result"
    }
   ],
   "source": [
    "# create Rating(pid, artist_id, count of artist in playlist)\n",
    "ratings2 = allRDD.map(lambda x: [[x['pid'], i['artist_uri']] for i in x['tracks']])\\\n",
    "                 .map(lambda x: [(i[0],i[1],[i[1] for i in x].count(i[1])) for i in x]).map(set).map(list)\\\n",
    "                 .map(lambda x: [(int(i[0]),uri_id_artist[i[1]],i[2]) for i in x])\\\n",
    "                 .flatMap(lambda x: [Rating(i[0],i[1],i[2]) for i in x]).cache()\n",
    "ratings2.take(5)"
   ]
  },
  {
   "cell_type": "markdown",
   "metadata": {
    "id": "L-zlgU-vDA-G"
   },
   "source": [
    "modeling with optimal setting: % training, testing = 0.6, 0.4 and lambda_=0.0001\n"
   ]
  },
  {
   "cell_type": "code",
   "execution_count": null,
   "metadata": {
    "id": "4-L1Ds_gT72x"
   },
   "outputs": [],
   "source": [
    "train2, test2 = ratings2.randomSplit([0.6,0.4])"
   ]
  },
  {
   "cell_type": "code",
   "execution_count": null,
   "metadata": {
    "id": "kJv1vhXwT76s"
   },
   "outputs": [],
   "source": [
    "model2 = ALS.trainImplicit(train2, rank=5, iterations=10, lambda_=0.0001)"
   ]
  },
  {
   "cell_type": "markdown",
   "metadata": {
    "id": "TEkP7mU8WDhj"
   },
   "source": [
    "recommend 5 artists to playlist 332000"
   ]
  },
  {
   "cell_type": "code",
   "execution_count": null,
   "metadata": {
    "colab": {
     "base_uri": "https://localhost:8080/"
    },
    "executionInfo": {
     "elapsed": 436,
     "status": "ok",
     "timestamp": 1605633216810,
     "user": {
      "displayName": "Huicong Qian",
      "photoUrl": "https://lh3.googleusercontent.com/a-/AOh14Giug9tTklYnMZRUJRva1qiUyruwLzJFlAo9cIZg=s64",
      "userId": "13622378530222341484"
     },
     "user_tz": 300
    },
    "id": "JXYy7wxtWA1V",
    "outputId": "adf3ed1d-7ae9-42fa-dbcd-7a1bf66cda1c"
   },
   "outputs": [
    {
     "data": {
      "text/plain": [
       "[Rating(user=332000, product=120, rating=0.4851587145718874),\n",
       " Rating(user=332000, product=20986, rating=0.48199824277287573),\n",
       " Rating(user=332000, product=10316, rating=0.47097203558309086),\n",
       " Rating(user=332000, product=10338, rating=0.4546340560107405),\n",
       " Rating(user=332000, product=25906, rating=0.4462439830356786)]"
      ]
     },
     "execution_count": 67,
     "metadata": {
      "tags": []
     },
     "output_type": "execute_result"
    }
   ],
   "source": [
    "# recommend 5 artists for playlist 332000\n",
    "recommend2 = model2.recommendProducts(332000,5)\n",
    "recommend2"
   ]
  },
  {
   "cell_type": "code",
   "execution_count": null,
   "metadata": {
    "colab": {
     "base_uri": "https://localhost:8080/"
    },
    "executionInfo": {
     "elapsed": 139,
     "status": "ok",
     "timestamp": 1605633233779,
     "user": {
      "displayName": "Huicong Qian",
      "photoUrl": "https://lh3.googleusercontent.com/a-/AOh14Giug9tTklYnMZRUJRva1qiUyruwLzJFlAo9cIZg=s64",
      "userId": "13622378530222341484"
     },
     "user_tz": 300
    },
    "id": "AYinQ19QWM2g",
    "outputId": "22b59c81-9f43-4277-8519-619e19e82b36"
   },
   "outputs": [
    {
     "data": {
      "text/plain": [
       "['spotify:artist:2Q0MyH5YMI5HPQjFjlq5g3',\n",
       " 'spotify:artist:4hfcSstwnyuBoek1dQwLkG',\n",
       " 'spotify:artist:2cnMpRsOVqtPMfq7YiFE6K',\n",
       " 'spotify:artist:21mKp7DqtSNHhCAU2ugvUw',\n",
       " 'spotify:artist:1IueXOQyABrMOprrzwQJWN']"
      ]
     },
     "execution_count": 68,
     "metadata": {
      "tags": []
     },
     "output_type": "execute_result"
    }
   ],
   "source": [
    "recommend2_uri = [id_uri_artist[r.product] for r in recommend2]\n",
    "recommend2_uri"
   ]
  },
  {
   "cell_type": "markdown",
   "metadata": {
    "id": "2WvEp0B5WZcR"
   },
   "source": [
    "recommend top 2 tracks for each recommended artist by sp.artist_top_tracks"
   ]
  },
  {
   "cell_type": "code",
   "execution_count": null,
   "metadata": {
    "id": "J5fbgPVdWU5x"
   },
   "outputs": [],
   "source": [
    "import spotipy\n",
    "from spotipy.oauth2 import SpotifyClientCredentials"
   ]
  },
  {
   "cell_type": "code",
   "execution_count": null,
   "metadata": {
    "id": "3F3-xBb8Wlik"
   },
   "outputs": [],
   "source": [
    "cid = '09e83aa879454e2f9fce57559cf9c756'\n",
    "secret = 'f3eaf812c5d64571a53b4b9b46f613fc'\n",
    "\n",
    "auth = SpotifyClientCredentials(client_id=cid, client_secret=secret)\n",
    "sp = spotipy.Spotify(auth_manager=auth)"
   ]
  },
  {
   "cell_type": "code",
   "execution_count": null,
   "metadata": {
    "id": "gCpAn4j9Wn5l"
   },
   "outputs": [],
   "source": [
    "# define function to get top tracks in (song, performers) format\n",
    "def top_track(artist_uri):\n",
    "  rec_track = sp.artist_top_tracks(artist_uri)\n",
    "  \n",
    "  result = []\n",
    "  for track in rec_track['tracks']:\n",
    "    performers = [performer['name'] for performer in track['artists']]\n",
    "    song = track['name']\n",
    "    result.append((song, performers))\n",
    "\n",
    "  return result"
   ]
  },
  {
   "cell_type": "code",
   "execution_count": null,
   "metadata": {
    "colab": {
     "base_uri": "https://localhost:8080/"
    },
    "executionInfo": {
     "elapsed": 1151,
     "status": "ok",
     "timestamp": 1605633259406,
     "user": {
      "displayName": "Huicong Qian",
      "photoUrl": "https://lh3.googleusercontent.com/a-/AOh14Giug9tTklYnMZRUJRva1qiUyruwLzJFlAo9cIZg=s64",
      "userId": "13622378530222341484"
     },
     "user_tz": 300
    },
    "id": "8kT4SA1KWrlz",
    "outputId": "631519da-3d01-4039-fc1e-6100859b8c46"
   },
   "outputs": [
    {
     "data": {
      "text/plain": [
       "[[('Goodnight', ['Nick Murphy']),\n",
       "  ('Basic Needs (feat. Nick Murphy)', ['Heathered Pearls', 'Nick Murphy'])],\n",
       " [('Brothers On The Slide', ['Cymande']), ('Dove', ['Cymande'])],\n",
       " [('Jump - 2015 Remaster', ['Van Halen']),\n",
       "  ('Panama - 2015 Remaster', ['Van Halen'])],\n",
       " [('HEART ATTACK (feat. lau.ra)',\n",
       "   ['BRONSON', 'ODESZA', 'Golden Features', 'lau.ra']),\n",
       "  ('Say My Name (feat. Zyra)', ['ODESZA', 'Zyra'])],\n",
       " [('Lasting Lover', ['Sigala', 'James Arthur']),\n",
       "  ('Heaven On My Mind (with Sigala)', ['Becky Hill', 'Sigala'])]]"
      ]
     },
     "execution_count": 72,
     "metadata": {
      "tags": []
     },
     "output_type": "execute_result"
    }
   ],
   "source": [
    "# select top 2 songs from each artist\n",
    "rec_songs2 = [top_track(u)[:2] for u in recommend2_uri]\n",
    "rec_songs2"
   ]
  },
  {
   "cell_type": "markdown",
   "metadata": {
    "id": "ld-1amVrXU7e"
   },
   "source": [
    "evaluate model2 by MSE"
   ]
  },
  {
   "cell_type": "code",
   "execution_count": null,
   "metadata": {
    "colab": {
     "base_uri": "https://localhost:8080/"
    },
    "executionInfo": {
     "elapsed": 17199,
     "status": "ok",
     "timestamp": 1605633293429,
     "user": {
      "displayName": "Huicong Qian",
      "photoUrl": "https://lh3.googleusercontent.com/a-/AOh14Giug9tTklYnMZRUJRva1qiUyruwLzJFlAo9cIZg=s64",
      "userId": "13622378530222341484"
     },
     "user_tz": 300
    },
    "id": "4ArxSO2eXV6x",
    "outputId": "1ec31a7b-5b56-4df3-b7a0-698019ec85e0"
   },
   "outputs": [
    {
     "data": {
      "text/plain": [
       "[((880541, 5153), (0.004501868692411483, 3.0)),\n",
       " ((880541, 42209), (0.004010503314397784, 1.0)),\n",
       " ((191721, 26785), (0.0011392404071107315, 1.0)),\n",
       " ((875211, 31171), (0.029850198197061403, 1.0)),\n",
       " ((875211, 17135), (0.0034516384320349763, 2.0))]"
      ]
     },
     "execution_count": 73,
     "metadata": {
      "tags": []
     },
     "output_type": "execute_result"
    }
   ],
   "source": [
    "pred_rate2 = model2.predictAll(test2.map(lambda x: (x[0],x[1]))).map(lambda x: ((x[0],x[1]),x[2])).join(test2.map(lambda x: ((x[0],x[1]),x[2]))).cache()\n",
    "pred_rate2.take(5)"
   ]
  },
  {
   "cell_type": "code",
   "execution_count": null,
   "metadata": {
    "colab": {
     "base_uri": "https://localhost:8080/"
    },
    "executionInfo": {
     "elapsed": 1575,
     "status": "ok",
     "timestamp": 1605633309195,
     "user": {
      "displayName": "Huicong Qian",
      "photoUrl": "https://lh3.googleusercontent.com/a-/AOh14Giug9tTklYnMZRUJRva1qiUyruwLzJFlAo9cIZg=s64",
      "userId": "13622378530222341484"
     },
     "user_tz": 300
    },
    "id": "QngzhAw4XbwS",
    "outputId": "d0fd92fc-c0a0-44e1-eba2-a2a5cff2868a"
   },
   "outputs": [
    {
     "data": {
      "text/plain": [
       "10.6021608348214"
      ]
     },
     "execution_count": 74,
     "metadata": {
      "tags": []
     },
     "output_type": "execute_result"
    }
   ],
   "source": [
    "MSE2 = pred_rate2.map(lambda x: (x[1][0]-x[1][1])**2).mean()\n",
    "MSE2"
   ]
  },
  {
   "cell_type": "code",
   "execution_count": null,
   "metadata": {
    "id": "38nEneVjjfzW"
   },
   "outputs": [],
   "source": [
    "ss.stop()\n",
    "sc.stop()"
   ]
  }
 ],
 "metadata": {
  "colab": {
   "collapsed_sections": [
    "jklluguHhyV9",
    "CxcoblDBKlS0"
   ],
   "name": "2. Collaborative Filtering.ipynb",
   "provenance": []
  },
  "kernelspec": {
   "display_name": "Python 3",
   "language": "python",
   "name": "python3"
  },
  "language_info": {
   "codemirror_mode": {
    "name": "ipython",
    "version": 3
   },
   "file_extension": ".py",
   "mimetype": "text/x-python",
   "name": "python",
   "nbconvert_exporter": "python",
   "pygments_lexer": "ipython3",
   "version": "3.7.3"
  }
 },
 "nbformat": 4,
 "nbformat_minor": 1
}
